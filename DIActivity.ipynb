{
 "cells": [
  {
   "cell_type": "code",
   "execution_count": 1,
   "metadata": {},
   "outputs": [],
   "source": [
    "import pandas as pd\n",
    "import geopandas as gp\n",
    "import numpy as np\n",
    "import seaborn as sns\n",
    "import matplotlib.pyplot as plt\n",
    "from geopy.geocoders import Nominatim\n",
    "import shapely\n",
    "import math"
   ]
  },
  {
   "cell_type": "code",
   "execution_count": 2,
   "metadata": {},
   "outputs": [
    {
     "data": {
      "text/plain": [
       "False"
      ]
     },
     "execution_count": 2,
     "metadata": {},
     "output_type": "execute_result"
    }
   ],
   "source": [
    "import os\n",
    "#had to add GDAL_DATA variable to system variables and set value to the folder of gdal in C:\\Users\\mishaun\\AppData\\Local\\Continuum\\anaconda3\\Library\\share\\gdal on my work computer\n",
    "'GDAL_DATA' in os.environ"
   ]
  },
  {
   "cell_type": "code",
   "execution_count": 3,
   "metadata": {},
   "outputs": [],
   "source": [
    "#These 2 lines of code will allow for all output to be displayed within a given cell\n",
    "from IPython.core.interactiveshell import InteractiveShell\n",
    "InteractiveShell.ast_node_interactivity = \"all\""
   ]
  },
  {
   "cell_type": "markdown",
   "metadata": {},
   "source": [
    "# Reading in Data"
   ]
  },
  {
   "cell_type": "code",
   "execution_count": 4,
   "metadata": {},
   "outputs": [],
   "source": [
    "shapezipfile = (\"zip://Data/BLMWY-2020-Q1-3_WGS84.zip\")\n",
    "tractshp = gp.read_file(shapezipfile, encoding = \"utf-8\")"
   ]
  },
  {
   "cell_type": "code",
   "execution_count": 5,
   "metadata": {
    "scrolled": false
   },
   "outputs": [],
   "source": [
    "#this is shapefile downloaded from drillinginfo holding well information\n",
    "prodshp = gp.read_file(\"zip://Data/production.ZIP\")\n",
    "permitshp = gp.read_file(\"zip://Data/permits.ZIP\")\n",
    "\n",
    "#reading in csv of leases - converting to a GeoDataFrame - initial coord system is epsg:4326\n",
    "leases = pd.read_csv(\"Data/LeasesTable.CSV\")\n",
    "leasesgeo = gp.GeoDataFrame(leases, crs = {'init': 'epsg:4326'}, geometry=gp.points_from_xy(leases[\"Longitude (WGS84)\"], leases[\"Latitude (WGS84)\"]))"
   ]
  },
  {
   "cell_type": "markdown",
   "metadata": {},
   "source": [
    "### Trimming and Cleaning Data"
   ]
  },
  {
   "cell_type": "code",
   "execution_count": 6,
   "metadata": {},
   "outputs": [
    {
     "data": {
      "text/plain": [
       "Index(['State/Province', 'Effective Date', 'Record Date',\n",
       "       'Expiration of Primary Term', 'Term (Months)', 'Grantor',\n",
       "       'Grantee Alias', 'Royalty', 'Bonus', 'Area (Acres)', 'Section',\n",
       "       'Township', 'Township Direction', 'Range', 'Range Direction',\n",
       "       'Vol/Page', 'Record Number', 'Instrument Type', 'Instrument Date',\n",
       "       'County/Parish', 'Options/Extensions', 'DI Basin', 'Ext. Bonus',\n",
       "       'Ext. Term (Months)', 'Abstract', 'Block', 'BLM', 'State Lease',\n",
       "       'Grantee', 'Grantor Address', 'Grantee Address', 'Max Depth',\n",
       "       'Majority Legal Assignee', 'DI Subplay', 'Min Depth',\n",
       "       'Majority Assignment Effective Date', 'Latitude (WGS84)', 'DI Play',\n",
       "       'Majority Legal Assignee Interest', 'Longitude (WGS84)',\n",
       "       'Majority Assignment Vol/Page', 'geometry'],\n",
       "      dtype='object')"
      ]
     },
     "execution_count": 6,
     "metadata": {},
     "output_type": "execute_result"
    }
   ],
   "source": [
    "leasesgeo.columns"
   ]
  },
  {
   "cell_type": "code",
   "execution_count": 7,
   "metadata": {},
   "outputs": [],
   "source": [
    "leasesgeo.drop(columns = ['Instrument Type', 'Instrument Date','Options/Extensions', 'DI Basin', 'Ext. Bonus',\n",
    "       'Ext. Term (Months)', 'Abstract', 'Block', 'BLM', 'State Lease',\n",
    "       'Grantee', 'Grantor Address', 'Grantee Address', 'Max Depth',\n",
    "       'Majority Legal Assignee', 'DI Subplay', 'Min Depth',\n",
    "       'Majority Assignment Effective Date','Majority Legal Assignee Interest','Majority Assignment Vol/Page'], inplace = True)"
   ]
  },
  {
   "cell_type": "code",
   "execution_count": 8,
   "metadata": {},
   "outputs": [
    {
     "data": {
      "text/plain": [
       "Index(['APIUWI', 'OpAlias', 'LeaseName', 'WellNo', 'County', 'Reservoir',\n",
       "       'ProdType', 'ProdStatus', 'DrillType', 'TD', 'SpudDate', 'FstPrdDate',\n",
       "       'LstPrdDate', 'MoProd', 'CumGas', 'DailyGas', 'CumLiq', 'DailyLiq',\n",
       "       'LatestLiq', 'LatestGas', 'CumWtr', 'CumBOE', 'DISubplay', '1moLiq',\n",
       "       '1moGas', '6moLiq', 'DIBasin', '6moGas', '6moBOE', '6moWater', 'DIPlay',\n",
       "       'PracIP_Liq', 'PracIP_BOE', 'PracIP_Gas', 'PrcIPCFGED', 'LatestWtr',\n",
       "       'Prior12Liq', 'Prior12Gas', 'LastTestDt', 'Prior12Wtr', 'LastFlwPrs',\n",
       "       'LastWHSIP', '2moGOR', 'LatestGOR', 'CumGOR', 'Lst12Yield', '2moYield',\n",
       "       'LatestYld', 'PeakGas', 'PkGasMoNo', 'PeakLiq', 'PkLiqMoNo', 'PeakBOE',\n",
       "       'PkBOEMoNo', 'PkMMCFGE', 'PkMMCFGMoN', 'TopPerf', 'BtmPerf', 'GasGrav',\n",
       "       'OilGrav', 'CompDate', 'WellCount', 'MaxActvWel', 'GasGather',\n",
       "       'LiqGather', 'LeaseNo', 'PerfLength', 'TVD', 'Field', 'State',\n",
       "       'District', 'GeoProvin', 'Section', 'Country', 'Township', 'Range',\n",
       "       'Latitude', 'Abstract', 'Longitude', 'Block', 'OCS_Area', 'PGC_Area',\n",
       "       'OpReported', 'Survey', 'EntityId', 'Last12Liq', 'Last12Gas',\n",
       "       'Last12Wtr', 'OtherNo', 'geometry'],\n",
       "      dtype='object')"
      ]
     },
     "execution_count": 8,
     "metadata": {},
     "output_type": "execute_result"
    }
   ],
   "source": [
    "prodshp.columns"
   ]
  },
  {
   "cell_type": "code",
   "execution_count": 9,
   "metadata": {},
   "outputs": [],
   "source": [
    "prodshp.drop(columns = ['LatestWtr','CumWtr',\n",
    "       'Prior12Liq', 'Prior12Gas', 'LastTestDt', 'Prior12Wtr', 'LastFlwPrs',\n",
    "       'LastWHSIP', '2moGOR', 'LatestGOR', 'CumGOR', 'Lst12Yield', '2moYield',\n",
    "       'LatestYld', 'PeakGas', 'PkGasMoNo', 'PeakLiq', 'PkLiqMoNo', 'PeakBOE',\n",
    "       'PkBOEMoNo', 'PkMMCFGE', 'PkMMCFGMoN', 'TopPerf', 'BtmPerf', 'GasGrav',\n",
    "       'OilGrav','CompDate', 'GasGather',\n",
    "       'LiqGather', 'LeaseNo'], inplace = True)"
   ]
  },
  {
   "cell_type": "code",
   "execution_count": 10,
   "metadata": {},
   "outputs": [
    {
     "data": {
      "text/plain": [
       "Index(['API10UWI', 'District', 'FiledDate', 'AprvdDate', 'ExpDate', 'State',\n",
       "       'County', 'OpAlias', 'LeaseName', 'WellNo', 'Formation', 'PermDepth',\n",
       "       'TVD', 'PermitType', 'WellType', 'DrillType', 'WellStatus',\n",
       "       'PermStatus', 'Field', 'OpReported', 'AmendDate', 'CntctName',\n",
       "       'CntctPhone', 'OperAddrs', 'OperCity', 'OperState', 'OperZip',\n",
       "       'OperCity30', 'Section', 'OperCity50', 'Township', 'Range', 'Block',\n",
       "       'Survey', 'TVD_UOM', 'Abstract', 'WGID', 'H2S_Area', 'Latitude',\n",
       "       'Longitude', 'OFS_Reg', 'Btm_Lat', 'Btm_Lon', 'LeaseNo', 'PermDUOM',\n",
       "       'PermitNo', 'DIBasin', 'DIPlay', 'DISubplay', 'OpCompany', 'OpTicker',\n",
       "       'geometry'],\n",
       "      dtype='object')"
      ]
     },
     "execution_count": 10,
     "metadata": {},
     "output_type": "execute_result"
    }
   ],
   "source": [
    "permitshp.columns"
   ]
  },
  {
   "cell_type": "code",
   "execution_count": 11,
   "metadata": {},
   "outputs": [],
   "source": [
    "permitshp.drop(columns = ['OpReported', 'AmendDate', 'CntctName',\n",
    "       'CntctPhone', 'OperAddrs', 'OperCity', 'OperState', 'OperZip',\n",
    "       'OperCity30', 'Section', 'OperCity50', 'Township', 'Range', 'Block',\n",
    "       'Survey', 'TVD_UOM', 'Abstract', 'WGID', 'H2S_Area','OFS_Reg', 'LeaseNo', 'PermDUOM',\n",
    "       'PermitNo','OpCompany', 'OpTicker'], inplace=True)"
   ]
  },
  {
   "cell_type": "code",
   "execution_count": null,
   "metadata": {},
   "outputs": [],
   "source": []
  },
  {
   "cell_type": "code",
   "execution_count": 12,
   "metadata": {},
   "outputs": [],
   "source": [
    "leasesgeo[\"Record Date\"] = pd.to_datetime(leasesgeo[\"Record Date\"])\n",
    "prodshp[\"FstPrdDate\"] = pd.to_datetime(prodshp[\"FstPrdDate\"])\n",
    "permitshp[\"AprvdDate\"] = pd.to_datetime(permitshp[\"AprvdDate\"])"
   ]
  },
  {
   "cell_type": "code",
   "execution_count": 13,
   "metadata": {},
   "outputs": [
    {
     "name": "stdout",
     "output_type": "stream",
     "text": [
      "<class 'geopandas.geodataframe.GeoDataFrame'>\n",
      "RangeIndex: 53266 entries, 0 to 53265\n",
      "Data columns (total 22 columns):\n",
      "State/Province                53266 non-null object\n",
      "Effective Date                31049 non-null object\n",
      "Record Date                   53266 non-null datetime64[ns]\n",
      "Expiration of Primary Term    53266 non-null object\n",
      "Term (Months)                 53266 non-null int64\n",
      "Grantor                       53266 non-null object\n",
      "Grantee Alias                 53239 non-null object\n",
      "Royalty                       33903 non-null float64\n",
      "Bonus                         18347 non-null float64\n",
      "Area (Acres)                  52506 non-null float64\n",
      "Section                       53266 non-null float64\n",
      "Township                      53266 non-null float64\n",
      "Township Direction            53266 non-null object\n",
      "Range                         53266 non-null float64\n",
      "Range Direction               53266 non-null object\n",
      "Vol/Page                      53266 non-null object\n",
      "Record Number                 53266 non-null object\n",
      "County/Parish                 53266 non-null object\n",
      "Latitude (WGS84)              53204 non-null float64\n",
      "DI Play                       41854 non-null object\n",
      "Longitude (WGS84)             53204 non-null float64\n",
      "geometry                      53266 non-null geometry\n",
      "dtypes: datetime64[ns](1), float64(8), geometry(1), int64(1), object(11)\n",
      "memory usage: 8.9+ MB\n",
      "<class 'geopandas.geodataframe.GeoDataFrame'>\n",
      "RangeIndex: 62880 entries, 0 to 62879\n",
      "Data columns (total 60 columns):\n",
      "APIUWI        62880 non-null object\n",
      "OpAlias       62792 non-null object\n",
      "LeaseName     60418 non-null object\n",
      "WellNo        57955 non-null object\n",
      "County        62880 non-null object\n",
      "Reservoir     59997 non-null object\n",
      "ProdType      62879 non-null object\n",
      "ProdStatus    62880 non-null object\n",
      "DrillType     62880 non-null object\n",
      "TD            54085 non-null float64\n",
      "SpudDate      54327 non-null object\n",
      "FstPrdDate    62880 non-null datetime64[ns]\n",
      "LstPrdDate    62880 non-null object\n",
      "MoProd        62880 non-null int64\n",
      "CumGas        56505 non-null float64\n",
      "DailyGas      52017 non-null float64\n",
      "CumLiq        55480 non-null float64\n",
      "DailyLiq      51498 non-null float64\n",
      "LatestLiq     53544 non-null float64\n",
      "LatestGas     54298 non-null float64\n",
      "CumBOE        62880 non-null float64\n",
      "DISubplay     21999 non-null object\n",
      "1moLiq        53032 non-null float64\n",
      "1moGas        52343 non-null float64\n",
      "6moLiq        53107 non-null float64\n",
      "DIBasin       60698 non-null object\n",
      "6moGas        53107 non-null float64\n",
      "6moBOE        53107 non-null float64\n",
      "6moWater      53107 non-null float64\n",
      "DIPlay        44695 non-null object\n",
      "PracIP_Liq    62880 non-null float64\n",
      "PracIP_BOE    62880 non-null float64\n",
      "PracIP_Gas    62880 non-null float64\n",
      "PrcIPCFGED    60059 non-null float64\n",
      "WellCount     62880 non-null int64\n",
      "MaxActvWel    62880 non-null int64\n",
      "PerfLength    37610 non-null float64\n",
      "TVD           1969 non-null float64\n",
      "Field         53407 non-null object\n",
      "State         62880 non-null object\n",
      "District      27946 non-null object\n",
      "GeoProvin     62771 non-null object\n",
      "Section       48889 non-null object\n",
      "Country       62880 non-null object\n",
      "Township      37322 non-null object\n",
      "Range         37300 non-null object\n",
      "Latitude      62880 non-null float64\n",
      "Abstract      13644 non-null object\n",
      "Longitude     62880 non-null float64\n",
      "Block         7630 non-null object\n",
      "OCS_Area      841 non-null object\n",
      "PGC_Area      62583 non-null object\n",
      "OpReported    62792 non-null object\n",
      "Survey        13662 non-null object\n",
      "EntityId      62880 non-null int64\n",
      "Last12Liq     55039 non-null float64\n",
      "Last12Gas     56200 non-null float64\n",
      "Last12Wtr     55521 non-null float64\n",
      "OtherNo       62880 non-null object\n",
      "geometry      62880 non-null geometry\n",
      "dtypes: datetime64[ns](1), float64(25), geometry(1), int64(4), object(29)\n",
      "memory usage: 28.8+ MB\n",
      "<class 'geopandas.geodataframe.GeoDataFrame'>\n",
      "RangeIndex: 46469 entries, 0 to 46468\n",
      "Data columns (total 27 columns):\n",
      "API10UWI      46469 non-null object\n",
      "District      27250 non-null object\n",
      "FiledDate     32816 non-null object\n",
      "AprvdDate     46469 non-null datetime64[ns]\n",
      "ExpDate       46469 non-null object\n",
      "State         46469 non-null object\n",
      "County        46469 non-null object\n",
      "OpAlias       46468 non-null object\n",
      "LeaseName     46469 non-null object\n",
      "WellNo        46127 non-null object\n",
      "Formation     46469 non-null object\n",
      "PermDepth     41574 non-null float64\n",
      "TVD           22276 non-null float64\n",
      "PermitType    46469 non-null object\n",
      "WellType      46469 non-null object\n",
      "DrillType     46469 non-null object\n",
      "WellStatus    46469 non-null object\n",
      "PermStatus    46469 non-null object\n",
      "Field         46469 non-null object\n",
      "Latitude      46469 non-null float64\n",
      "Longitude     46469 non-null float64\n",
      "Btm_Lat       42892 non-null float64\n",
      "Btm_Lon       42892 non-null float64\n",
      "DIBasin       46469 non-null object\n",
      "DIPlay        39854 non-null object\n",
      "DISubplay     15180 non-null object\n",
      "geometry      46469 non-null geometry\n",
      "dtypes: datetime64[ns](1), float64(6), geometry(1), object(19)\n",
      "memory usage: 9.6+ MB\n"
     ]
    }
   ],
   "source": [
    "leasesgeo.info()\n",
    "prodshp.info()\n",
    "permitshp.info()"
   ]
  },
  {
   "cell_type": "markdown",
   "metadata": {},
   "source": [
    "### Converting geodataframes to same coord system - UTM system for creating buffers"
   ]
  },
  {
   "cell_type": "code",
   "execution_count": 14,
   "metadata": {},
   "outputs": [],
   "source": [
    "prodshp.to_crs(epsg = 26913, inplace = True)\n",
    "permitshp.to_crs(epsg = 26913, inplace = True)\n",
    "leasesgeo.to_crs(epsg = 26913, inplace = True)\n",
    "tractshp.to_crs(epsg = 26913, inplace = True)"
   ]
  },
  {
   "cell_type": "code",
   "execution_count": 15,
   "metadata": {},
   "outputs": [
    {
     "data": {
      "text/plain": [
       "{'init': 'epsg:26913', 'no_defs': True}"
      ]
     },
     "execution_count": 15,
     "metadata": {},
     "output_type": "execute_result"
    },
    {
     "data": {
      "text/plain": [
       "{'init': 'epsg:26913', 'no_defs': True}"
      ]
     },
     "execution_count": 15,
     "metadata": {},
     "output_type": "execute_result"
    },
    {
     "data": {
      "text/plain": [
       "{'init': 'epsg:26913', 'no_defs': True}"
      ]
     },
     "execution_count": 15,
     "metadata": {},
     "output_type": "execute_result"
    }
   ],
   "source": [
    "prodshp.crs\n",
    "permitshp.crs\n",
    "leasesgeo.crs"
   ]
  },
  {
   "cell_type": "markdown",
   "metadata": {},
   "source": [
    "### Adding a column to tract shapefile data for centroids of each tract for creating buffers upon"
   ]
  },
  {
   "cell_type": "code",
   "execution_count": 16,
   "metadata": {},
   "outputs": [
    {
     "data": {
      "text/html": [
       "<div>\n",
       "<style scoped>\n",
       "    .dataframe tbody tr th:only-of-type {\n",
       "        vertical-align: middle;\n",
       "    }\n",
       "\n",
       "    .dataframe tbody tr th {\n",
       "        vertical-align: top;\n",
       "    }\n",
       "\n",
       "    .dataframe thead th {\n",
       "        text-align: right;\n",
       "    }\n",
       "</style>\n",
       "<table border=\"1\" class=\"dataframe\">\n",
       "  <thead>\n",
       "    <tr style=\"text-align: right;\">\n",
       "      <th></th>\n",
       "      <th>SaleParcel</th>\n",
       "      <th>lot_no</th>\n",
       "      <th>tract_id</th>\n",
       "      <th>short_code</th>\n",
       "      <th>label</th>\n",
       "      <th>geometry</th>\n",
       "      <th>centroids</th>\n",
       "      <th>Acres</th>\n",
       "    </tr>\n",
       "  </thead>\n",
       "  <tbody>\n",
       "    <tr>\n",
       "      <th>0</th>\n",
       "      <td>WY-201Q-105</td>\n",
       "      <td>65012</td>\n",
       "      <td>2</td>\n",
       "      <td>BLMWY-2020-Q1-3</td>\n",
       "      <td>WY-2020-03-0374</td>\n",
       "      <td>MULTIPOLYGON (((173527.819 4984155.461, 173534...</td>\n",
       "      <td>POINT (172183.913 4984182.822)</td>\n",
       "      <td>941.0</td>\n",
       "    </tr>\n",
       "    <tr>\n",
       "      <th>1</th>\n",
       "      <td>WY-201Q-063</td>\n",
       "      <td>64970</td>\n",
       "      <td>16</td>\n",
       "      <td>BLMWY-2020-Q1-3</td>\n",
       "      <td>WY-2020-03-6207</td>\n",
       "      <td>MULTIPOLYGON (((219007.722 4650891.363, 218687...</td>\n",
       "      <td>POINT (222418.619 4647579.181)</td>\n",
       "      <td>1322.0</td>\n",
       "    </tr>\n",
       "    <tr>\n",
       "      <th>2</th>\n",
       "      <td>WY-201Q-001</td>\n",
       "      <td>64908</td>\n",
       "      <td>93</td>\n",
       "      <td>BLMWY-2020-Q1-3</td>\n",
       "      <td>WY-2020-03-6613</td>\n",
       "      <td>POLYGON ((562927.151 4797521.250, 563330.976 4...</td>\n",
       "      <td>POINT (563130.227 4797125.862)</td>\n",
       "      <td>80.0</td>\n",
       "    </tr>\n",
       "    <tr>\n",
       "      <th>3</th>\n",
       "      <td>WY-201Q-002</td>\n",
       "      <td>64909</td>\n",
       "      <td>102</td>\n",
       "      <td>BLMWY-2020-Q1-3</td>\n",
       "      <td>WY-2020-03-6660</td>\n",
       "      <td>POLYGON ((514894.040 4607634.757, 515295.946 4...</td>\n",
       "      <td>POINT (515096.374 4607429.194)</td>\n",
       "      <td>40.0</td>\n",
       "    </tr>\n",
       "    <tr>\n",
       "      <th>4</th>\n",
       "      <td>WY-201Q-003</td>\n",
       "      <td>64910</td>\n",
       "      <td>89</td>\n",
       "      <td>BLMWY-2020-Q1-3</td>\n",
       "      <td>WY-2020-03-6585</td>\n",
       "      <td>MULTIPOLYGON (((518971.985 4775132.462, 519376...</td>\n",
       "      <td>POINT (520545.083 4773447.285)</td>\n",
       "      <td>2316.0</td>\n",
       "    </tr>\n",
       "  </tbody>\n",
       "</table>\n",
       "</div>"
      ],
      "text/plain": [
       "    SaleParcel  lot_no  tract_id       short_code            label  \\\n",
       "0  WY-201Q-105   65012         2  BLMWY-2020-Q1-3  WY-2020-03-0374   \n",
       "1  WY-201Q-063   64970        16  BLMWY-2020-Q1-3  WY-2020-03-6207   \n",
       "2  WY-201Q-001   64908        93  BLMWY-2020-Q1-3  WY-2020-03-6613   \n",
       "3  WY-201Q-002   64909       102  BLMWY-2020-Q1-3  WY-2020-03-6660   \n",
       "4  WY-201Q-003   64910        89  BLMWY-2020-Q1-3  WY-2020-03-6585   \n",
       "\n",
       "                                            geometry  \\\n",
       "0  MULTIPOLYGON (((173527.819 4984155.461, 173534...   \n",
       "1  MULTIPOLYGON (((219007.722 4650891.363, 218687...   \n",
       "2  POLYGON ((562927.151 4797521.250, 563330.976 4...   \n",
       "3  POLYGON ((514894.040 4607634.757, 515295.946 4...   \n",
       "4  MULTIPOLYGON (((518971.985 4775132.462, 519376...   \n",
       "\n",
       "                        centroids   Acres  \n",
       "0  POINT (172183.913 4984182.822)   941.0  \n",
       "1  POINT (222418.619 4647579.181)  1322.0  \n",
       "2  POINT (563130.227 4797125.862)    80.0  \n",
       "3  POINT (515096.374 4607429.194)    40.0  \n",
       "4  POINT (520545.083 4773447.285)  2316.0  "
      ]
     },
     "execution_count": 16,
     "metadata": {},
     "output_type": "execute_result"
    }
   ],
   "source": [
    "tractshp[\"centroids\"] = tractshp.centroid\n",
    "#calculating acres of tract, conv to acres is m^2 to acres\n",
    "tractshp['Acres'] = round(tractshp.area * 0.000247105)\n",
    "tractshp.head()"
   ]
  },
  {
   "cell_type": "code",
   "execution_count": 17,
   "metadata": {},
   "outputs": [],
   "source": [
    "#adding buffer around centroid point from tract of 3 mi (1609.34 meters = 1 mile)\n",
    "milesbuffer = 3 * 1609.34\n",
    "\n",
    "tractshp[\"buffers\"] = tractshp.centroids.apply(lambda x: x.buffer(milesbuffer,20))\n"
   ]
  },
  {
   "cell_type": "markdown",
   "metadata": {},
   "source": [
    "# Testing Spatial Filters"
   ]
  },
  {
   "cell_type": "code",
   "execution_count": 18,
   "metadata": {},
   "outputs": [],
   "source": [
    "TestT = 40\n",
    "tractTest = tractshp[tractshp[\"tract_id\"] == TestT].iloc[0]\n",
    "\n",
    "\n",
    "permFiltered = permitshp.within(tractshp[tractshp[\"tract_id\"] ==TestT][\"buffers\"].iloc[0])\n",
    "prodFiltered = prodshp.within(tractshp[tractshp[\"tract_id\"] ==TestT][\"buffers\"].iloc[0])\n",
    "leasesFiltered = leasesgeo.within(tractshp[tractshp[\"tract_id\"]==TestT][\"buffers\"].iloc[0])"
   ]
  },
  {
   "cell_type": "code",
   "execution_count": 19,
   "metadata": {},
   "outputs": [
    {
     "data": {
      "text/plain": [
       "False    46457\n",
       "True        12\n",
       "dtype: int64"
      ]
     },
     "execution_count": 19,
     "metadata": {},
     "output_type": "execute_result"
    }
   ],
   "source": [
    "permFiltered.value_counts()"
   ]
  },
  {
   "cell_type": "code",
   "execution_count": 20,
   "metadata": {},
   "outputs": [],
   "source": [
    "permittoeval = permitshp.loc[permFiltered]"
   ]
  },
  {
   "cell_type": "code",
   "execution_count": 21,
   "metadata": {},
   "outputs": [],
   "source": [
    "prodtoeval = prodshp.loc[prodFiltered]"
   ]
  },
  {
   "cell_type": "code",
   "execution_count": 22,
   "metadata": {},
   "outputs": [
    {
     "data": {
      "text/plain": [
       "False    62874\n",
       "True         6\n",
       "dtype: int64"
      ]
     },
     "execution_count": 22,
     "metadata": {},
     "output_type": "execute_result"
    }
   ],
   "source": [
    "prodFiltered.value_counts()"
   ]
  },
  {
   "cell_type": "code",
   "execution_count": 23,
   "metadata": {},
   "outputs": [
    {
     "data": {
      "text/plain": [
       "False    53264\n",
       "True         2\n",
       "dtype: int64"
      ]
     },
     "execution_count": 23,
     "metadata": {},
     "output_type": "execute_result"
    }
   ],
   "source": [
    "leasesFiltered.value_counts()"
   ]
  },
  {
   "cell_type": "code",
   "execution_count": 24,
   "metadata": {},
   "outputs": [],
   "source": [
    "leasestoeval = leasesgeo.loc[leasesFiltered]"
   ]
  },
  {
   "cell_type": "code",
   "execution_count": 25,
   "metadata": {},
   "outputs": [
    {
     "name": "stderr",
     "output_type": "stream",
     "text": [
      "/anaconda3/lib/python3.6/site-packages/ipykernel_launcher.py:1: SettingWithCopyWarning: \n",
      "A value is trying to be set on a copy of a slice from a DataFrame\n",
      "\n",
      "See the caveats in the documentation: http://pandas.pydata.org/pandas-docs/stable/indexing.html#indexing-view-versus-copy\n",
      "  \"\"\"Entry point for launching an IPython kernel.\n"
     ]
    },
    {
     "data": {
      "text/html": [
       "<div>\n",
       "<style scoped>\n",
       "    .dataframe tbody tr th:only-of-type {\n",
       "        vertical-align: middle;\n",
       "    }\n",
       "\n",
       "    .dataframe tbody tr th {\n",
       "        vertical-align: top;\n",
       "    }\n",
       "\n",
       "    .dataframe thead th {\n",
       "        text-align: right;\n",
       "    }\n",
       "</style>\n",
       "<table border=\"1\" class=\"dataframe\">\n",
       "  <thead>\n",
       "    <tr style=\"text-align: right;\">\n",
       "      <th></th>\n",
       "      <th>State/Province</th>\n",
       "      <th>Effective Date</th>\n",
       "      <th>Record Date</th>\n",
       "      <th>Expiration of Primary Term</th>\n",
       "      <th>Term (Months)</th>\n",
       "      <th>Grantor</th>\n",
       "      <th>Grantee Alias</th>\n",
       "      <th>Royalty</th>\n",
       "      <th>Bonus</th>\n",
       "      <th>Area (Acres)</th>\n",
       "      <th>...</th>\n",
       "      <th>Township Direction</th>\n",
       "      <th>Range</th>\n",
       "      <th>Range Direction</th>\n",
       "      <th>Vol/Page</th>\n",
       "      <th>Record Number</th>\n",
       "      <th>County/Parish</th>\n",
       "      <th>Latitude (WGS84)</th>\n",
       "      <th>DI Play</th>\n",
       "      <th>Longitude (WGS84)</th>\n",
       "      <th>geometry</th>\n",
       "    </tr>\n",
       "  </thead>\n",
       "  <tbody>\n",
       "    <tr>\n",
       "      <th>4777</th>\n",
       "      <td>WY</td>\n",
       "      <td>NaN</td>\n",
       "      <td>2019-09-13</td>\n",
       "      <td>2020-08-23</td>\n",
       "      <td>12</td>\n",
       "      <td>PELLATZ ROBERT D ET AL</td>\n",
       "      <td>DEVON ENERGY</td>\n",
       "      <td>NaN</td>\n",
       "      <td>NaN</td>\n",
       "      <td>0.0</td>\n",
       "      <td>...</td>\n",
       "      <td>N</td>\n",
       "      <td>71.0</td>\n",
       "      <td>W</td>\n",
       "      <td>=\"01683/0691\"</td>\n",
       "      <td>1087208</td>\n",
       "      <td>CONVERSE (WY)</td>\n",
       "      <td>43.167017</td>\n",
       "      <td>POWDER RIVER</td>\n",
       "      <td>-105.389570</td>\n",
       "      <td>POINT (468332.890 4779435.622)</td>\n",
       "    </tr>\n",
       "    <tr>\n",
       "      <th>49813</th>\n",
       "      <td>WY</td>\n",
       "      <td>NaN</td>\n",
       "      <td>2014-08-05</td>\n",
       "      <td>2024-08-05</td>\n",
       "      <td>120</td>\n",
       "      <td>BLM</td>\n",
       "      <td>MBI O&amp;G</td>\n",
       "      <td>0.125</td>\n",
       "      <td>3100.0</td>\n",
       "      <td>320.0</td>\n",
       "      <td>...</td>\n",
       "      <td>N</td>\n",
       "      <td>71.0</td>\n",
       "      <td>W</td>\n",
       "      <td>WY-1408-026/NA</td>\n",
       "      <td>WYW183606</td>\n",
       "      <td>CONVERSE (WY)</td>\n",
       "      <td>43.239942</td>\n",
       "      <td>POWDER RIVER</td>\n",
       "      <td>-105.388968</td>\n",
       "      <td>POINT (468419.520 4787533.967)</td>\n",
       "    </tr>\n",
       "  </tbody>\n",
       "</table>\n",
       "<p>2 rows × 22 columns</p>\n",
       "</div>"
      ],
      "text/plain": [
       "      State/Province Effective Date Record Date Expiration of Primary Term  \\\n",
       "4777              WY            NaN  2019-09-13                 2020-08-23   \n",
       "49813             WY            NaN  2014-08-05                 2024-08-05   \n",
       "\n",
       "       Term (Months)                  Grantor Grantee Alias  Royalty   Bonus  \\\n",
       "4777              12  PELLATZ ROBERT D ET AL   DEVON ENERGY      NaN     NaN   \n",
       "49813            120                     BLM        MBI O&G    0.125  3100.0   \n",
       "\n",
       "       Area (Acres)  ...  Township Direction  Range Range Direction  \\\n",
       "4777            0.0  ...          N            71.0      W            \n",
       "49813         320.0  ...          N            71.0      W            \n",
       "\n",
       "             Vol/Page Record Number  County/Parish Latitude (WGS84)  \\\n",
       "4777    =\"01683/0691\"       1087208  CONVERSE (WY)        43.167017   \n",
       "49813  WY-1408-026/NA     WYW183606  CONVERSE (WY)        43.239942   \n",
       "\n",
       "            DI Play  Longitude (WGS84)                        geometry  \n",
       "4777   POWDER RIVER        -105.389570  POINT (468332.890 4779435.622)  \n",
       "49813  POWDER RIVER        -105.388968  POINT (468419.520 4787533.967)  \n",
       "\n",
       "[2 rows x 22 columns]"
      ]
     },
     "execution_count": 25,
     "metadata": {},
     "output_type": "execute_result"
    }
   ],
   "source": [
    "leasestoeval.drop_duplicates(\"Record Number\",inplace = True)\n",
    "leasestoeval"
   ]
  },
  {
   "cell_type": "markdown",
   "metadata": {},
   "source": [
    "### Calculating distance between leases within 3 mi radius and tract's centroid"
   ]
  },
  {
   "cell_type": "code",
   "execution_count": 26,
   "metadata": {},
   "outputs": [
    {
     "name": "stderr",
     "output_type": "stream",
     "text": [
      "/anaconda3/lib/python3.6/site-packages/ipykernel_launcher.py:2: SettingWithCopyWarning: \n",
      "A value is trying to be set on a copy of a slice from a DataFrame.\n",
      "Try using .loc[row_indexer,col_indexer] = value instead\n",
      "\n",
      "See the caveats in the documentation: http://pandas.pydata.org/pandas-docs/stable/indexing.html#indexing-view-versus-copy\n",
      "  \n"
     ]
    },
    {
     "data": {
      "text/html": [
       "<div>\n",
       "<style scoped>\n",
       "    .dataframe tbody tr th:only-of-type {\n",
       "        vertical-align: middle;\n",
       "    }\n",
       "\n",
       "    .dataframe tbody tr th {\n",
       "        vertical-align: top;\n",
       "    }\n",
       "\n",
       "    .dataframe thead th {\n",
       "        text-align: right;\n",
       "    }\n",
       "</style>\n",
       "<table border=\"1\" class=\"dataframe\">\n",
       "  <thead>\n",
       "    <tr style=\"text-align: right;\">\n",
       "      <th></th>\n",
       "      <th>State/Province</th>\n",
       "      <th>Effective Date</th>\n",
       "      <th>Record Date</th>\n",
       "      <th>Expiration of Primary Term</th>\n",
       "      <th>Term (Months)</th>\n",
       "      <th>Grantor</th>\n",
       "      <th>Grantee Alias</th>\n",
       "      <th>Royalty</th>\n",
       "      <th>Bonus</th>\n",
       "      <th>Area (Acres)</th>\n",
       "      <th>...</th>\n",
       "      <th>Range</th>\n",
       "      <th>Range Direction</th>\n",
       "      <th>Vol/Page</th>\n",
       "      <th>Record Number</th>\n",
       "      <th>County/Parish</th>\n",
       "      <th>Latitude (WGS84)</th>\n",
       "      <th>DI Play</th>\n",
       "      <th>Longitude (WGS84)</th>\n",
       "      <th>geometry</th>\n",
       "      <th>distance</th>\n",
       "    </tr>\n",
       "  </thead>\n",
       "  <tbody>\n",
       "    <tr>\n",
       "      <th>4777</th>\n",
       "      <td>WY</td>\n",
       "      <td>NaN</td>\n",
       "      <td>2019-09-13</td>\n",
       "      <td>2020-08-23</td>\n",
       "      <td>12</td>\n",
       "      <td>PELLATZ ROBERT D ET AL</td>\n",
       "      <td>DEVON ENERGY</td>\n",
       "      <td>NaN</td>\n",
       "      <td>NaN</td>\n",
       "      <td>0.0</td>\n",
       "      <td>...</td>\n",
       "      <td>71.0</td>\n",
       "      <td>W</td>\n",
       "      <td>=\"01683/0691\"</td>\n",
       "      <td>1087208</td>\n",
       "      <td>CONVERSE (WY)</td>\n",
       "      <td>43.167017</td>\n",
       "      <td>POWDER RIVER</td>\n",
       "      <td>-105.389570</td>\n",
       "      <td>POINT (468332.890 4779435.622)</td>\n",
       "      <td>2.920035</td>\n",
       "    </tr>\n",
       "    <tr>\n",
       "      <th>49813</th>\n",
       "      <td>WY</td>\n",
       "      <td>NaN</td>\n",
       "      <td>2014-08-05</td>\n",
       "      <td>2024-08-05</td>\n",
       "      <td>120</td>\n",
       "      <td>BLM</td>\n",
       "      <td>MBI O&amp;G</td>\n",
       "      <td>0.125</td>\n",
       "      <td>3100.0</td>\n",
       "      <td>320.0</td>\n",
       "      <td>...</td>\n",
       "      <td>71.0</td>\n",
       "      <td>W</td>\n",
       "      <td>WY-1408-026/NA</td>\n",
       "      <td>WYW183606</td>\n",
       "      <td>CONVERSE (WY)</td>\n",
       "      <td>43.239942</td>\n",
       "      <td>POWDER RIVER</td>\n",
       "      <td>-105.388968</td>\n",
       "      <td>POINT (468419.520 4787533.967)</td>\n",
       "      <td>2.483696</td>\n",
       "    </tr>\n",
       "  </tbody>\n",
       "</table>\n",
       "<p>2 rows × 23 columns</p>\n",
       "</div>"
      ],
      "text/plain": [
       "      State/Province Effective Date Record Date Expiration of Primary Term  \\\n",
       "4777              WY            NaN  2019-09-13                 2020-08-23   \n",
       "49813             WY            NaN  2014-08-05                 2024-08-05   \n",
       "\n",
       "       Term (Months)                  Grantor Grantee Alias  Royalty   Bonus  \\\n",
       "4777              12  PELLATZ ROBERT D ET AL   DEVON ENERGY      NaN     NaN   \n",
       "49813            120                     BLM        MBI O&G    0.125  3100.0   \n",
       "\n",
       "       Area (Acres)  ...  Range  Range Direction        Vol/Page  \\\n",
       "4777            0.0  ...   71.0       W            =\"01683/0691\"   \n",
       "49813         320.0  ...   71.0       W           WY-1408-026/NA   \n",
       "\n",
       "       Record Number  County/Parish Latitude (WGS84)       DI Play  \\\n",
       "4777         1087208  CONVERSE (WY)        43.167017  POWDER RIVER   \n",
       "49813      WYW183606  CONVERSE (WY)        43.239942  POWDER RIVER   \n",
       "\n",
       "      Longitude (WGS84)                        geometry  distance  \n",
       "4777        -105.389570  POINT (468332.890 4779435.622)  2.920035  \n",
       "49813       -105.388968  POINT (468419.520 4787533.967)  2.483696  \n",
       "\n",
       "[2 rows x 23 columns]"
      ]
     },
     "execution_count": 26,
     "metadata": {},
     "output_type": "execute_result"
    }
   ],
   "source": [
    "#calculating distance (in miles) away lease within 3 mi radius is to tract of interest\n",
    "leasestoeval[\"distance\"] = leasestoeval[\"geometry\"].apply(lambda x: x.distance(tractTest[\"centroids\"])/1609.34)\n",
    "leasestoeval"
   ]
  },
  {
   "cell_type": "code",
   "execution_count": 27,
   "metadata": {},
   "outputs": [
    {
     "data": {
      "text/plain": [
       "20.235263733777487"
      ]
     },
     "execution_count": 27,
     "metadata": {},
     "output_type": "execute_result"
    }
   ],
   "source": [
    "#function to get compass direction\n",
    "\n",
    "a = leasestoeval[\"geometry\"].iloc[0].x\n",
    "b = leasestoeval[\"geometry\"].iloc[0].y\n",
    "c = tractTest[\"centroids\"].x\n",
    "d = tractTest[\"centroids\"].y\n",
    "\n",
    "#south and west are positive direction for my axis convention\n",
    "western = c - a\n",
    "southern = d - b\n",
    "\n",
    "diff = western/southern\n",
    "compdeg = math.atan(diff)\n",
    "compdeg *= 57.2958\n",
    "compdeg"
   ]
  },
  {
   "cell_type": "code",
   "execution_count": 31,
   "metadata": {},
   "outputs": [],
   "source": [
    "ah = leasestoeval[\"geometry\"].iloc[0]"
   ]
  },
  {
   "cell_type": "code",
   "execution_count": 43,
   "metadata": {},
   "outputs": [
    {
     "data": {
      "text/plain": [
       "(array('d', [468332.8896460042]), array('d', [4779435.621910308]))"
      ]
     },
     "execution_count": 43,
     "metadata": {},
     "output_type": "execute_result"
    }
   ],
   "source": [
    "ah.xy\n"
   ]
  },
  {
   "cell_type": "code",
   "execution_count": 40,
   "metadata": {},
   "outputs": [
    {
     "data": {
      "text/plain": [
       "(array('d', [469958.27327790495]), array('d', [4783844.910772996]))"
      ]
     },
     "execution_count": 40,
     "metadata": {},
     "output_type": "execute_result"
    }
   ],
   "source": [
    "ai = tractTest[\"centroids\"].xy\n",
    "ai"
   ]
  },
  {
   "cell_type": "code",
   "execution_count": 41,
   "metadata": {},
   "outputs": [
    {
     "ename": "ValueError",
     "evalue": "shapes (2,1) and (2,) not aligned: 1 (dim 1) != 2 (dim 0)",
     "output_type": "error",
     "traceback": [
      "\u001b[0;31m---------------------------------------------------------------------------\u001b[0m",
      "\u001b[0;31mValueError\u001b[0m                                Traceback (most recent call last)",
      "\u001b[0;32m<ipython-input-41-27ea861fc6a3>\u001b[0m in \u001b[0;36m<module>\u001b[0;34m\u001b[0m\n\u001b[0;32m----> 1\u001b[0;31m \u001b[0mnp\u001b[0m\u001b[0;34m.\u001b[0m\u001b[0mdot\u001b[0m\u001b[0;34m(\u001b[0m\u001b[0mai\u001b[0m\u001b[0;34m,\u001b[0m \u001b[0mah\u001b[0m\u001b[0;34m)\u001b[0m\u001b[0;34m\u001b[0m\u001b[0;34m\u001b[0m\u001b[0m\n\u001b[0m",
      "\u001b[0;31mValueError\u001b[0m: shapes (2,1) and (2,) not aligned: 1 (dim 1) != 2 (dim 0)"
     ]
    }
   ],
   "source": [
    "np.dot(ai, ah)"
   ]
  },
  {
   "cell_type": "markdown",
   "metadata": {},
   "source": [
    "### Statistical summaries: bonus by year, closest lease, etc"
   ]
  },
  {
   "cell_type": "code",
   "execution_count": null,
   "metadata": {},
   "outputs": [],
   "source": [
    "leasestoeval.groupby(leasestoeval[\"Record Date\"].apply(lambda x: x.year)).describe()"
   ]
  },
  {
   "cell_type": "code",
   "execution_count": null,
   "metadata": {},
   "outputs": [],
   "source": [
    "leasestoeval[\"Record Date\"]\n",
    "leasestoeval.describe()[\"Bonus\"][\"mean\"]"
   ]
  },
  {
   "cell_type": "code",
   "execution_count": null,
   "metadata": {},
   "outputs": [],
   "source": []
  },
  {
   "cell_type": "code",
   "execution_count": null,
   "metadata": {},
   "outputs": [],
   "source": []
  },
  {
   "cell_type": "code",
   "execution_count": null,
   "metadata": {},
   "outputs": [],
   "source": []
  },
  {
   "cell_type": "code",
   "execution_count": null,
   "metadata": {},
   "outputs": [],
   "source": []
  },
  {
   "cell_type": "code",
   "execution_count": null,
   "metadata": {},
   "outputs": [],
   "source": []
  }
 ],
 "metadata": {
  "kernelspec": {
   "display_name": "Python 3",
   "language": "python",
   "name": "python3"
  },
  "language_info": {
   "codemirror_mode": {
    "name": "ipython",
    "version": 3
   },
   "file_extension": ".py",
   "mimetype": "text/x-python",
   "name": "python",
   "nbconvert_exporter": "python",
   "pygments_lexer": "ipython3",
   "version": "3.6.10"
  }
 },
 "nbformat": 4,
 "nbformat_minor": 2
}
