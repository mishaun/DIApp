{
 "cells": [
  {
   "cell_type": "code",
   "execution_count": 92,
   "metadata": {},
   "outputs": [],
   "source": [
    "import pandas as pd\n",
    "import geopandas as gp\n",
    "import numpy as np\n",
    "import seaborn as sns\n",
    "import matplotlib.pyplot as plt\n",
    "from geopy.geocoders import Nominatim\n",
    "import shapely\n",
    "import math"
   ]
  },
  {
   "cell_type": "code",
   "execution_count": 93,
   "metadata": {},
   "outputs": [
    {
     "data": {
      "text/plain": [
       "False"
      ]
     },
     "execution_count": 93,
     "metadata": {},
     "output_type": "execute_result"
    }
   ],
   "source": [
    "import os\n",
    "#had to add GDAL_DATA variable to system variables and set value to the folder of gdal in C:\\Users\\mishaun\\AppData\\Local\\Continuum\\anaconda3\\Library\\share\\gdal on my work computer\n",
    "'GDAL_DATA' in os.environ"
   ]
  },
  {
   "cell_type": "code",
   "execution_count": 94,
   "metadata": {},
   "outputs": [],
   "source": [
    "#These 2 lines of code will allow for all output to be displayed within a given cell\n",
    "from IPython.core.interactiveshell import InteractiveShell\n",
    "InteractiveShell.ast_node_interactivity = \"all\""
   ]
  },
  {
   "cell_type": "markdown",
   "metadata": {},
   "source": [
    "# Reading in Data"
   ]
  },
  {
   "cell_type": "code",
   "execution_count": 95,
   "metadata": {},
   "outputs": [],
   "source": [
    "shapezipfile = (\"zip://Data/BLMWY-2020-Q1-3_WGS84.zip\")\n",
    "tractshp = gp.read_file(shapezipfile, encoding = \"utf-8\")"
   ]
  },
  {
   "cell_type": "code",
   "execution_count": 96,
   "metadata": {
    "scrolled": false
   },
   "outputs": [],
   "source": [
    "#this is shapefile downloaded from drillinginfo holding well information\n",
    "prodshp = gp.read_file(\"zip://Data/production.ZIP\")\n",
    "permitshp = gp.read_file(\"zip://Data/permits.ZIP\")\n",
    "\n",
    "#reading in csv of leases - converting to a GeoDataFrame - initial coord system is epsg:4326\n",
    "leases = pd.read_csv(\"Data/LeasesTable.CSV\")\n",
    "leasesgeo = gp.GeoDataFrame(leases, crs = {'init': 'epsg:4326'}, geometry=gp.points_from_xy(leases[\"Longitude (WGS84)\"], leases[\"Latitude (WGS84)\"]))"
   ]
  },
  {
   "cell_type": "markdown",
   "metadata": {},
   "source": [
    "### Trimming and Cleaning Data"
   ]
  },
  {
   "cell_type": "code",
   "execution_count": 97,
   "metadata": {},
   "outputs": [
    {
     "data": {
      "text/plain": [
       "Index(['State/Province', 'Effective Date', 'Record Date',\n",
       "       'Expiration of Primary Term', 'Term (Months)', 'Grantor',\n",
       "       'Grantee Alias', 'Royalty', 'Bonus', 'Area (Acres)', 'Section',\n",
       "       'Township', 'Township Direction', 'Range', 'Range Direction',\n",
       "       'Vol/Page', 'Record Number', 'Instrument Type', 'Instrument Date',\n",
       "       'County/Parish', 'Options/Extensions', 'DI Basin', 'Ext. Bonus',\n",
       "       'Ext. Term (Months)', 'Abstract', 'Block', 'BLM', 'State Lease',\n",
       "       'Grantee', 'Grantor Address', 'Grantee Address', 'Max Depth',\n",
       "       'Majority Legal Assignee', 'DI Subplay', 'Min Depth',\n",
       "       'Majority Assignment Effective Date', 'Latitude (WGS84)', 'DI Play',\n",
       "       'Majority Legal Assignee Interest', 'Longitude (WGS84)',\n",
       "       'Majority Assignment Vol/Page', 'geometry'],\n",
       "      dtype='object')"
      ]
     },
     "execution_count": 97,
     "metadata": {},
     "output_type": "execute_result"
    }
   ],
   "source": [
    "leasesgeo.columns"
   ]
  },
  {
   "cell_type": "code",
   "execution_count": 98,
   "metadata": {},
   "outputs": [],
   "source": [
    "leasesgeo.drop(columns = ['Instrument Type', 'Instrument Date','Options/Extensions', 'DI Basin', 'Ext. Bonus',\n",
    "       'Ext. Term (Months)', 'Abstract', 'Block', 'BLM', 'State Lease',\n",
    "       'Grantee', 'Grantor Address', 'Grantee Address', 'Max Depth',\n",
    "       'Majority Legal Assignee', 'DI Subplay', 'Min Depth',\n",
    "       'Majority Assignment Effective Date','Majority Legal Assignee Interest','Majority Assignment Vol/Page'], inplace = True)"
   ]
  },
  {
   "cell_type": "code",
   "execution_count": 99,
   "metadata": {},
   "outputs": [
    {
     "data": {
      "text/plain": [
       "Index(['APIUWI', 'OpAlias', 'LeaseName', 'WellNo', 'County', 'Reservoir',\n",
       "       'ProdType', 'ProdStatus', 'DrillType', 'TD', 'SpudDate', 'FstPrdDate',\n",
       "       'LstPrdDate', 'MoProd', 'CumGas', 'DailyGas', 'CumLiq', 'DailyLiq',\n",
       "       'LatestLiq', 'LatestGas', 'CumWtr', 'CumBOE', 'DISubplay', '1moLiq',\n",
       "       '1moGas', '6moLiq', 'DIBasin', '6moGas', '6moBOE', '6moWater', 'DIPlay',\n",
       "       'PracIP_Liq', 'PracIP_BOE', 'PracIP_Gas', 'PrcIPCFGED', 'LatestWtr',\n",
       "       'Prior12Liq', 'Prior12Gas', 'LastTestDt', 'Prior12Wtr', 'LastFlwPrs',\n",
       "       'LastWHSIP', '2moGOR', 'LatestGOR', 'CumGOR', 'Lst12Yield', '2moYield',\n",
       "       'LatestYld', 'PeakGas', 'PkGasMoNo', 'PeakLiq', 'PkLiqMoNo', 'PeakBOE',\n",
       "       'PkBOEMoNo', 'PkMMCFGE', 'PkMMCFGMoN', 'TopPerf', 'BtmPerf', 'GasGrav',\n",
       "       'OilGrav', 'CompDate', 'WellCount', 'MaxActvWel', 'GasGather',\n",
       "       'LiqGather', 'LeaseNo', 'PerfLength', 'TVD', 'Field', 'State',\n",
       "       'District', 'GeoProvin', 'Section', 'Country', 'Township', 'Range',\n",
       "       'Latitude', 'Abstract', 'Longitude', 'Block', 'OCS_Area', 'PGC_Area',\n",
       "       'OpReported', 'Survey', 'EntityId', 'Last12Liq', 'Last12Gas',\n",
       "       'Last12Wtr', 'OtherNo', 'geometry'],\n",
       "      dtype='object')"
      ]
     },
     "execution_count": 99,
     "metadata": {},
     "output_type": "execute_result"
    }
   ],
   "source": [
    "prodshp.columns"
   ]
  },
  {
   "cell_type": "code",
   "execution_count": 100,
   "metadata": {},
   "outputs": [],
   "source": [
    "prodshp.drop(columns = ['LatestWtr','CumWtr',\n",
    "       'Prior12Liq', 'Prior12Gas', 'LastTestDt', 'Prior12Wtr', 'LastFlwPrs',\n",
    "       'LastWHSIP', '2moGOR', 'LatestGOR', 'CumGOR', 'Lst12Yield', '2moYield',\n",
    "       'LatestYld', 'PeakGas', 'PkGasMoNo', 'PeakLiq', 'PkLiqMoNo', 'PeakBOE',\n",
    "       'PkBOEMoNo', 'PkMMCFGE', 'PkMMCFGMoN', 'TopPerf', 'BtmPerf', 'GasGrav',\n",
    "       'OilGrav','CompDate', 'GasGather',\n",
    "       'LiqGather', 'LeaseNo'], inplace = True)"
   ]
  },
  {
   "cell_type": "code",
   "execution_count": 101,
   "metadata": {},
   "outputs": [
    {
     "data": {
      "text/plain": [
       "Index(['API10UWI', 'District', 'FiledDate', 'AprvdDate', 'ExpDate', 'State',\n",
       "       'County', 'OpAlias', 'LeaseName', 'WellNo', 'Formation', 'PermDepth',\n",
       "       'TVD', 'PermitType', 'WellType', 'DrillType', 'WellStatus',\n",
       "       'PermStatus', 'Field', 'OpReported', 'AmendDate', 'CntctName',\n",
       "       'CntctPhone', 'OperAddrs', 'OperCity', 'OperState', 'OperZip',\n",
       "       'OperCity30', 'Section', 'OperCity50', 'Township', 'Range', 'Block',\n",
       "       'Survey', 'TVD_UOM', 'Abstract', 'WGID', 'H2S_Area', 'Latitude',\n",
       "       'Longitude', 'OFS_Reg', 'Btm_Lat', 'Btm_Lon', 'LeaseNo', 'PermDUOM',\n",
       "       'PermitNo', 'DIBasin', 'DIPlay', 'DISubplay', 'OpCompany', 'OpTicker',\n",
       "       'geometry'],\n",
       "      dtype='object')"
      ]
     },
     "execution_count": 101,
     "metadata": {},
     "output_type": "execute_result"
    }
   ],
   "source": [
    "permitshp.columns"
   ]
  },
  {
   "cell_type": "code",
   "execution_count": 102,
   "metadata": {},
   "outputs": [],
   "source": [
    "permitshp.drop(columns = ['OpReported', 'AmendDate', 'CntctName',\n",
    "       'CntctPhone', 'OperAddrs', 'OperCity', 'OperState', 'OperZip',\n",
    "       'OperCity30', 'Section', 'OperCity50', 'Township', 'Range', 'Block',\n",
    "       'Survey', 'TVD_UOM', 'Abstract', 'WGID', 'H2S_Area','OFS_Reg', 'LeaseNo', 'PermDUOM',\n",
    "       'PermitNo','OpCompany', 'OpTicker'], inplace=True)"
   ]
  },
  {
   "cell_type": "code",
   "execution_count": null,
   "metadata": {},
   "outputs": [],
   "source": []
  },
  {
   "cell_type": "code",
   "execution_count": 103,
   "metadata": {},
   "outputs": [],
   "source": [
    "leasesgeo[\"Record Date\"] = pd.to_datetime(leasesgeo[\"Record Date\"])\n",
    "prodshp[\"FstPrdDate\"] = pd.to_datetime(prodshp[\"FstPrdDate\"])\n",
    "permitshp[\"AprvdDate\"] = pd.to_datetime(permitshp[\"AprvdDate\"])"
   ]
  },
  {
   "cell_type": "code",
   "execution_count": 104,
   "metadata": {},
   "outputs": [
    {
     "name": "stdout",
     "output_type": "stream",
     "text": [
      "<class 'geopandas.geodataframe.GeoDataFrame'>\n",
      "RangeIndex: 53266 entries, 0 to 53265\n",
      "Data columns (total 22 columns):\n",
      "State/Province                53266 non-null object\n",
      "Effective Date                31049 non-null object\n",
      "Record Date                   53266 non-null datetime64[ns]\n",
      "Expiration of Primary Term    53266 non-null object\n",
      "Term (Months)                 53266 non-null int64\n",
      "Grantor                       53266 non-null object\n",
      "Grantee Alias                 53239 non-null object\n",
      "Royalty                       33903 non-null float64\n",
      "Bonus                         18347 non-null float64\n",
      "Area (Acres)                  52506 non-null float64\n",
      "Section                       53266 non-null float64\n",
      "Township                      53266 non-null float64\n",
      "Township Direction            53266 non-null object\n",
      "Range                         53266 non-null float64\n",
      "Range Direction               53266 non-null object\n",
      "Vol/Page                      53266 non-null object\n",
      "Record Number                 53266 non-null object\n",
      "County/Parish                 53266 non-null object\n",
      "Latitude (WGS84)              53204 non-null float64\n",
      "DI Play                       41854 non-null object\n",
      "Longitude (WGS84)             53204 non-null float64\n",
      "geometry                      53266 non-null geometry\n",
      "dtypes: datetime64[ns](1), float64(8), geometry(1), int64(1), object(11)\n",
      "memory usage: 8.9+ MB\n",
      "<class 'geopandas.geodataframe.GeoDataFrame'>\n",
      "RangeIndex: 62880 entries, 0 to 62879\n",
      "Data columns (total 60 columns):\n",
      "APIUWI        62880 non-null object\n",
      "OpAlias       62792 non-null object\n",
      "LeaseName     60418 non-null object\n",
      "WellNo        57955 non-null object\n",
      "County        62880 non-null object\n",
      "Reservoir     59997 non-null object\n",
      "ProdType      62879 non-null object\n",
      "ProdStatus    62880 non-null object\n",
      "DrillType     62880 non-null object\n",
      "TD            54085 non-null float64\n",
      "SpudDate      54327 non-null object\n",
      "FstPrdDate    62880 non-null datetime64[ns]\n",
      "LstPrdDate    62880 non-null object\n",
      "MoProd        62880 non-null int64\n",
      "CumGas        56505 non-null float64\n",
      "DailyGas      52017 non-null float64\n",
      "CumLiq        55480 non-null float64\n",
      "DailyLiq      51498 non-null float64\n",
      "LatestLiq     53544 non-null float64\n",
      "LatestGas     54298 non-null float64\n",
      "CumBOE        62880 non-null float64\n",
      "DISubplay     21999 non-null object\n",
      "1moLiq        53032 non-null float64\n",
      "1moGas        52343 non-null float64\n",
      "6moLiq        53107 non-null float64\n",
      "DIBasin       60698 non-null object\n",
      "6moGas        53107 non-null float64\n",
      "6moBOE        53107 non-null float64\n",
      "6moWater      53107 non-null float64\n",
      "DIPlay        44695 non-null object\n",
      "PracIP_Liq    62880 non-null float64\n",
      "PracIP_BOE    62880 non-null float64\n",
      "PracIP_Gas    62880 non-null float64\n",
      "PrcIPCFGED    60059 non-null float64\n",
      "WellCount     62880 non-null int64\n",
      "MaxActvWel    62880 non-null int64\n",
      "PerfLength    37610 non-null float64\n",
      "TVD           1969 non-null float64\n",
      "Field         53407 non-null object\n",
      "State         62880 non-null object\n",
      "District      27946 non-null object\n",
      "GeoProvin     62771 non-null object\n",
      "Section       48889 non-null object\n",
      "Country       62880 non-null object\n",
      "Township      37322 non-null object\n",
      "Range         37300 non-null object\n",
      "Latitude      62880 non-null float64\n",
      "Abstract      13644 non-null object\n",
      "Longitude     62880 non-null float64\n",
      "Block         7630 non-null object\n",
      "OCS_Area      841 non-null object\n",
      "PGC_Area      62583 non-null object\n",
      "OpReported    62792 non-null object\n",
      "Survey        13662 non-null object\n",
      "EntityId      62880 non-null int64\n",
      "Last12Liq     55039 non-null float64\n",
      "Last12Gas     56200 non-null float64\n",
      "Last12Wtr     55521 non-null float64\n",
      "OtherNo       62880 non-null object\n",
      "geometry      62880 non-null geometry\n",
      "dtypes: datetime64[ns](1), float64(25), geometry(1), int64(4), object(29)\n",
      "memory usage: 28.8+ MB\n",
      "<class 'geopandas.geodataframe.GeoDataFrame'>\n",
      "RangeIndex: 46469 entries, 0 to 46468\n",
      "Data columns (total 27 columns):\n",
      "API10UWI      46469 non-null object\n",
      "District      27250 non-null object\n",
      "FiledDate     32816 non-null object\n",
      "AprvdDate     46469 non-null datetime64[ns]\n",
      "ExpDate       46469 non-null object\n",
      "State         46469 non-null object\n",
      "County        46469 non-null object\n",
      "OpAlias       46468 non-null object\n",
      "LeaseName     46469 non-null object\n",
      "WellNo        46127 non-null object\n",
      "Formation     46469 non-null object\n",
      "PermDepth     41574 non-null float64\n",
      "TVD           22276 non-null float64\n",
      "PermitType    46469 non-null object\n",
      "WellType      46469 non-null object\n",
      "DrillType     46469 non-null object\n",
      "WellStatus    46469 non-null object\n",
      "PermStatus    46469 non-null object\n",
      "Field         46469 non-null object\n",
      "Latitude      46469 non-null float64\n",
      "Longitude     46469 non-null float64\n",
      "Btm_Lat       42892 non-null float64\n",
      "Btm_Lon       42892 non-null float64\n",
      "DIBasin       46469 non-null object\n",
      "DIPlay        39854 non-null object\n",
      "DISubplay     15180 non-null object\n",
      "geometry      46469 non-null geometry\n",
      "dtypes: datetime64[ns](1), float64(6), geometry(1), object(19)\n",
      "memory usage: 9.6+ MB\n"
     ]
    }
   ],
   "source": [
    "leasesgeo.info()\n",
    "prodshp.info()\n",
    "permitshp.info()"
   ]
  },
  {
   "cell_type": "markdown",
   "metadata": {},
   "source": [
    "### Converting geodataframes to same coord system - UTM system for creating buffers"
   ]
  },
  {
   "cell_type": "code",
   "execution_count": 105,
   "metadata": {},
   "outputs": [],
   "source": [
    "prodshp.to_crs(epsg = 26913, inplace = True)\n",
    "permitshp.to_crs(epsg = 26913, inplace = True)\n",
    "leasesgeo.to_crs(epsg = 26913, inplace = True)\n",
    "tractshp.to_crs(epsg = 26913, inplace = True)"
   ]
  },
  {
   "cell_type": "code",
   "execution_count": 106,
   "metadata": {},
   "outputs": [
    {
     "data": {
      "text/plain": [
       "{'init': 'epsg:26913', 'no_defs': True}"
      ]
     },
     "execution_count": 106,
     "metadata": {},
     "output_type": "execute_result"
    },
    {
     "data": {
      "text/plain": [
       "{'init': 'epsg:26913', 'no_defs': True}"
      ]
     },
     "execution_count": 106,
     "metadata": {},
     "output_type": "execute_result"
    },
    {
     "data": {
      "text/plain": [
       "{'init': 'epsg:26913', 'no_defs': True}"
      ]
     },
     "execution_count": 106,
     "metadata": {},
     "output_type": "execute_result"
    }
   ],
   "source": [
    "prodshp.crs\n",
    "permitshp.crs\n",
    "leasesgeo.crs"
   ]
  },
  {
   "cell_type": "markdown",
   "metadata": {},
   "source": [
    "### Adding a column to tract shapefile data for centroids of each tract for creating buffers upon"
   ]
  },
  {
   "cell_type": "code",
   "execution_count": 107,
   "metadata": {},
   "outputs": [
    {
     "data": {
      "text/html": [
       "<div>\n",
       "<style scoped>\n",
       "    .dataframe tbody tr th:only-of-type {\n",
       "        vertical-align: middle;\n",
       "    }\n",
       "\n",
       "    .dataframe tbody tr th {\n",
       "        vertical-align: top;\n",
       "    }\n",
       "\n",
       "    .dataframe thead th {\n",
       "        text-align: right;\n",
       "    }\n",
       "</style>\n",
       "<table border=\"1\" class=\"dataframe\">\n",
       "  <thead>\n",
       "    <tr style=\"text-align: right;\">\n",
       "      <th></th>\n",
       "      <th>SaleParcel</th>\n",
       "      <th>lot_no</th>\n",
       "      <th>tract_id</th>\n",
       "      <th>short_code</th>\n",
       "      <th>label</th>\n",
       "      <th>geometry</th>\n",
       "      <th>centroids</th>\n",
       "      <th>Acres</th>\n",
       "    </tr>\n",
       "  </thead>\n",
       "  <tbody>\n",
       "    <tr>\n",
       "      <th>0</th>\n",
       "      <td>WY-201Q-105</td>\n",
       "      <td>65012</td>\n",
       "      <td>2</td>\n",
       "      <td>BLMWY-2020-Q1-3</td>\n",
       "      <td>WY-2020-03-0374</td>\n",
       "      <td>MULTIPOLYGON (((173527.819 4984155.461, 173534...</td>\n",
       "      <td>POINT (172183.913 4984182.822)</td>\n",
       "      <td>941.0</td>\n",
       "    </tr>\n",
       "    <tr>\n",
       "      <th>1</th>\n",
       "      <td>WY-201Q-063</td>\n",
       "      <td>64970</td>\n",
       "      <td>16</td>\n",
       "      <td>BLMWY-2020-Q1-3</td>\n",
       "      <td>WY-2020-03-6207</td>\n",
       "      <td>MULTIPOLYGON (((219007.722 4650891.363, 218687...</td>\n",
       "      <td>POINT (222418.619 4647579.181)</td>\n",
       "      <td>1322.0</td>\n",
       "    </tr>\n",
       "    <tr>\n",
       "      <th>2</th>\n",
       "      <td>WY-201Q-001</td>\n",
       "      <td>64908</td>\n",
       "      <td>93</td>\n",
       "      <td>BLMWY-2020-Q1-3</td>\n",
       "      <td>WY-2020-03-6613</td>\n",
       "      <td>POLYGON ((562927.151 4797521.250, 563330.976 4...</td>\n",
       "      <td>POINT (563130.227 4797125.862)</td>\n",
       "      <td>80.0</td>\n",
       "    </tr>\n",
       "    <tr>\n",
       "      <th>3</th>\n",
       "      <td>WY-201Q-002</td>\n",
       "      <td>64909</td>\n",
       "      <td>102</td>\n",
       "      <td>BLMWY-2020-Q1-3</td>\n",
       "      <td>WY-2020-03-6660</td>\n",
       "      <td>POLYGON ((514894.040 4607634.757, 515295.946 4...</td>\n",
       "      <td>POINT (515096.374 4607429.194)</td>\n",
       "      <td>40.0</td>\n",
       "    </tr>\n",
       "    <tr>\n",
       "      <th>4</th>\n",
       "      <td>WY-201Q-003</td>\n",
       "      <td>64910</td>\n",
       "      <td>89</td>\n",
       "      <td>BLMWY-2020-Q1-3</td>\n",
       "      <td>WY-2020-03-6585</td>\n",
       "      <td>MULTIPOLYGON (((518971.985 4775132.462, 519376...</td>\n",
       "      <td>POINT (520545.083 4773447.285)</td>\n",
       "      <td>2316.0</td>\n",
       "    </tr>\n",
       "  </tbody>\n",
       "</table>\n",
       "</div>"
      ],
      "text/plain": [
       "    SaleParcel  lot_no  tract_id       short_code            label  \\\n",
       "0  WY-201Q-105   65012         2  BLMWY-2020-Q1-3  WY-2020-03-0374   \n",
       "1  WY-201Q-063   64970        16  BLMWY-2020-Q1-3  WY-2020-03-6207   \n",
       "2  WY-201Q-001   64908        93  BLMWY-2020-Q1-3  WY-2020-03-6613   \n",
       "3  WY-201Q-002   64909       102  BLMWY-2020-Q1-3  WY-2020-03-6660   \n",
       "4  WY-201Q-003   64910        89  BLMWY-2020-Q1-3  WY-2020-03-6585   \n",
       "\n",
       "                                            geometry  \\\n",
       "0  MULTIPOLYGON (((173527.819 4984155.461, 173534...   \n",
       "1  MULTIPOLYGON (((219007.722 4650891.363, 218687...   \n",
       "2  POLYGON ((562927.151 4797521.250, 563330.976 4...   \n",
       "3  POLYGON ((514894.040 4607634.757, 515295.946 4...   \n",
       "4  MULTIPOLYGON (((518971.985 4775132.462, 519376...   \n",
       "\n",
       "                        centroids   Acres  \n",
       "0  POINT (172183.913 4984182.822)   941.0  \n",
       "1  POINT (222418.619 4647579.181)  1322.0  \n",
       "2  POINT (563130.227 4797125.862)    80.0  \n",
       "3  POINT (515096.374 4607429.194)    40.0  \n",
       "4  POINT (520545.083 4773447.285)  2316.0  "
      ]
     },
     "execution_count": 107,
     "metadata": {},
     "output_type": "execute_result"
    }
   ],
   "source": [
    "tractshp[\"centroids\"] = tractshp.centroid\n",
    "#calculating acres of tract, conv to acres is m^2 to acres\n",
    "tractshp['Acres'] = round(tractshp.area * 0.000247105)\n",
    "tractshp.head()"
   ]
  },
  {
   "cell_type": "code",
   "execution_count": 165,
   "metadata": {},
   "outputs": [],
   "source": [
    "#adding buffer around centroid point from tract of 3 mi (1609.34 meters = 1 mile)\n",
    "miradius = 3\n",
    "milesbuffer = miradius * 1609.34\n",
    "\n",
    "tractshp[\"buffers\"] = tractshp.centroids.apply(lambda x: x.buffer(milesbuffer,20))\n"
   ]
  },
  {
   "cell_type": "markdown",
   "metadata": {},
   "source": [
    "# Testing Spatial Filters"
   ]
  },
  {
   "cell_type": "code",
   "execution_count": 109,
   "metadata": {},
   "outputs": [],
   "source": [
    "TestT = 40\n",
    "tractTest = tractshp[tractshp[\"tract_id\"] == TestT].iloc[0]\n",
    "\n",
    "\n",
    "permFiltered = permitshp.within(tractshp[tractshp[\"tract_id\"] ==TestT][\"buffers\"].iloc[0])\n",
    "prodFiltered = prodshp.within(tractshp[tractshp[\"tract_id\"] ==TestT][\"buffers\"].iloc[0])\n",
    "leasesFiltered = leasesgeo.within(tractshp[tractshp[\"tract_id\"]==TestT][\"buffers\"].iloc[0])"
   ]
  },
  {
   "cell_type": "code",
   "execution_count": 110,
   "metadata": {},
   "outputs": [
    {
     "data": {
      "text/plain": [
       "False    46457\n",
       "True        12\n",
       "dtype: int64"
      ]
     },
     "execution_count": 110,
     "metadata": {},
     "output_type": "execute_result"
    }
   ],
   "source": [
    "permFiltered.value_counts()"
   ]
  },
  {
   "cell_type": "code",
   "execution_count": 111,
   "metadata": {},
   "outputs": [],
   "source": [
    "permitstoeval = permitshp.loc[permFiltered]"
   ]
  },
  {
   "cell_type": "code",
   "execution_count": 112,
   "metadata": {},
   "outputs": [],
   "source": [
    "prodtoeval = prodshp.loc[prodFiltered]"
   ]
  },
  {
   "cell_type": "code",
   "execution_count": 113,
   "metadata": {},
   "outputs": [
    {
     "data": {
      "text/plain": [
       "False    62874\n",
       "True         6\n",
       "dtype: int64"
      ]
     },
     "execution_count": 113,
     "metadata": {},
     "output_type": "execute_result"
    }
   ],
   "source": [
    "prodFiltered.value_counts()"
   ]
  },
  {
   "cell_type": "code",
   "execution_count": 114,
   "metadata": {},
   "outputs": [
    {
     "data": {
      "text/plain": [
       "False    53264\n",
       "True         2\n",
       "dtype: int64"
      ]
     },
     "execution_count": 114,
     "metadata": {},
     "output_type": "execute_result"
    }
   ],
   "source": [
    "leasesFiltered.value_counts()"
   ]
  },
  {
   "cell_type": "code",
   "execution_count": 115,
   "metadata": {},
   "outputs": [],
   "source": [
    "leasestoeval = leasesgeo.loc[leasesFiltered]"
   ]
  },
  {
   "cell_type": "code",
   "execution_count": 116,
   "metadata": {},
   "outputs": [
    {
     "name": "stderr",
     "output_type": "stream",
     "text": [
      "/anaconda3/lib/python3.6/site-packages/ipykernel_launcher.py:1: SettingWithCopyWarning: \n",
      "A value is trying to be set on a copy of a slice from a DataFrame\n",
      "\n",
      "See the caveats in the documentation: http://pandas.pydata.org/pandas-docs/stable/indexing.html#indexing-view-versus-copy\n",
      "  \"\"\"Entry point for launching an IPython kernel.\n"
     ]
    }
   ],
   "source": [
    "leasestoeval.drop_duplicates(\"Record Number\",inplace = True)"
   ]
  },
  {
   "cell_type": "markdown",
   "metadata": {},
   "source": [
    "### Calculating distance between leases within 3 mi radius and tract's centroid"
   ]
  },
  {
   "cell_type": "code",
   "execution_count": 126,
   "metadata": {},
   "outputs": [],
   "source": [
    "#function to get compass direction\n",
    "\n",
    "def cardDir(point, tractRef):\n",
    "    '''\n",
    "    This function will take in 2 inputs and will calculate the cardinal direction between 2 points\n",
    "    \n",
    "    1.  point: a shapely Point object referring to a permit,lease, well found in spatial query  \n",
    "    2.  tractRef: a shapely Point object referring to the centroid of the lease/tract for analysis\n",
    "    '''\n",
    "    \n",
    "    #storing each coordinate in a temporary variable\n",
    "    a = point.x\n",
    "    b = point.y\n",
    "    c = tractRef[\"centroids\"].x\n",
    "    d = tractRef[\"centroids\"].y\n",
    "\n",
    "    #south and west are positive direction for my axis convention\n",
    "    western = c - a\n",
    "    southern = d - b\n",
    "    \n",
    "    #calculating angle between points for determining which direction the point of data is in reference to tract centroid\n",
    "    compdeg = math.atan(western/southern)\n",
    "    #converts radians to degrees\n",
    "    compdeg *= 57.2958\n",
    "    compdeg\n",
    "\n",
    "    if southern > 0:\n",
    "        if compdeg < 20:\n",
    "            carddir = \"S\"\n",
    "        elif compdeg > 75:\n",
    "            if western>0:\n",
    "                carddir = \"W\"\n",
    "            else:\n",
    "                carddir = \"E\"\n",
    "        else:\n",
    "            if western>0:\n",
    "                carddir = \"SW\"\n",
    "            else:\n",
    "                carddir = \"SE\"\n",
    "    else:\n",
    "        if compdeg < 2:\n",
    "            carddir = \"N\"\n",
    "        elif compdeg > 60:\n",
    "            if western>0:\n",
    "                carddir = \"W\"\n",
    "            else:\n",
    "                carddir = \"E\"\n",
    "        else:\n",
    "            if western>0:\n",
    "                carddir = \"NW\"\n",
    "            else:\n",
    "                carddir = \"NE\"  \n",
    "     \n",
    "    return carddir           \n",
    "   \n",
    "    "
   ]
  },
  {
   "cell_type": "code",
   "execution_count": 123,
   "metadata": {},
   "outputs": [
    {
     "name": "stderr",
     "output_type": "stream",
     "text": [
      "/anaconda3/lib/python3.6/site-packages/ipykernel_launcher.py:2: SettingWithCopyWarning: \n",
      "A value is trying to be set on a copy of a slice from a DataFrame.\n",
      "Try using .loc[row_indexer,col_indexer] = value instead\n",
      "\n",
      "See the caveats in the documentation: http://pandas.pydata.org/pandas-docs/stable/indexing.html#indexing-view-versus-copy\n",
      "  \n",
      "/anaconda3/lib/python3.6/site-packages/ipykernel_launcher.py:3: SettingWithCopyWarning: \n",
      "A value is trying to be set on a copy of a slice from a DataFrame.\n",
      "Try using .loc[row_indexer,col_indexer] = value instead\n",
      "\n",
      "See the caveats in the documentation: http://pandas.pydata.org/pandas-docs/stable/indexing.html#indexing-view-versus-copy\n",
      "  This is separate from the ipykernel package so we can avoid doing imports until\n",
      "/anaconda3/lib/python3.6/site-packages/ipykernel_launcher.py:5: SettingWithCopyWarning: \n",
      "A value is trying to be set on a copy of a slice from a DataFrame.\n",
      "Try using .loc[row_indexer,col_indexer] = value instead\n",
      "\n",
      "See the caveats in the documentation: http://pandas.pydata.org/pandas-docs/stable/indexing.html#indexing-view-versus-copy\n",
      "  \"\"\"\n",
      "/anaconda3/lib/python3.6/site-packages/ipykernel_launcher.py:6: SettingWithCopyWarning: \n",
      "A value is trying to be set on a copy of a slice from a DataFrame.\n",
      "Try using .loc[row_indexer,col_indexer] = value instead\n",
      "\n",
      "See the caveats in the documentation: http://pandas.pydata.org/pandas-docs/stable/indexing.html#indexing-view-versus-copy\n",
      "  \n",
      "/anaconda3/lib/python3.6/site-packages/ipykernel_launcher.py:9: SettingWithCopyWarning: \n",
      "A value is trying to be set on a copy of a slice from a DataFrame.\n",
      "Try using .loc[row_indexer,col_indexer] = value instead\n",
      "\n",
      "See the caveats in the documentation: http://pandas.pydata.org/pandas-docs/stable/indexing.html#indexing-view-versus-copy\n",
      "  if __name__ == '__main__':\n",
      "/anaconda3/lib/python3.6/site-packages/ipykernel_launcher.py:10: SettingWithCopyWarning: \n",
      "A value is trying to be set on a copy of a slice from a DataFrame.\n",
      "Try using .loc[row_indexer,col_indexer] = value instead\n",
      "\n",
      "See the caveats in the documentation: http://pandas.pydata.org/pandas-docs/stable/indexing.html#indexing-view-versus-copy\n",
      "  # Remove the CWD from sys.path while we load stuff.\n"
     ]
    }
   ],
   "source": [
    "#calculating distance (in miles) away lease within 3 mi radius is to tract of interest and direction of data point (permit, lease, prod)\n",
    "leasestoeval[\"distance\"] = leasestoeval[\"geometry\"].apply(lambda x: x.distance(tractTest[\"centroids\"])/1609.34)\n",
    "leasestoeval[\"direction\"] = leasestoeval[\"geometry\"].apply(lambda x: cardDir(x, tractTest))\n",
    "\n",
    "permitstoeval[\"distance\"] = permitstoeval[\"geometry\"].apply(lambda x: x.distance(tractTest[\"centroids\"])/1609.34)\n",
    "permitstoeval[\"direction\"] = permitstoeval[\"geometry\"].apply(lambda x: cardDir(x, tractTest))\n",
    "\n",
    "\n",
    "prodtoeval[\"distance\"] = prodtoeval[\"geometry\"].apply(lambda x: x.distance(tractTest[\"centroids\"])/1609.34)\n",
    "prodtoeval[\"direction\"] = prodtoeval[\"geometry\"].apply(lambda x: cardDir(x, tractTest))"
   ]
  },
  {
   "cell_type": "markdown",
   "metadata": {},
   "source": [
    "### Statistical summaries: bonus by year, closest lease, permits, prod, etc"
   ]
  },
  {
   "cell_type": "code",
   "execution_count": 124,
   "metadata": {},
   "outputs": [
    {
     "data": {
      "text/html": [
       "<div>\n",
       "<style scoped>\n",
       "    .dataframe tbody tr th:only-of-type {\n",
       "        vertical-align: middle;\n",
       "    }\n",
       "\n",
       "    .dataframe tbody tr th {\n",
       "        vertical-align: top;\n",
       "    }\n",
       "\n",
       "    .dataframe thead tr th {\n",
       "        text-align: left;\n",
       "    }\n",
       "\n",
       "    .dataframe thead tr:last-of-type th {\n",
       "        text-align: right;\n",
       "    }\n",
       "</style>\n",
       "<table border=\"1\" class=\"dataframe\">\n",
       "  <thead>\n",
       "    <tr>\n",
       "      <th></th>\n",
       "      <th colspan=\"8\" halign=\"left\">Term (Months)</th>\n",
       "      <th colspan=\"2\" halign=\"left\">Royalty</th>\n",
       "      <th>...</th>\n",
       "      <th colspan=\"2\" halign=\"left\">Longitude (WGS84)</th>\n",
       "      <th colspan=\"8\" halign=\"left\">distance</th>\n",
       "    </tr>\n",
       "    <tr>\n",
       "      <th></th>\n",
       "      <th>count</th>\n",
       "      <th>mean</th>\n",
       "      <th>std</th>\n",
       "      <th>min</th>\n",
       "      <th>25%</th>\n",
       "      <th>50%</th>\n",
       "      <th>75%</th>\n",
       "      <th>max</th>\n",
       "      <th>count</th>\n",
       "      <th>mean</th>\n",
       "      <th>...</th>\n",
       "      <th>75%</th>\n",
       "      <th>max</th>\n",
       "      <th>count</th>\n",
       "      <th>mean</th>\n",
       "      <th>std</th>\n",
       "      <th>min</th>\n",
       "      <th>25%</th>\n",
       "      <th>50%</th>\n",
       "      <th>75%</th>\n",
       "      <th>max</th>\n",
       "    </tr>\n",
       "    <tr>\n",
       "      <th>Record Date</th>\n",
       "      <th></th>\n",
       "      <th></th>\n",
       "      <th></th>\n",
       "      <th></th>\n",
       "      <th></th>\n",
       "      <th></th>\n",
       "      <th></th>\n",
       "      <th></th>\n",
       "      <th></th>\n",
       "      <th></th>\n",
       "      <th></th>\n",
       "      <th></th>\n",
       "      <th></th>\n",
       "      <th></th>\n",
       "      <th></th>\n",
       "      <th></th>\n",
       "      <th></th>\n",
       "      <th></th>\n",
       "      <th></th>\n",
       "      <th></th>\n",
       "      <th></th>\n",
       "    </tr>\n",
       "  </thead>\n",
       "  <tbody>\n",
       "    <tr>\n",
       "      <th>2014</th>\n",
       "      <td>1.0</td>\n",
       "      <td>120.0</td>\n",
       "      <td>NaN</td>\n",
       "      <td>120.0</td>\n",
       "      <td>120.0</td>\n",
       "      <td>120.0</td>\n",
       "      <td>120.0</td>\n",
       "      <td>120.0</td>\n",
       "      <td>1.0</td>\n",
       "      <td>0.125</td>\n",
       "      <td>...</td>\n",
       "      <td>-105.388968</td>\n",
       "      <td>-105.388968</td>\n",
       "      <td>1.0</td>\n",
       "      <td>2.483696</td>\n",
       "      <td>NaN</td>\n",
       "      <td>2.483696</td>\n",
       "      <td>2.483696</td>\n",
       "      <td>2.483696</td>\n",
       "      <td>2.483696</td>\n",
       "      <td>2.483696</td>\n",
       "    </tr>\n",
       "    <tr>\n",
       "      <th>2019</th>\n",
       "      <td>1.0</td>\n",
       "      <td>12.0</td>\n",
       "      <td>NaN</td>\n",
       "      <td>12.0</td>\n",
       "      <td>12.0</td>\n",
       "      <td>12.0</td>\n",
       "      <td>12.0</td>\n",
       "      <td>12.0</td>\n",
       "      <td>0.0</td>\n",
       "      <td>NaN</td>\n",
       "      <td>...</td>\n",
       "      <td>-105.389570</td>\n",
       "      <td>-105.389570</td>\n",
       "      <td>1.0</td>\n",
       "      <td>2.920035</td>\n",
       "      <td>NaN</td>\n",
       "      <td>2.920035</td>\n",
       "      <td>2.920035</td>\n",
       "      <td>2.920035</td>\n",
       "      <td>2.920035</td>\n",
       "      <td>2.920035</td>\n",
       "    </tr>\n",
       "  </tbody>\n",
       "</table>\n",
       "<p>2 rows × 80 columns</p>\n",
       "</div>"
      ],
      "text/plain": [
       "            Term (Months)                                                \\\n",
       "                    count   mean std    min    25%    50%    75%    max   \n",
       "Record Date                                                               \n",
       "2014                  1.0  120.0 NaN  120.0  120.0  120.0  120.0  120.0   \n",
       "2019                  1.0   12.0 NaN   12.0   12.0   12.0   12.0   12.0   \n",
       "\n",
       "            Royalty         ... Longitude (WGS84)             distance  \\\n",
       "              count   mean  ...               75%         max    count   \n",
       "Record Date                 ...                                          \n",
       "2014            1.0  0.125  ...       -105.388968 -105.388968      1.0   \n",
       "2019            0.0    NaN  ...       -105.389570 -105.389570      1.0   \n",
       "\n",
       "                                                                             \n",
       "                 mean std       min       25%       50%       75%       max  \n",
       "Record Date                                                                  \n",
       "2014         2.483696 NaN  2.483696  2.483696  2.483696  2.483696  2.483696  \n",
       "2019         2.920035 NaN  2.920035  2.920035  2.920035  2.920035  2.920035  \n",
       "\n",
       "[2 rows x 80 columns]"
      ]
     },
     "execution_count": 124,
     "metadata": {},
     "output_type": "execute_result"
    }
   ],
   "source": [
    "leasestoeval.groupby(leasestoeval[\"Record Date\"].apply(lambda x: x.year)).describe()"
   ]
  },
  {
   "cell_type": "code",
   "execution_count": 125,
   "metadata": {
    "scrolled": true
   },
   "outputs": [
    {
     "data": {
      "text/plain": [
       "4777    2019-09-13\n",
       "49813   2014-08-05\n",
       "Name: Record Date, dtype: datetime64[ns]"
      ]
     },
     "execution_count": 125,
     "metadata": {},
     "output_type": "execute_result"
    },
    {
     "data": {
      "text/plain": [
       "3100.0"
      ]
     },
     "execution_count": 125,
     "metadata": {},
     "output_type": "execute_result"
    }
   ],
   "source": [
    "leasestoeval[\"Record Date\"]\n",
    "leasestoeval.describe()[\"Bonus\"][\"mean\"]"
   ]
  },
  {
   "cell_type": "markdown",
   "metadata": {},
   "source": [
    "### Function to write permits around tract summary"
   ]
  },
  {
   "cell_type": "code",
   "execution_count": null,
   "metadata": {},
   "outputs": [],
   "source": [
    "#test data for inserting into functions\n",
    "\n",
    "permitstoeval.head()\n",
    "permitstoeval[\"OpAlias\"].value_counts()"
   ]
  },
  {
   "cell_type": "code",
   "execution_count": 275,
   "metadata": {},
   "outputs": [
    {
     "data": {
      "text/plain": [
       "8.0"
      ]
     },
     "execution_count": 275,
     "metadata": {},
     "output_type": "execute_result"
    },
    {
     "data": {
      "text/plain": [
       "RangeIndex(start=0, stop=2, step=1)"
      ]
     },
     "execution_count": 275,
     "metadata": {},
     "output_type": "execute_result"
    }
   ],
   "source": [
    "grouped = permitstoeval.groupby(\"DrillType\").describe()\n",
    "grouped[\"PermDepth\"][\"count\"].reset_index().iloc[0][\"count\"]\n",
    "\n",
    "sfd = permitstoeval.groupby(\"DrillType\").describe().reset_index().index\n",
    "sfd"
   ]
  },
  {
   "cell_type": "code",
   "execution_count": 148,
   "metadata": {},
   "outputs": [
    {
     "data": {
      "text/plain": [
       "Index(['API10UWI', 'District', 'FiledDate', 'AprvdDate', 'ExpDate', 'State',\n",
       "       'County', 'OpAlias', 'LeaseName', 'WellNo', 'Formation', 'PermDepth',\n",
       "       'TVD', 'PermitType', 'WellType', 'DrillType', 'WellStatus',\n",
       "       'PermStatus', 'Field', 'Latitude', 'Longitude', 'Btm_Lat', 'Btm_Lon',\n",
       "       'DIBasin', 'DIPlay', 'DISubplay', 'geometry', 'distance', 'direction'],\n",
       "      dtype='object')"
      ]
     },
     "execution_count": 148,
     "metadata": {},
     "output_type": "execute_result"
    }
   ],
   "source": [
    "permitstoeval.columns"
   ]
  },
  {
   "cell_type": "code",
   "execution_count": 279,
   "metadata": {},
   "outputs": [],
   "source": [
    "def writePermitSummary(geoDF):\n",
    "    \n",
    "    count = geoDF[\"API10UWI\"].count()\n",
    "    \n",
    "    a = \"In a {} mile radius there are {} active permits\".format(miradius, count)\n",
    "    \n",
    "    byWellType = geoDF.groupby(\"DrillType\").describe()[\"PermDepth\"].reset_index()\n",
    "    \n",
    "    \n",
    "    \n",
    "    if len(byWellType)>1:\n",
    "        \n",
    "        b = [\"{} permits are {} wells \".format(str(int(byWellType.iloc[i][\"count\"])), byWellType.iloc[i][\"DrillType\"]) for i in byWellType.index]\n",
    "        b = \"and \".join(b)\n",
    "        \n",
    "    else:\n",
    "        b = \"There are {} {} permits \".format(str(int(byWellType.iloc[0][\"count\"])), byWellType.iloc[0][\"DrillType\"])\n",
    "    \n",
    "    summaryText = \"\\n\".join([a,b])\n",
    "    \n",
    "    return print(summaryText)\n",
    "    "
   ]
  },
  {
   "cell_type": "code",
   "execution_count": 280,
   "metadata": {},
   "outputs": [
    {
     "name": "stdout",
     "output_type": "stream",
     "text": [
      "In a 3 mile radius there are 12 active permits\n",
      "8 permits are H wells and 4 permits are V wells \n"
     ]
    }
   ],
   "source": [
    "writePermitSummary(permitstoeval)"
   ]
  },
  {
   "cell_type": "code",
   "execution_count": null,
   "metadata": {},
   "outputs": [],
   "source": []
  }
 ],
 "metadata": {
  "kernelspec": {
   "display_name": "Python 3",
   "language": "python",
   "name": "python3"
  },
  "language_info": {
   "codemirror_mode": {
    "name": "ipython",
    "version": 3
   },
   "file_extension": ".py",
   "mimetype": "text/x-python",
   "name": "python",
   "nbconvert_exporter": "python",
   "pygments_lexer": "ipython3",
   "version": "3.6.10"
  }
 },
 "nbformat": 4,
 "nbformat_minor": 2
}
