{
 "cells": [
  {
   "cell_type": "code",
   "execution_count": 217,
   "metadata": {},
   "outputs": [],
   "source": [
    "import pandas as pd\n",
    "import geopandas as gp\n",
    "import numpy as np\n",
    "import seaborn as sns\n",
    "import matplotlib.pyplot as plt\n",
    "from geopy.geocoders import Nominatim\n",
    "import shapely"
   ]
  },
  {
   "cell_type": "code",
   "execution_count": 218,
   "metadata": {},
   "outputs": [
    {
     "name": "stderr",
     "output_type": "stream",
     "text": [
      "/anaconda3/lib/python3.6/site-packages/IPython/core/interactiveshell.py:3063: DtypeWarning: Columns (0,20,32,33,35,37) have mixed types. Specify dtype option on import or set low_memory=False.\n",
      "  interactivity=interactivity, compiler=compiler, result=result)\n"
     ]
    }
   ],
   "source": [
    "prod = pd.read_csv(\"Data/Production Table.CSV\")\n",
    "perm = pd.read_csv(\"Data/PermitsTable.CSV\")\n",
    "leases = pd.read_csv(\"Data/LeasesTable.CSV\")\n",
    "\n",
    "#had to add GDAL_DATA variable to system variables and set value to the folder of gdal in C:\\Users\\mishaun\\AppData\\Local\\Continuum\\anaconda3\\Library\\share\\gdal on my work computer\n",
    "shapezipfile = (\"zip://Data/BLMWY-2020-Q1-3_WGS84.zip\")\n",
    "shapedf = gp.read_file(shapezipfile, encoding = \"utf-8\")"
   ]
  },
  {
   "cell_type": "code",
   "execution_count": 219,
   "metadata": {},
   "outputs": [],
   "source": [
    "import os"
   ]
  },
  {
   "cell_type": "code",
   "execution_count": 220,
   "metadata": {},
   "outputs": [
    {
     "data": {
      "text/plain": [
       "False"
      ]
     },
     "execution_count": 220,
     "metadata": {},
     "output_type": "execute_result"
    }
   ],
   "source": [
    "'GDAL_DATA' in os.environ\n"
   ]
  },
  {
   "cell_type": "code",
   "execution_count": 221,
   "metadata": {},
   "outputs": [
    {
     "data": {
      "text/plain": [
       "{'init': 'epsg:3857'}"
      ]
     },
     "execution_count": 221,
     "metadata": {},
     "output_type": "execute_result"
    }
   ],
   "source": [
    "shapedf.crs"
   ]
  },
  {
   "cell_type": "code",
   "execution_count": 222,
   "metadata": {},
   "outputs": [],
   "source": [
    "#converting crs to drillinginfo coord system\n",
    "shapedf.to_crs(epsg = 26913, inplace = True)"
   ]
  },
  {
   "cell_type": "code",
   "execution_count": 223,
   "metadata": {},
   "outputs": [],
   "source": [
    "shapedf[\"centroids\"] = shapedf.centroid\n"
   ]
  },
  {
   "cell_type": "code",
   "execution_count": 224,
   "metadata": {},
   "outputs": [
    {
     "data": {
      "text/html": [
       "<div>\n",
       "<style scoped>\n",
       "    .dataframe tbody tr th:only-of-type {\n",
       "        vertical-align: middle;\n",
       "    }\n",
       "\n",
       "    .dataframe tbody tr th {\n",
       "        vertical-align: top;\n",
       "    }\n",
       "\n",
       "    .dataframe thead th {\n",
       "        text-align: right;\n",
       "    }\n",
       "</style>\n",
       "<table border=\"1\" class=\"dataframe\">\n",
       "  <thead>\n",
       "    <tr style=\"text-align: right;\">\n",
       "      <th></th>\n",
       "      <th>SaleParcel</th>\n",
       "      <th>lot_no</th>\n",
       "      <th>tract_id</th>\n",
       "      <th>short_code</th>\n",
       "      <th>label</th>\n",
       "      <th>geometry</th>\n",
       "      <th>centroids</th>\n",
       "    </tr>\n",
       "  </thead>\n",
       "  <tbody>\n",
       "    <tr>\n",
       "      <th>0</th>\n",
       "      <td>WY-201Q-105</td>\n",
       "      <td>65012</td>\n",
       "      <td>2</td>\n",
       "      <td>BLMWY-2020-Q1-3</td>\n",
       "      <td>WY-2020-03-0374</td>\n",
       "      <td>MULTIPOLYGON (((173527.819 4984155.461, 173534...</td>\n",
       "      <td>POINT (172183.913 4984182.822)</td>\n",
       "    </tr>\n",
       "    <tr>\n",
       "      <th>1</th>\n",
       "      <td>WY-201Q-063</td>\n",
       "      <td>64970</td>\n",
       "      <td>16</td>\n",
       "      <td>BLMWY-2020-Q1-3</td>\n",
       "      <td>WY-2020-03-6207</td>\n",
       "      <td>MULTIPOLYGON (((219007.722 4650891.363, 218687...</td>\n",
       "      <td>POINT (222418.619 4647579.181)</td>\n",
       "    </tr>\n",
       "    <tr>\n",
       "      <th>2</th>\n",
       "      <td>WY-201Q-001</td>\n",
       "      <td>64908</td>\n",
       "      <td>93</td>\n",
       "      <td>BLMWY-2020-Q1-3</td>\n",
       "      <td>WY-2020-03-6613</td>\n",
       "      <td>POLYGON ((562927.151 4797521.250, 563330.976 4...</td>\n",
       "      <td>POINT (563130.227 4797125.862)</td>\n",
       "    </tr>\n",
       "    <tr>\n",
       "      <th>3</th>\n",
       "      <td>WY-201Q-002</td>\n",
       "      <td>64909</td>\n",
       "      <td>102</td>\n",
       "      <td>BLMWY-2020-Q1-3</td>\n",
       "      <td>WY-2020-03-6660</td>\n",
       "      <td>POLYGON ((514894.040 4607634.757, 515295.946 4...</td>\n",
       "      <td>POINT (515096.374 4607429.194)</td>\n",
       "    </tr>\n",
       "    <tr>\n",
       "      <th>4</th>\n",
       "      <td>WY-201Q-003</td>\n",
       "      <td>64910</td>\n",
       "      <td>89</td>\n",
       "      <td>BLMWY-2020-Q1-3</td>\n",
       "      <td>WY-2020-03-6585</td>\n",
       "      <td>MULTIPOLYGON (((518971.985 4775132.462, 519376...</td>\n",
       "      <td>POINT (520545.083 4773447.285)</td>\n",
       "    </tr>\n",
       "  </tbody>\n",
       "</table>\n",
       "</div>"
      ],
      "text/plain": [
       "    SaleParcel  lot_no  tract_id       short_code            label  \\\n",
       "0  WY-201Q-105   65012         2  BLMWY-2020-Q1-3  WY-2020-03-0374   \n",
       "1  WY-201Q-063   64970        16  BLMWY-2020-Q1-3  WY-2020-03-6207   \n",
       "2  WY-201Q-001   64908        93  BLMWY-2020-Q1-3  WY-2020-03-6613   \n",
       "3  WY-201Q-002   64909       102  BLMWY-2020-Q1-3  WY-2020-03-6660   \n",
       "4  WY-201Q-003   64910        89  BLMWY-2020-Q1-3  WY-2020-03-6585   \n",
       "\n",
       "                                            geometry  \\\n",
       "0  MULTIPOLYGON (((173527.819 4984155.461, 173534...   \n",
       "1  MULTIPOLYGON (((219007.722 4650891.363, 218687...   \n",
       "2  POLYGON ((562927.151 4797521.250, 563330.976 4...   \n",
       "3  POLYGON ((514894.040 4607634.757, 515295.946 4...   \n",
       "4  MULTIPOLYGON (((518971.985 4775132.462, 519376...   \n",
       "\n",
       "                        centroids  \n",
       "0  POINT (172183.913 4984182.822)  \n",
       "1  POINT (222418.619 4647579.181)  \n",
       "2  POINT (563130.227 4797125.862)  \n",
       "3  POINT (515096.374 4607429.194)  \n",
       "4  POINT (520545.083 4773447.285)  "
      ]
     },
     "execution_count": 224,
     "metadata": {},
     "output_type": "execute_result"
    }
   ],
   "source": [
    "shapedf.head()"
   ]
  },
  {
   "cell_type": "code",
   "execution_count": 271,
   "metadata": {},
   "outputs": [],
   "source": [
    "leasesgeo = gp.GeoDataFrame(leases, crs = {'init': 'epsg:4326'}, geometry=gp.points_from_xy(leases[\"Longitude (WGS84)\"], leases[\"Latitude (WGS84)\"]))"
   ]
  },
  {
   "cell_type": "code",
   "execution_count": 272,
   "metadata": {},
   "outputs": [
    {
     "data": {
      "text/html": [
       "<div>\n",
       "<style scoped>\n",
       "    .dataframe tbody tr th:only-of-type {\n",
       "        vertical-align: middle;\n",
       "    }\n",
       "\n",
       "    .dataframe tbody tr th {\n",
       "        vertical-align: top;\n",
       "    }\n",
       "\n",
       "    .dataframe thead th {\n",
       "        text-align: right;\n",
       "    }\n",
       "</style>\n",
       "<table border=\"1\" class=\"dataframe\">\n",
       "  <thead>\n",
       "    <tr style=\"text-align: right;\">\n",
       "      <th></th>\n",
       "      <th>State/Province</th>\n",
       "      <th>Effective Date</th>\n",
       "      <th>Record Date</th>\n",
       "      <th>Expiration of Primary Term</th>\n",
       "      <th>Term (Months)</th>\n",
       "      <th>Grantor</th>\n",
       "      <th>Grantee Alias</th>\n",
       "      <th>Royalty</th>\n",
       "      <th>Bonus</th>\n",
       "      <th>Area (Acres)</th>\n",
       "      <th>...</th>\n",
       "      <th>Majority Legal Assignee</th>\n",
       "      <th>DI Subplay</th>\n",
       "      <th>Min Depth</th>\n",
       "      <th>Majority Assignment Effective Date</th>\n",
       "      <th>Latitude (WGS84)</th>\n",
       "      <th>DI Play</th>\n",
       "      <th>Majority Legal Assignee Interest</th>\n",
       "      <th>Longitude (WGS84)</th>\n",
       "      <th>Majority Assignment Vol/Page</th>\n",
       "      <th>geometry</th>\n",
       "    </tr>\n",
       "  </thead>\n",
       "  <tbody>\n",
       "    <tr>\n",
       "      <th>0</th>\n",
       "      <td>WY</td>\n",
       "      <td>2020-02-15</td>\n",
       "      <td>2020-02-18</td>\n",
       "      <td>2025-02-15</td>\n",
       "      <td>60</td>\n",
       "      <td>HEKHUIS LISA A</td>\n",
       "      <td>CARDINAL NATURAL RESOURCES</td>\n",
       "      <td>0.15</td>\n",
       "      <td>NaN</td>\n",
       "      <td>1196.530029</td>\n",
       "      <td>...</td>\n",
       "      <td>NaN</td>\n",
       "      <td>NaN</td>\n",
       "      <td>0.0</td>\n",
       "      <td>NaN</td>\n",
       "      <td>43.032311</td>\n",
       "      <td>GREEN RIVER - OVERTHRUST</td>\n",
       "      <td>NaN</td>\n",
       "      <td>-110.165357</td>\n",
       "      <td>NaN</td>\n",
       "      <td>POINT (-110.16536 43.03231)</td>\n",
       "    </tr>\n",
       "    <tr>\n",
       "      <th>1</th>\n",
       "      <td>WY</td>\n",
       "      <td>2020-02-15</td>\n",
       "      <td>2020-02-18</td>\n",
       "      <td>2025-02-15</td>\n",
       "      <td>60</td>\n",
       "      <td>HEKHUIS LISA A</td>\n",
       "      <td>CARDINAL NATURAL RESOURCES</td>\n",
       "      <td>0.15</td>\n",
       "      <td>NaN</td>\n",
       "      <td>1196.530029</td>\n",
       "      <td>...</td>\n",
       "      <td>NaN</td>\n",
       "      <td>NaN</td>\n",
       "      <td>0.0</td>\n",
       "      <td>NaN</td>\n",
       "      <td>43.032311</td>\n",
       "      <td>GREEN RIVER - OVERTHRUST</td>\n",
       "      <td>NaN</td>\n",
       "      <td>-110.165357</td>\n",
       "      <td>NaN</td>\n",
       "      <td>POINT (-110.16536 43.03231)</td>\n",
       "    </tr>\n",
       "    <tr>\n",
       "      <th>2</th>\n",
       "      <td>WY</td>\n",
       "      <td>2020-02-15</td>\n",
       "      <td>2020-02-18</td>\n",
       "      <td>2025-02-15</td>\n",
       "      <td>60</td>\n",
       "      <td>HEKHUIS LISA A</td>\n",
       "      <td>CARDINAL NATURAL RESOURCES</td>\n",
       "      <td>0.15</td>\n",
       "      <td>NaN</td>\n",
       "      <td>1196.530029</td>\n",
       "      <td>...</td>\n",
       "      <td>NaN</td>\n",
       "      <td>NaN</td>\n",
       "      <td>0.0</td>\n",
       "      <td>NaN</td>\n",
       "      <td>43.032311</td>\n",
       "      <td>GREEN RIVER - OVERTHRUST</td>\n",
       "      <td>NaN</td>\n",
       "      <td>-110.165357</td>\n",
       "      <td>NaN</td>\n",
       "      <td>POINT (-110.16536 43.03231)</td>\n",
       "    </tr>\n",
       "    <tr>\n",
       "      <th>3</th>\n",
       "      <td>WY</td>\n",
       "      <td>2020-02-15</td>\n",
       "      <td>2020-02-18</td>\n",
       "      <td>2025-02-15</td>\n",
       "      <td>60</td>\n",
       "      <td>HEKHUIS LISA A</td>\n",
       "      <td>CARDINAL NATURAL RESOURCES</td>\n",
       "      <td>0.15</td>\n",
       "      <td>NaN</td>\n",
       "      <td>1196.530029</td>\n",
       "      <td>...</td>\n",
       "      <td>NaN</td>\n",
       "      <td>NaN</td>\n",
       "      <td>0.0</td>\n",
       "      <td>NaN</td>\n",
       "      <td>43.032311</td>\n",
       "      <td>GREEN RIVER - OVERTHRUST</td>\n",
       "      <td>NaN</td>\n",
       "      <td>-110.165357</td>\n",
       "      <td>NaN</td>\n",
       "      <td>POINT (-110.16536 43.03231)</td>\n",
       "    </tr>\n",
       "    <tr>\n",
       "      <th>4</th>\n",
       "      <td>WY</td>\n",
       "      <td>2020-02-15</td>\n",
       "      <td>2020-02-18</td>\n",
       "      <td>2025-02-15</td>\n",
       "      <td>60</td>\n",
       "      <td>HEKHUIS LISA A</td>\n",
       "      <td>CARDINAL NATURAL RESOURCES</td>\n",
       "      <td>0.15</td>\n",
       "      <td>NaN</td>\n",
       "      <td>1196.530029</td>\n",
       "      <td>...</td>\n",
       "      <td>NaN</td>\n",
       "      <td>NaN</td>\n",
       "      <td>0.0</td>\n",
       "      <td>NaN</td>\n",
       "      <td>43.017853</td>\n",
       "      <td>GREEN RIVER - OVERTHRUST</td>\n",
       "      <td>NaN</td>\n",
       "      <td>-110.165288</td>\n",
       "      <td>NaN</td>\n",
       "      <td>POINT (-110.16529 43.01785)</td>\n",
       "    </tr>\n",
       "  </tbody>\n",
       "</table>\n",
       "<p>5 rows × 42 columns</p>\n",
       "</div>"
      ],
      "text/plain": [
       "  State/Province Effective Date Record Date Expiration of Primary Term  \\\n",
       "0             WY     2020-02-15  2020-02-18                 2025-02-15   \n",
       "1             WY     2020-02-15  2020-02-18                 2025-02-15   \n",
       "2             WY     2020-02-15  2020-02-18                 2025-02-15   \n",
       "3             WY     2020-02-15  2020-02-18                 2025-02-15   \n",
       "4             WY     2020-02-15  2020-02-18                 2025-02-15   \n",
       "\n",
       "   Term (Months)          Grantor               Grantee Alias  Royalty  Bonus  \\\n",
       "0             60  HEKHUIS LISA A   CARDINAL NATURAL RESOURCES     0.15    NaN   \n",
       "1             60  HEKHUIS LISA A   CARDINAL NATURAL RESOURCES     0.15    NaN   \n",
       "2             60  HEKHUIS LISA A   CARDINAL NATURAL RESOURCES     0.15    NaN   \n",
       "3             60  HEKHUIS LISA A   CARDINAL NATURAL RESOURCES     0.15    NaN   \n",
       "4             60  HEKHUIS LISA A   CARDINAL NATURAL RESOURCES     0.15    NaN   \n",
       "\n",
       "   Area (Acres)  ...  Majority Legal Assignee  DI Subplay Min Depth  \\\n",
       "0   1196.530029  ...                      NaN         NaN       0.0   \n",
       "1   1196.530029  ...                      NaN         NaN       0.0   \n",
       "2   1196.530029  ...                      NaN         NaN       0.0   \n",
       "3   1196.530029  ...                      NaN         NaN       0.0   \n",
       "4   1196.530029  ...                      NaN         NaN       0.0   \n",
       "\n",
       "   Majority Assignment Effective Date Latitude (WGS84)  \\\n",
       "0                                 NaN        43.032311   \n",
       "1                                 NaN        43.032311   \n",
       "2                                 NaN        43.032311   \n",
       "3                                 NaN        43.032311   \n",
       "4                                 NaN        43.017853   \n",
       "\n",
       "                    DI Play Majority Legal Assignee Interest  \\\n",
       "0  GREEN RIVER - OVERTHRUST                              NaN   \n",
       "1  GREEN RIVER - OVERTHRUST                              NaN   \n",
       "2  GREEN RIVER - OVERTHRUST                              NaN   \n",
       "3  GREEN RIVER - OVERTHRUST                              NaN   \n",
       "4  GREEN RIVER - OVERTHRUST                              NaN   \n",
       "\n",
       "  Longitude (WGS84) Majority Assignment Vol/Page                     geometry  \n",
       "0       -110.165357                          NaN  POINT (-110.16536 43.03231)  \n",
       "1       -110.165357                          NaN  POINT (-110.16536 43.03231)  \n",
       "2       -110.165357                          NaN  POINT (-110.16536 43.03231)  \n",
       "3       -110.165357                          NaN  POINT (-110.16536 43.03231)  \n",
       "4       -110.165288                          NaN  POINT (-110.16529 43.01785)  \n",
       "\n",
       "[5 rows x 42 columns]"
      ]
     },
     "execution_count": 272,
     "metadata": {},
     "output_type": "execute_result"
    }
   ],
   "source": [
    "leasesgeo.head()"
   ]
  },
  {
   "cell_type": "markdown",
   "metadata": {},
   "source": [
    "latlongs = prod[[\"Surface Latitude (WGS84)\", \"Surface Longitude (WGS84)\"]]"
   ]
  },
  {
   "cell_type": "markdown",
   "metadata": {},
   "source": [
    "latlongs = gp.GeoDataFrame(latlongs, crs = coordSystem, geometry=gp.points_from_xy(latlongs.iloc[:,1], latlongs.iloc[:,0]))"
   ]
  },
  {
   "cell_type": "markdown",
   "metadata": {},
   "source": [
    "## Shapefile Downloads from DI\n"
   ]
  },
  {
   "cell_type": "code",
   "execution_count": 265,
   "metadata": {},
   "outputs": [
    {
     "data": {
      "text/plain": [
       "{'init': 'epsg:26913', 'no_defs': True}"
      ]
     },
     "execution_count": 265,
     "metadata": {},
     "output_type": "execute_result"
    }
   ],
   "source": [
    "#this is shapefile downloaded from drillinginfo holding well information\n",
    "prodshp = gp.read_file(\"zip://Data/production.ZIP\")\n",
    "prodshp.to_crs(epsg = 26913, inplace = True)\n",
    "prodshp.crs"
   ]
  },
  {
   "cell_type": "code",
   "execution_count": 266,
   "metadata": {},
   "outputs": [
    {
     "data": {
      "text/plain": [
       "{'init': 'epsg:26913', 'no_defs': True}"
      ]
     },
     "execution_count": 266,
     "metadata": {},
     "output_type": "execute_result"
    }
   ],
   "source": [
    "permitshp = gp.read_file(\"zip://Data/permits.ZIP\")\n",
    "permitshp.to_crs(epsg = 26913, inplace = True)\n",
    "permitshp.crs"
   ]
  },
  {
   "cell_type": "code",
   "execution_count": 273,
   "metadata": {},
   "outputs": [
    {
     "data": {
      "text/plain": [
       "{'init': 'epsg:4326'}"
      ]
     },
     "execution_count": 273,
     "metadata": {},
     "output_type": "execute_result"
    }
   ],
   "source": [
    "leasesgeo.crs\n"
   ]
  },
  {
   "cell_type": "code",
   "execution_count": 274,
   "metadata": {},
   "outputs": [],
   "source": [
    "leasesgeo.to_crs(epsg = 26913, inplace = True)"
   ]
  },
  {
   "cell_type": "code",
   "execution_count": 227,
   "metadata": {},
   "outputs": [],
   "source": [
    "converse = permitshp[permitshp[\"County\"]==\"CONVERSE (WY)\"]"
   ]
  },
  {
   "cell_type": "code",
   "execution_count": 228,
   "metadata": {},
   "outputs": [
    {
     "data": {
      "text/plain": [
       "<matplotlib.axes._subplots.AxesSubplot at 0x1a18689a58>"
      ]
     },
     "execution_count": 228,
     "metadata": {},
     "output_type": "execute_result"
    },
    {
     "data": {
      "image/png": "[encoded data removed]",
      "text/plain": [
       "<Figure size 432x288 with 1 Axes>"
      ]
     },
     "metadata": {
      "needs_background": "light"
     },
     "output_type": "display_data"
    }
   ],
   "source": [
    "converse.plot()"
   ]
  },
  {
   "cell_type": "code",
   "execution_count": 229,
   "metadata": {},
   "outputs": [
    {
     "data": {
      "text/plain": [
       "{'init': 'epsg:26913', 'no_defs': True}"
      ]
     },
     "execution_count": 229,
     "metadata": {},
     "output_type": "execute_result"
    }
   ],
   "source": [
    "shapedf.crs"
   ]
  },
  {
   "cell_type": "code",
   "execution_count": 230,
   "metadata": {},
   "outputs": [
    {
     "data": {
      "text/plain": [
       "<matplotlib.axes._subplots.AxesSubplot at 0x1a20e53a90>"
      ]
     },
     "execution_count": 230,
     "metadata": {},
     "output_type": "execute_result"
    },
    {
     "data": {
      "image/png": "[encoded data removed]",
      "text/plain": [
       "<Figure size 432x288 with 1 Axes>"
      ]
     },
     "metadata": {
      "needs_background": "light"
     },
     "output_type": "display_data"
    }
   ],
   "source": [
    "shapedf.plot()"
   ]
  },
  {
   "cell_type": "code",
   "execution_count": 231,
   "metadata": {},
   "outputs": [
    {
     "data": {
      "image/svg+xml": [
       "<svg xmlns=\"http://www.w3.org/2000/svg\" xmlns:xlink=\"http://www.w3.org/1999/xlink\" width=\"300\" height=\"300\" viewBox=\"160779.11258686782 4972778.022180478 22809.599999999977 22809.599999999627\" preserveAspectRatio=\"xMinYMin meet\"><g transform=\"matrix(1,0,0,-1,0,9968365.644360956)\"><path fill-rule=\"evenodd\" fill=\"#66cc99\" stroke=\"#555555\" stroke-width=\"152.06399999999985\" opacity=\"0.6\" d=\"M 182743.9125868678,4984182.822180478 L 182723.07483907035,4983519.754294248 L 182660.6438327487,4982859.303234039 L 182556.86595456276,4982204.075498452 L 182412.15076838614,4981556.656972017 L 182227.06939894464,4980919.602719879 L 182002.35227784773,4980295.426904128 L 181738.88626090897,4979686.592861551 L 181437.71112813102,4979095.503381964 L 181100.0154801691,4978524.4912255 L 180727.13204746725,4977975.809916269 L 180320.53243058015,4977451.624848732 L 179881.82129243793,4976954.004741871 L 179412.73002547477,4976484.913474908 L 178915.10991861398,4976046.202336766 L 178390.92485107633,4975639.602719879 L 177842.24354184602,4975266.719287177 L 177271.23138538192,4974929.023639215 L 176680.141905795,4974627.848506437 L 176071.307863218,4974364.382489498 L 175447.13204746725,4974139.665368401 L 174810.0777953287,4973954.5839989595 L 174162.65926889307,4973809.868812783 L 173507.4315333069,4973706.090934597 L 172846.98047309738,4973643.659928275 L 172183.91258686784,4973622.822180478 L 171520.8447006383,4973643.659928275 L 170860.39364042878,4973706.090934597 L 170205.16590484258,4973809.868812783 L 169557.74737840696,4973954.5839989595 L 168920.6931262684,4974139.665368401 L 168296.51731051764,4974364.382489498 L 167687.68326794068,4974627.848506437 L 167096.59378835373,4974929.023639214 L 166525.58163188962,4975266.719287177 L 165976.90032265932,4975639.602719879 L 165452.71525512167,4976046.202336766 L 164955.09514826088,4976484.913474908 L 164486.0038812977,4976954.004741871 L 164047.2927431555,4977451.624848732 L 163640.69312626836,4977975.809916269 L 163267.80969356655,4978524.4912255 L 162930.11404560463,4979095.503381964 L 162628.93891282665,4979686.592861551 L 162365.47289588788,4980295.426904128 L 162140.755774791,4980919.602719879 L 161955.67440534948,4981556.656972017 L 161810.95921917286,4982204.075498452 L 161707.18134098692,4982859.303234039 L 161644.75033466527,4983519.754294248 L 161623.9125868678,4984182.822180478 L 161644.75033466527,4984845.8900667075 L 161707.18134098692,4985506.341126917 L 161810.95921917286,4986161.568862503 L 161955.67440534948,4986808.987388939 L 162140.75577479097,4987446.041641077 L 162365.47289588785,4988070.217456828 L 162628.93891282665,4988679.051499405 L 162930.1140456046,4989270.140978992 L 163267.80969356652,4989841.153135456 L 163640.69312626836,4990389.834444687 L 164047.29274315547,4990914.019512224 L 164486.0038812977,4991411.639619085 L 164955.09514826085,4991880.730886048 L 165452.71525512164,4992319.44202419 L 165976.9003226593,4992726.041641077 L 166525.5816318896,4993098.925073779 L 167096.59378835367,4993436.620721741 L 167687.68326794062,4993737.795854519 L 168296.51731051758,4994001.261871458 L 168920.69312626834,4994225.978992554 L 169557.7473784069,4994411.060361996 L 170205.16590484252,4994555.775548173 L 170860.39364042872,4994659.553426359 L 171520.8447006382,4994721.9844326805 L 172183.91258686775,4994742.822180478 L 172846.9804730973,4994721.9844326805 L 173507.4315333068,4994659.553426359 L 174162.659268893,4994555.775548173 L 174810.0777953286,4994411.060361996 L 175447.1320474672,4994225.978992554 L 176071.30786321795,4994001.261871458 L 176680.1419057949,4993737.795854519 L 177271.23138538186,4993436.620721742 L 177842.24354184594,4993098.925073779 L 178390.92485107627,4992726.041641077 L 178915.1099186139,4992319.44202419 L 179412.73002547468,4991880.730886048 L 179881.82129243785,4991411.639619085 L 180320.5324305801,4990914.019512224 L 180727.1320474672,4990389.834444687 L 181100.01548016904,4989841.153135456 L 181437.71112813096,4989270.140978992 L 181738.8862609089,4988679.051499405 L 182002.3522778477,4988070.217456828 L 182227.0693989446,4987446.041641077 L 182412.1507683861,4986808.987388939 L 182556.86595456273,4986161.568862503 L 182660.64383274867,4985506.341126917 L 182723.07483907035,4984845.8900667075 L 182743.9125868678,4984182.822180478 z\" /></g></svg>"
      ],
      "text/plain": [
       "<shapely.geometry.polygon.Polygon at 0x1a220ec550>"
      ]
     },
     "execution_count": 231,
     "metadata": {},
     "output_type": "execute_result"
    }
   ],
   "source": [
    "shapedf.centroids.iloc[0].buffer(10560,25)"
   ]
  },
  {
   "cell_type": "code",
   "execution_count": 313,
   "metadata": {},
   "outputs": [],
   "source": [
    "shapedf[\"buffers\"] = shapedf.centroids.apply(lambda x: x.buffer(4828,20))\n"
   ]
  },
  {
   "cell_type": "code",
   "execution_count": 314,
   "metadata": {},
   "outputs": [],
   "source": [
    "permFiltered = permitshp.within(shapedf[shapedf[\"tract_id\"] ==40][\"buffers\"].iloc[0])\n",
    "prodFiltered = prodshp.within(shapedf[shapedf[\"tract_id\"] ==40][\"buffers\"].iloc[0])\n",
    "leasesFiltered = leasesgeo.within(shapedf[shapedf[\"tract_id\"]==40][\"buffers\"].iloc[0])"
   ]
  },
  {
   "cell_type": "code",
   "execution_count": 315,
   "metadata": {},
   "outputs": [
    {
     "data": {
      "text/plain": [
       "False    46457\n",
       "True        12\n",
       "dtype: int64"
      ]
     },
     "execution_count": 315,
     "metadata": {},
     "output_type": "execute_result"
    }
   ],
   "source": [
    "permFiltered.value_counts()"
   ]
  },
  {
   "cell_type": "code",
   "execution_count": 316,
   "metadata": {},
   "outputs": [],
   "source": [
    "permittoeval = permitshp.loc[permFiltered]"
   ]
  },
  {
   "cell_type": "code",
   "execution_count": 317,
   "metadata": {},
   "outputs": [],
   "source": [
    "prodtoeval = prodshp.loc[prodFiltered]"
   ]
  },
  {
   "cell_type": "code",
   "execution_count": 318,
   "metadata": {},
   "outputs": [
    {
     "data": {
      "text/plain": [
       "False    62874\n",
       "True         6\n",
       "dtype: int64"
      ]
     },
     "execution_count": 318,
     "metadata": {},
     "output_type": "execute_result"
    }
   ],
   "source": [
    "prodFiltered.value_counts()"
   ]
  },
  {
   "cell_type": "code",
   "execution_count": 319,
   "metadata": {},
   "outputs": [
    {
     "data": {
      "text/plain": [
       "False    53264\n",
       "True         2\n",
       "dtype: int64"
      ]
     },
     "execution_count": 319,
     "metadata": {},
     "output_type": "execute_result"
    }
   ],
   "source": [
    "leasesFiltered.value_counts()"
   ]
  },
  {
   "cell_type": "code",
   "execution_count": null,
   "metadata": {},
   "outputs": [],
   "source": []
  },
  {
   "cell_type": "code",
   "execution_count": 320,
   "metadata": {},
   "outputs": [],
   "source": [
    "leasestoeval = leasesgeo.loc[leasesFiltered]"
   ]
  },
  {
   "cell_type": "code",
   "execution_count": 321,
   "metadata": {},
   "outputs": [
    {
     "data": {
      "text/html": [
       "<div>\n",
       "<style scoped>\n",
       "    .dataframe tbody tr th:only-of-type {\n",
       "        vertical-align: middle;\n",
       "    }\n",
       "\n",
       "    .dataframe tbody tr th {\n",
       "        vertical-align: top;\n",
       "    }\n",
       "\n",
       "    .dataframe thead th {\n",
       "        text-align: right;\n",
       "    }\n",
       "</style>\n",
       "<table border=\"1\" class=\"dataframe\">\n",
       "  <thead>\n",
       "    <tr style=\"text-align: right;\">\n",
       "      <th></th>\n",
       "      <th>State/Province</th>\n",
       "      <th>Effective Date</th>\n",
       "      <th>Record Date</th>\n",
       "      <th>Expiration of Primary Term</th>\n",
       "      <th>Term (Months)</th>\n",
       "      <th>Grantor</th>\n",
       "      <th>Grantee Alias</th>\n",
       "      <th>Royalty</th>\n",
       "      <th>Bonus</th>\n",
       "      <th>Area (Acres)</th>\n",
       "      <th>...</th>\n",
       "      <th>Majority Legal Assignee</th>\n",
       "      <th>DI Subplay</th>\n",
       "      <th>Min Depth</th>\n",
       "      <th>Majority Assignment Effective Date</th>\n",
       "      <th>Latitude (WGS84)</th>\n",
       "      <th>DI Play</th>\n",
       "      <th>Majority Legal Assignee Interest</th>\n",
       "      <th>Longitude (WGS84)</th>\n",
       "      <th>Majority Assignment Vol/Page</th>\n",
       "      <th>geometry</th>\n",
       "    </tr>\n",
       "  </thead>\n",
       "  <tbody>\n",
       "    <tr>\n",
       "      <th>4777</th>\n",
       "      <td>WY</td>\n",
       "      <td>NaN</td>\n",
       "      <td>2019-09-13</td>\n",
       "      <td>2020-08-23</td>\n",
       "      <td>12</td>\n",
       "      <td>PELLATZ ROBERT D ET AL</td>\n",
       "      <td>DEVON ENERGY</td>\n",
       "      <td>NaN</td>\n",
       "      <td>NaN</td>\n",
       "      <td>0.0</td>\n",
       "      <td>...</td>\n",
       "      <td>NaN</td>\n",
       "      <td>NaN</td>\n",
       "      <td>0.0</td>\n",
       "      <td>NaN</td>\n",
       "      <td>43.167017</td>\n",
       "      <td>POWDER RIVER</td>\n",
       "      <td>NaN</td>\n",
       "      <td>-105.389570</td>\n",
       "      <td>NaN</td>\n",
       "      <td>POINT (468332.890 4779435.622)</td>\n",
       "    </tr>\n",
       "    <tr>\n",
       "      <th>49813</th>\n",
       "      <td>WY</td>\n",
       "      <td>NaN</td>\n",
       "      <td>2014-08-05</td>\n",
       "      <td>2024-08-05</td>\n",
       "      <td>120</td>\n",
       "      <td>BLM</td>\n",
       "      <td>MBI O&amp;G</td>\n",
       "      <td>0.125</td>\n",
       "      <td>3100.0</td>\n",
       "      <td>320.0</td>\n",
       "      <td>...</td>\n",
       "      <td>NaN</td>\n",
       "      <td>NaN</td>\n",
       "      <td>NaN</td>\n",
       "      <td>NaN</td>\n",
       "      <td>43.239942</td>\n",
       "      <td>POWDER RIVER</td>\n",
       "      <td>NaN</td>\n",
       "      <td>-105.388968</td>\n",
       "      <td>NaN</td>\n",
       "      <td>POINT (468419.520 4787533.967)</td>\n",
       "    </tr>\n",
       "  </tbody>\n",
       "</table>\n",
       "<p>2 rows × 42 columns</p>\n",
       "</div>"
      ],
      "text/plain": [
       "      State/Province Effective Date Record Date Expiration of Primary Term  \\\n",
       "4777              WY            NaN  2019-09-13                 2020-08-23   \n",
       "49813             WY            NaN  2014-08-05                 2024-08-05   \n",
       "\n",
       "       Term (Months)                  Grantor Grantee Alias  Royalty   Bonus  \\\n",
       "4777              12  PELLATZ ROBERT D ET AL   DEVON ENERGY      NaN     NaN   \n",
       "49813            120                     BLM        MBI O&G    0.125  3100.0   \n",
       "\n",
       "       Area (Acres)  ...  Majority Legal Assignee  DI Subplay Min Depth  \\\n",
       "4777            0.0  ...                      NaN         NaN       0.0   \n",
       "49813         320.0  ...                      NaN         NaN       NaN   \n",
       "\n",
       "       Majority Assignment Effective Date Latitude (WGS84)       DI Play  \\\n",
       "4777                                  NaN        43.167017  POWDER RIVER   \n",
       "49813                                 NaN        43.239942  POWDER RIVER   \n",
       "\n",
       "      Majority Legal Assignee Interest Longitude (WGS84)  \\\n",
       "4777                               NaN       -105.389570   \n",
       "49813                              NaN       -105.388968   \n",
       "\n",
       "      Majority Assignment Vol/Page                        geometry  \n",
       "4777                           NaN  POINT (468332.890 4779435.622)  \n",
       "49813                          NaN  POINT (468419.520 4787533.967)  \n",
       "\n",
       "[2 rows x 42 columns]"
      ]
     },
     "execution_count": 321,
     "metadata": {},
     "output_type": "execute_result"
    }
   ],
   "source": [
    "leasestoeval"
   ]
  },
  {
   "cell_type": "code",
   "execution_count": 324,
   "metadata": {},
   "outputs": [
    {
     "data": {
      "text/plain": [
       "3100.0"
      ]
     },
     "execution_count": 324,
     "metadata": {},
     "output_type": "execute_result"
    }
   ],
   "source": [
    "leasestoeval.describe()[\"Bonus\"][\"mean\"]"
   ]
  },
  {
   "cell_type": "code",
   "execution_count": null,
   "metadata": {},
   "outputs": [],
   "source": []
  },
  {
   "cell_type": "code",
   "execution_count": null,
   "metadata": {},
   "outputs": [],
   "source": []
  }
 ],
 "metadata": {
  "kernelspec": {
   "display_name": "Python 3",
   "language": "python",
   "name": "python3"
  },
  "language_info": {
   "codemirror_mode": {
    "name": "ipython",
    "version": 3
   },
   "file_extension": ".py",
   "mimetype": "text/x-python",
   "name": "python",
   "nbconvert_exporter": "python",
   "pygments_lexer": "ipython3",
   "version": "3.6.10"
  }
 },
 "nbformat": 4,
 "nbformat_minor": 2
}
