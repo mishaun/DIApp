{
 "cells": [
  {
   "cell_type": "code",
   "execution_count": 1,
   "metadata": {},
   "outputs": [],
   "source": [
    "import pandas as pd\n",
    "import geopandas as gp\n",
    "import numpy as np\n",
    "import seaborn as sns"
   ]
  },
  {
   "cell_type": "code",
   "execution_count": 2,
   "metadata": {},
   "outputs": [
    {
     "name": "stderr",
     "output_type": "stream",
     "text": [
      "C:\\Users\\mishaun\\AppData\\Local\\Continuum\\anaconda3\\lib\\site-packages\\IPython\\core\\interactiveshell.py:3058: DtypeWarning: Columns (0,20,32,33,35,37) have mixed types. Specify dtype option on import or set low_memory=False.\n",
      "  interactivity=interactivity, compiler=compiler, result=result)\n"
     ]
    }
   ],
   "source": [
    "prod = pd.read_csv(\"Data/Production Table.CSV\")\n",
    "perm = pd.read_csv(\"Data/PermitsTable.CSV\")\n",
    "leases = pd.read_csv(\"Data/LeasesTable.CSV\")\n",
    "\n",
    "#had to add GDAL_DATA variable to system variables and set value to the folder of gdal in C:\\Users\\mishaun\\AppData\\Local\\Continuum\\anaconda3\\Library\\share\\gdal on my work computer\n",
    "shapezipfile = (\"zip://Data/BLMWY-2020-Q1-3_WGS84.zip\")\n",
    "shapedf = gp.read_file(shapezipfile, encoding = \"utf-8\")"
   ]
  },
  {
   "cell_type": "code",
   "execution_count": 3,
   "metadata": {},
   "outputs": [],
   "source": [
    "import os"
   ]
  },
  {
   "cell_type": "code",
   "execution_count": 4,
   "metadata": {},
   "outputs": [
    {
     "data": {
      "text/plain": [
       "True"
      ]
     },
     "execution_count": 4,
     "metadata": {},
     "output_type": "execute_result"
    }
   ],
   "source": [
    "'GDAL_DATA' in os.environ\n"
   ]
  },
  {
   "cell_type": "code",
   "execution_count": 5,
   "metadata": {},
   "outputs": [
    {
     "data": {
      "text/html": [
       "<div>\n",
       "<style scoped>\n",
       "    .dataframe tbody tr th:only-of-type {\n",
       "        vertical-align: middle;\n",
       "    }\n",
       "\n",
       "    .dataframe tbody tr th {\n",
       "        vertical-align: top;\n",
       "    }\n",
       "\n",
       "    .dataframe thead th {\n",
       "        text-align: right;\n",
       "    }\n",
       "</style>\n",
       "<table border=\"1\" class=\"dataframe\">\n",
       "  <thead>\n",
       "    <tr style=\"text-align: right;\">\n",
       "      <th></th>\n",
       "      <th>SaleParcel</th>\n",
       "      <th>lot_no</th>\n",
       "      <th>tract_id</th>\n",
       "      <th>short_code</th>\n",
       "      <th>label</th>\n",
       "      <th>geometry</th>\n",
       "    </tr>\n",
       "  </thead>\n",
       "  <tbody>\n",
       "    <tr>\n",
       "      <td>15</td>\n",
       "      <td>WY-201Q-104</td>\n",
       "      <td>65011</td>\n",
       "      <td>1</td>\n",
       "      <td>BLMWY-2020-Q1-3</td>\n",
       "      <td>WY-2020-03-0370</td>\n",
       "      <td>POLYGON ((-11713714.925 5431799.214, -11713154...</td>\n",
       "    </tr>\n",
       "    <tr>\n",
       "      <td>0</td>\n",
       "      <td>WY-201Q-105</td>\n",
       "      <td>65012</td>\n",
       "      <td>2</td>\n",
       "      <td>BLMWY-2020-Q1-3</td>\n",
       "      <td>WY-2020-03-0374</td>\n",
       "      <td>MULTIPOLYGON (((-12149143.928 5611425.018, -12...</td>\n",
       "    </tr>\n",
       "    <tr>\n",
       "      <td>41</td>\n",
       "      <td>WY-201Q-035</td>\n",
       "      <td>64942</td>\n",
       "      <td>3</td>\n",
       "      <td>BLMWY-2020-Q1-3</td>\n",
       "      <td>WY-2020-03-0691</td>\n",
       "      <td>MULTIPOLYGON (((-11888144.844 5609413.885, -11...</td>\n",
       "    </tr>\n",
       "    <tr>\n",
       "      <td>31</td>\n",
       "      <td>WY-201Q-025</td>\n",
       "      <td>64932</td>\n",
       "      <td>4</td>\n",
       "      <td>BLMWY-2020-Q1-3</td>\n",
       "      <td>WY-2020-03-6024</td>\n",
       "      <td>MULTIPOLYGON (((-11739044.208 5458709.610, -11...</td>\n",
       "    </tr>\n",
       "    <tr>\n",
       "      <td>44</td>\n",
       "      <td>WY-201Q-038</td>\n",
       "      <td>64945</td>\n",
       "      <td>5</td>\n",
       "      <td>BLMWY-2020-Q1-3</td>\n",
       "      <td>WY-2020-03-6161</td>\n",
       "      <td>MULTIPOLYGON (((-11984622.871 5157909.884, -11...</td>\n",
       "    </tr>\n",
       "  </tbody>\n",
       "</table>\n",
       "</div>"
      ],
      "text/plain": [
       "     SaleParcel  lot_no  tract_id       short_code            label  \\\n",
       "15  WY-201Q-104   65011         1  BLMWY-2020-Q1-3  WY-2020-03-0370   \n",
       "0   WY-201Q-105   65012         2  BLMWY-2020-Q1-3  WY-2020-03-0374   \n",
       "41  WY-201Q-035   64942         3  BLMWY-2020-Q1-3  WY-2020-03-0691   \n",
       "31  WY-201Q-025   64932         4  BLMWY-2020-Q1-3  WY-2020-03-6024   \n",
       "44  WY-201Q-038   64945         5  BLMWY-2020-Q1-3  WY-2020-03-6161   \n",
       "\n",
       "                                             geometry  \n",
       "15  POLYGON ((-11713714.925 5431799.214, -11713154...  \n",
       "0   MULTIPOLYGON (((-12149143.928 5611425.018, -12...  \n",
       "41  MULTIPOLYGON (((-11888144.844 5609413.885, -11...  \n",
       "31  MULTIPOLYGON (((-11739044.208 5458709.610, -11...  \n",
       "44  MULTIPOLYGON (((-11984622.871 5157909.884, -11...  "
      ]
     },
     "execution_count": 5,
     "metadata": {},
     "output_type": "execute_result"
    }
   ],
   "source": [
    "shapedf.sort_values(\"tract_id\", inplace = True)\n",
    "shapedf.head()"
   ]
  },
  {
   "cell_type": "code",
   "execution_count": 6,
   "metadata": {},
   "outputs": [
    {
     "data": {
      "text/plain": [
       "{'init': 'epsg:3857'}"
      ]
     },
     "execution_count": 6,
     "metadata": {},
     "output_type": "execute_result"
    }
   ],
   "source": [
    "shapedf.crs"
   ]
  },
  {
   "cell_type": "code",
   "execution_count": 13,
   "metadata": {},
   "outputs": [],
   "source": [
    "#converting crs to drillinginfo coord system\n",
    "shapedf.to_crs(epsg = 4326, inplace = True)"
   ]
  },
  {
   "cell_type": "code",
   "execution_count": 8,
   "metadata": {},
   "outputs": [],
   "source": [
    "shapedf[\"centroids\"] = shapedf.centroid\n",
    "shapedf[\"area\"] = shapedf.area"
   ]
  },
  {
   "cell_type": "code",
   "execution_count": 9,
   "metadata": {},
   "outputs": [
    {
     "data": {
      "text/html": [
       "<div>\n",
       "<style scoped>\n",
       "    .dataframe tbody tr th:only-of-type {\n",
       "        vertical-align: middle;\n",
       "    }\n",
       "\n",
       "    .dataframe tbody tr th {\n",
       "        vertical-align: top;\n",
       "    }\n",
       "\n",
       "    .dataframe thead th {\n",
       "        text-align: right;\n",
       "    }\n",
       "</style>\n",
       "<table border=\"1\" class=\"dataframe\">\n",
       "  <thead>\n",
       "    <tr style=\"text-align: right;\">\n",
       "      <th></th>\n",
       "      <th>SaleParcel</th>\n",
       "      <th>lot_no</th>\n",
       "      <th>tract_id</th>\n",
       "      <th>short_code</th>\n",
       "      <th>label</th>\n",
       "      <th>geometry</th>\n",
       "      <th>centroids</th>\n",
       "      <th>area</th>\n",
       "    </tr>\n",
       "  </thead>\n",
       "  <tbody>\n",
       "    <tr>\n",
       "      <td>15</td>\n",
       "      <td>WY-201Q-104</td>\n",
       "      <td>65011</td>\n",
       "      <td>1</td>\n",
       "      <td>BLMWY-2020-Q1-3</td>\n",
       "      <td>WY-2020-03-0370</td>\n",
       "      <td>POLYGON ((-11713714.925 5431799.214, -11713154...</td>\n",
       "      <td>POINT (-11714129.828 5430733.551)</td>\n",
       "      <td>4.112562e+06</td>\n",
       "    </tr>\n",
       "    <tr>\n",
       "      <td>0</td>\n",
       "      <td>WY-201Q-105</td>\n",
       "      <td>65012</td>\n",
       "      <td>2</td>\n",
       "      <td>BLMWY-2020-Q1-3</td>\n",
       "      <td>WY-2020-03-0374</td>\n",
       "      <td>MULTIPOLYGON (((-12149143.928 5611425.018, -12...</td>\n",
       "      <td>POINT (-12151036.964 5611366.277)</td>\n",
       "      <td>7.584852e+06</td>\n",
       "    </tr>\n",
       "    <tr>\n",
       "      <td>41</td>\n",
       "      <td>WY-201Q-035</td>\n",
       "      <td>64942</td>\n",
       "      <td>3</td>\n",
       "      <td>BLMWY-2020-Q1-3</td>\n",
       "      <td>WY-2020-03-0691</td>\n",
       "      <td>MULTIPOLYGON (((-11888144.844 5609413.885, -11...</td>\n",
       "      <td>POINT (-11882951.427 5611217.241)</td>\n",
       "      <td>1.313751e+07</td>\n",
       "    </tr>\n",
       "    <tr>\n",
       "      <td>31</td>\n",
       "      <td>WY-201Q-025</td>\n",
       "      <td>64932</td>\n",
       "      <td>4</td>\n",
       "      <td>BLMWY-2020-Q1-3</td>\n",
       "      <td>WY-2020-03-6024</td>\n",
       "      <td>MULTIPOLYGON (((-11739044.208 5458709.610, -11...</td>\n",
       "      <td>POINT (-11739545.873 5458979.659)</td>\n",
       "      <td>1.548692e+06</td>\n",
       "    </tr>\n",
       "    <tr>\n",
       "      <td>44</td>\n",
       "      <td>WY-201Q-038</td>\n",
       "      <td>64945</td>\n",
       "      <td>5</td>\n",
       "      <td>BLMWY-2020-Q1-3</td>\n",
       "      <td>WY-2020-03-6161</td>\n",
       "      <td>MULTIPOLYGON (((-11984622.871 5157909.884, -11...</td>\n",
       "      <td>POINT (-11983538.111 5157895.777)</td>\n",
       "      <td>1.872264e+07</td>\n",
       "    </tr>\n",
       "    <tr>\n",
       "      <td>...</td>\n",
       "      <td>...</td>\n",
       "      <td>...</td>\n",
       "      <td>...</td>\n",
       "      <td>...</td>\n",
       "      <td>...</td>\n",
       "      <td>...</td>\n",
       "      <td>...</td>\n",
       "      <td>...</td>\n",
       "    </tr>\n",
       "    <tr>\n",
       "      <td>5</td>\n",
       "      <td>WY-201Q-004</td>\n",
       "      <td>64911</td>\n",
       "      <td>101</td>\n",
       "      <td>BLMWY-2020-Q1-3</td>\n",
       "      <td>WY-2020-03-6659</td>\n",
       "      <td>MULTIPOLYGON (((-11668120.134 5328237.903, -11...</td>\n",
       "      <td>POINT (-11665778.940 5323059.523)</td>\n",
       "      <td>1.219867e+07</td>\n",
       "    </tr>\n",
       "    <tr>\n",
       "      <td>3</td>\n",
       "      <td>WY-201Q-002</td>\n",
       "      <td>64909</td>\n",
       "      <td>102</td>\n",
       "      <td>BLMWY-2020-Q1-3</td>\n",
       "      <td>WY-2020-03-6660</td>\n",
       "      <td>POLYGON ((-11668644.556 5104269.969, -11668107...</td>\n",
       "      <td>POINT (-11668374.769 5103993.695)</td>\n",
       "      <td>2.901940e+05</td>\n",
       "    </tr>\n",
       "    <tr>\n",
       "      <td>7</td>\n",
       "      <td>WY-201Q-006</td>\n",
       "      <td>64913</td>\n",
       "      <td>103</td>\n",
       "      <td>BLMWY-2020-Q1-3</td>\n",
       "      <td>WY-2020-03-6661</td>\n",
       "      <td>POLYGON ((-11669767.712 5325492.029, -11669217...</td>\n",
       "      <td>POINT (-11669495.945 5324941.670)</td>\n",
       "      <td>6.057945e+05</td>\n",
       "    </tr>\n",
       "    <tr>\n",
       "      <td>43</td>\n",
       "      <td>WY-201Q-037</td>\n",
       "      <td>64944</td>\n",
       "      <td>104</td>\n",
       "      <td>BLMWY-2020-Q1-3</td>\n",
       "      <td>WY-2020-03-6681</td>\n",
       "      <td>MULTIPOLYGON (((-11992208.167 5139519.494, -11...</td>\n",
       "      <td>POINT (-11991476.752 5140603.215)</td>\n",
       "      <td>1.394528e+07</td>\n",
       "    </tr>\n",
       "    <tr>\n",
       "      <td>29</td>\n",
       "      <td>WY-201Q-023</td>\n",
       "      <td>64930</td>\n",
       "      <td>105</td>\n",
       "      <td>BLMWY-2020-Q1-3</td>\n",
       "      <td>WY-2020-03-6728</td>\n",
       "      <td>MULTIPOLYGON (((-11747620.728 5283037.208, -11...</td>\n",
       "      <td>POINT (-11744286.257 5281966.134)</td>\n",
       "      <td>6.101151e+05</td>\n",
       "    </tr>\n",
       "  </tbody>\n",
       "</table>\n",
       "<p>105 rows × 8 columns</p>\n",
       "</div>"
      ],
      "text/plain": [
       "     SaleParcel  lot_no  tract_id       short_code            label  \\\n",
       "15  WY-201Q-104   65011         1  BLMWY-2020-Q1-3  WY-2020-03-0370   \n",
       "0   WY-201Q-105   65012         2  BLMWY-2020-Q1-3  WY-2020-03-0374   \n",
       "41  WY-201Q-035   64942         3  BLMWY-2020-Q1-3  WY-2020-03-0691   \n",
       "31  WY-201Q-025   64932         4  BLMWY-2020-Q1-3  WY-2020-03-6024   \n",
       "44  WY-201Q-038   64945         5  BLMWY-2020-Q1-3  WY-2020-03-6161   \n",
       "..          ...     ...       ...              ...              ...   \n",
       "5   WY-201Q-004   64911       101  BLMWY-2020-Q1-3  WY-2020-03-6659   \n",
       "3   WY-201Q-002   64909       102  BLMWY-2020-Q1-3  WY-2020-03-6660   \n",
       "7   WY-201Q-006   64913       103  BLMWY-2020-Q1-3  WY-2020-03-6661   \n",
       "43  WY-201Q-037   64944       104  BLMWY-2020-Q1-3  WY-2020-03-6681   \n",
       "29  WY-201Q-023   64930       105  BLMWY-2020-Q1-3  WY-2020-03-6728   \n",
       "\n",
       "                                             geometry  \\\n",
       "15  POLYGON ((-11713714.925 5431799.214, -11713154...   \n",
       "0   MULTIPOLYGON (((-12149143.928 5611425.018, -12...   \n",
       "41  MULTIPOLYGON (((-11888144.844 5609413.885, -11...   \n",
       "31  MULTIPOLYGON (((-11739044.208 5458709.610, -11...   \n",
       "44  MULTIPOLYGON (((-11984622.871 5157909.884, -11...   \n",
       "..                                                ...   \n",
       "5   MULTIPOLYGON (((-11668120.134 5328237.903, -11...   \n",
       "3   POLYGON ((-11668644.556 5104269.969, -11668107...   \n",
       "7   POLYGON ((-11669767.712 5325492.029, -11669217...   \n",
       "43  MULTIPOLYGON (((-11992208.167 5139519.494, -11...   \n",
       "29  MULTIPOLYGON (((-11747620.728 5283037.208, -11...   \n",
       "\n",
       "                            centroids          area  \n",
       "15  POINT (-11714129.828 5430733.551)  4.112562e+06  \n",
       "0   POINT (-12151036.964 5611366.277)  7.584852e+06  \n",
       "41  POINT (-11882951.427 5611217.241)  1.313751e+07  \n",
       "31  POINT (-11739545.873 5458979.659)  1.548692e+06  \n",
       "44  POINT (-11983538.111 5157895.777)  1.872264e+07  \n",
       "..                                ...           ...  \n",
       "5   POINT (-11665778.940 5323059.523)  1.219867e+07  \n",
       "3   POINT (-11668374.769 5103993.695)  2.901940e+05  \n",
       "7   POINT (-11669495.945 5324941.670)  6.057945e+05  \n",
       "43  POINT (-11991476.752 5140603.215)  1.394528e+07  \n",
       "29  POINT (-11744286.257 5281966.134)  6.101151e+05  \n",
       "\n",
       "[105 rows x 8 columns]"
      ]
     },
     "execution_count": 9,
     "metadata": {},
     "output_type": "execute_result"
    }
   ],
   "source": [
    "shapedf"
   ]
  },
  {
   "cell_type": "markdown",
   "metadata": {},
   "source": [
    "latlongs = prod[[\"Surface Latitude (WGS84)\", \"Surface Longitude (WGS84)\"]]"
   ]
  },
  {
   "cell_type": "markdown",
   "metadata": {},
   "source": [
    "latlongs = gp.GeoDataFrame(latlongs, crs = coordSystem, geometry=gp.points_from_xy(latlongs.iloc[:,1], latlongs.iloc[:,0]))"
   ]
  },
  {
   "cell_type": "markdown",
   "metadata": {},
   "source": [
    "## Shapefile Downloads from DI\n"
   ]
  },
  {
   "cell_type": "code",
   "execution_count": 15,
   "metadata": {},
   "outputs": [],
   "source": [
    "#this is shapefile downloaded from drillinginfo holding well information\n",
    "prodshp = gp.read_file(\"zip://Data/production.ZIP\")\n"
   ]
  },
  {
   "cell_type": "code",
   "execution_count": 16,
   "metadata": {},
   "outputs": [
    {
     "data": {
      "text/plain": [
       "{'init': 'epsg:4326'}"
      ]
     },
     "execution_count": 16,
     "metadata": {},
     "output_type": "execute_result"
    }
   ],
   "source": [
    "permitshp = gp.read_file(\"zip://Data/production.ZIP\")\n",
    "permitshp.crs"
   ]
  },
  {
   "cell_type": "code",
   "execution_count": null,
   "metadata": {},
   "outputs": [],
   "source": []
  },
  {
   "cell_type": "code",
   "execution_count": null,
   "metadata": {},
   "outputs": [],
   "source": []
  },
  {
   "cell_type": "code",
   "execution_count": null,
   "metadata": {},
   "outputs": [],
   "source": []
  }
 ],
 "metadata": {
  "kernelspec": {
   "display_name": "Python 3",
   "language": "python",
   "name": "python3"
  },
  "language_info": {
   "codemirror_mode": {
    "name": "ipython",
    "version": 3
   },
   "file_extension": ".py",
   "mimetype": "text/x-python",
   "name": "python",
   "nbconvert_exporter": "python",
   "pygments_lexer": "ipython3",
   "version": "3.7.4"
  }
 },
 "nbformat": 4,
 "nbformat_minor": 2
}
