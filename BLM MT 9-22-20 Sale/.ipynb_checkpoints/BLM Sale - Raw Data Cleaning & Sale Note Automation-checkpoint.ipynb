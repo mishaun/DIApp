{
 "cells": [
  {
   "cell_type": "markdown",
   "metadata": {},
   "source": [
    "## Goals of Script\n",
    "\n",
    "1. Automate the process of writing notes in a natural language format of each tract in a BLM Oil and Gas Lease Sale\n",
    "\n",
    "2.  Creaete visualizaitons tract by tract of permitting, new production, and leasing activity within a given radius\n",
    "\n",
    "3.  Create a predictive model to estimate the purchase price based on historical activity, production, permits, and commodity prices"
   ]
  },
  {
   "cell_type": "markdown",
   "metadata": {},
   "source": [
    "### Pending Tasks\n",
    "\n",
    "* Add functionality to create concatenated dataframes for lease tracts with multiple polygons - This will create separate filters for each polygons individual centroid and compile the data as 1 dataframe for visualization and analysis\n",
    "\n",
    "* Separate large file into sub notebooks for handling cleaning, filtering, note creation, modeling, etc\n",
    "\n",
    "* fix bug in note generation where leases with high variabliity in bonus price skews the summary (remove outliars)\n"
   ]
  },
  {
   "cell_type": "code",
   "execution_count": 1,
   "metadata": {},
   "outputs": [
    {
     "data": {
      "text/plain": [
       "False"
      ]
     },
     "execution_count": 1,
     "metadata": {},
     "output_type": "execute_result"
    }
   ],
   "source": [
    "import pandas as pd\n",
    "import geopandas as gp\n",
    "import numpy as np\n",
    "import seaborn as sns\n",
    "%matplotlib inline\n",
    "import matplotlib.pyplot as plt\n",
    "from geopy.geocoders import Nominatim\n",
    "import shapely\n",
    "import math\n",
    "import datetime as dt\n",
    "import pdb\n",
    "\n",
    "from IPython.core.interactiveshell import InteractiveShell\n",
    "InteractiveShell.ast_node_interactivity = \"all\"\n",
    "\n",
    "import os\n",
    "#had to add GDAL_DATA variable to system variables and set value to the folder of gdal in C:\\Users\\mishaun\\AppData\\Local\\Continuum\\anaconda3\\Library\\share\\gdal on my work computer\n",
    "'GDAL_DATA' in os.environ"
   ]
  },
  {
   "cell_type": "markdown",
   "metadata": {},
   "source": [
    "# Reading in Data/Data Preparation for Automating Sale Notes"
   ]
  },
  {
   "cell_type": "code",
   "execution_count": 3,
   "metadata": {},
   "outputs": [],
   "source": [
    "shapezipfile = (\"zip://Data/BLM MT Sep 22, 2020 Shapefile.zip\")\n",
    "tractshp = gp.read_file(shapezipfile, encoding = \"utf-8\")"
   ]
  },
  {
   "cell_type": "code",
   "execution_count": 3,
   "metadata": {},
   "outputs": [],
   "source": [
    "#this is shapefile downloaded from drillinginfo holding well information\n",
    "prodshp = gp.read_file(\"zip://Data/production.ZIP\")\n",
    "permitshp = gp.read_file(\"zip://Data/permits.ZIP\")\n",
    "\n",
    "#reading in csv of leases - converting to a GeoDataFrame - initial coord system is epsg:4326\n",
    "leases = pd.read_csv(\"Data/LeasesTable.CSV\")\n",
    "leasesgeo = gp.GeoDataFrame(leases, crs = {'init': 'epsg:4326'}, geometry=gp.points_from_xy(leases[\"Longitude (WGS84)\"], leases[\"Latitude (WGS84)\"]))\n",
    "\n",
    "oldprod = gp.read_file(\"zip://data/oldProduction.zip\")"
   ]
  },
  {
   "cell_type": "code",
   "execution_count": 4,
   "metadata": {},
   "outputs": [],
   "source": [
    "saleDate = pd.Timestamp(dt.date(2020, 3, 23))"
   ]
  },
  {
   "cell_type": "markdown",
   "metadata": {},
   "source": [
    "### Trimming and Cleaning Data"
   ]
  },
  {
   "cell_type": "code",
   "execution_count": 5,
   "metadata": {},
   "outputs": [
    {
     "data": {
      "text/plain": [
       "Index(['State/Province', 'Effective Date', 'Record Date',\n",
       "       'Expiration of Primary Term', 'Term (Months)', 'Grantor',\n",
       "       'Grantee Alias', 'Royalty', 'Bonus', 'Area (Acres)', 'Section',\n",
       "       'Township', 'Township Direction', 'Range', 'Range Direction',\n",
       "       'Vol/Page', 'Record Number', 'Instrument Type', 'Instrument Date',\n",
       "       'County/Parish', 'Options/Extensions', 'DI Basin', 'Ext. Bonus',\n",
       "       'Ext. Term (Months)', 'Abstract', 'Block', 'BLM', 'State Lease',\n",
       "       'Grantee', 'Grantor Address', 'Grantee Address', 'Max Depth',\n",
       "       'Majority Legal Assignee', 'DI Subplay', 'Min Depth',\n",
       "       'Majority Assignment Effective Date', 'Latitude (WGS84)', 'DI Play',\n",
       "       'Majority Legal Assignee Interest', 'Longitude (WGS84)',\n",
       "       'Majority Assignment Vol/Page', 'geometry'],\n",
       "      dtype='object')"
      ]
     },
     "execution_count": 5,
     "metadata": {},
     "output_type": "execute_result"
    }
   ],
   "source": [
    "leasesgeo.columns"
   ]
  },
  {
   "cell_type": "code",
   "execution_count": 6,
   "metadata": {},
   "outputs": [],
   "source": [
    "leasesgeo.drop(columns = ['Instrument Type', 'Instrument Date','Options/Extensions', 'DI Basin', 'Ext. Bonus',\n",
    "       'Ext. Term (Months)', 'Abstract', 'Block', 'BLM', 'State Lease',\n",
    "       'Grantee', 'Grantor Address', 'Grantee Address', 'Max Depth',\n",
    "       'Majority Legal Assignee', 'DI Subplay', 'Min Depth',\n",
    "       'Majority Assignment Effective Date','Majority Legal Assignee Interest','Majority Assignment Vol/Page'], inplace = True)"
   ]
  },
  {
   "cell_type": "code",
   "execution_count": 7,
   "metadata": {},
   "outputs": [
    {
     "data": {
      "text/plain": [
       "Index(['APIUWI', 'OpAlias', 'LeaseName', 'WellNo', 'County', 'Reservoir',\n",
       "       'ProdType', 'ProdStatus', 'DrillType', 'TD', 'SpudDate', 'FstPrdDate',\n",
       "       'LstPrdDate', 'MoProd', 'CumGas', 'DailyGas', 'CumLiq', 'DailyLiq',\n",
       "       'LatestLiq', 'LatestGas', 'CumWtr', 'CumBOE', 'DISubplay', '1moLiq',\n",
       "       '1moGas', '6moLiq', 'DIBasin', '6moGas', '6moBOE', '6moWater', 'DIPlay',\n",
       "       'PracIP_Liq', 'PracIP_BOE', 'PracIP_Gas', 'PrcIPCFGED', 'LatestWtr',\n",
       "       'Prior12Liq', 'Prior12Gas', 'LastTestDt', 'Prior12Wtr', 'LastFlwPrs',\n",
       "       'LastWHSIP', '2moGOR', 'LatestGOR', 'CumGOR', 'Lst12Yield', '2moYield',\n",
       "       'LatestYld', 'PeakGas', 'PkGasMoNo', 'PeakLiq', 'PkLiqMoNo', 'PeakBOE',\n",
       "       'PkBOEMoNo', 'PkMMCFGE', 'PkMMCFGMoN', 'TopPerf', 'BtmPerf', 'GasGrav',\n",
       "       'OilGrav', 'CompDate', 'WellCount', 'MaxActvWel', 'GasGather',\n",
       "       'LiqGather', 'LeaseNo', 'PerfLength', 'TVD', 'Field', 'State',\n",
       "       'District', 'GeoProvin', 'Section', 'Country', 'Township', 'Range',\n",
       "       'Latitude', 'Abstract', 'Longitude', 'Block', 'OCS_Area', 'PGC_Area',\n",
       "       'OpReported', 'Survey', 'EntityId', 'Last12Liq', 'Last12Gas',\n",
       "       'Last12Wtr', 'OtherNo', 'geometry'],\n",
       "      dtype='object')"
      ]
     },
     "execution_count": 7,
     "metadata": {},
     "output_type": "execute_result"
    }
   ],
   "source": [
    "prodshp.columns"
   ]
  },
  {
   "cell_type": "code",
   "execution_count": 8,
   "metadata": {},
   "outputs": [],
   "source": [
    "prodshp.drop(columns = ['LatestWtr','CumWtr',\n",
    "       'Prior12Liq', 'Prior12Gas', 'LastTestDt', 'Prior12Wtr', 'LastFlwPrs',\n",
    "       'LastWHSIP', '2moGOR', 'LatestGOR', 'CumGOR', 'Lst12Yield', '2moYield',\n",
    "       'LatestYld', 'PeakGas', 'PkGasMoNo', 'PeakLiq', 'PkLiqMoNo', 'PeakBOE',\n",
    "       'PkBOEMoNo', 'PkMMCFGE', 'PkMMCFGMoN', 'TopPerf', 'BtmPerf', 'GasGrav',\n",
    "       'OilGrav','CompDate', 'GasGather',\n",
    "       'LiqGather', 'LeaseNo'], inplace = True)"
   ]
  },
  {
   "cell_type": "code",
   "execution_count": 9,
   "metadata": {},
   "outputs": [
    {
     "data": {
      "text/plain": [
       "Index(['API10UWI', 'District', 'FiledDate', 'AprvdDate', 'ExpDate', 'State',\n",
       "       'County', 'OpAlias', 'LeaseName', 'WellNo', 'Formation', 'PermDepth',\n",
       "       'TVD', 'PermitType', 'WellType', 'DrillType', 'WellStatus',\n",
       "       'PermStatus', 'Field', 'OpReported', 'AmendDate', 'CntctName',\n",
       "       'CntctPhone', 'OperAddrs', 'OperCity', 'OperState', 'OperZip',\n",
       "       'OperCity30', 'Section', 'OperCity50', 'Township', 'Range', 'Block',\n",
       "       'Survey', 'TVD_UOM', 'Abstract', 'WGID', 'H2S_Area', 'Latitude',\n",
       "       'Longitude', 'OFS_Reg', 'Btm_Lat', 'Btm_Lon', 'LeaseNo', 'PermDUOM',\n",
       "       'PermitNo', 'DIBasin', 'DIPlay', 'DISubplay', 'OpCompany', 'OpTicker',\n",
       "       'geometry'],\n",
       "      dtype='object')"
      ]
     },
     "execution_count": 9,
     "metadata": {},
     "output_type": "execute_result"
    }
   ],
   "source": [
    "permitshp.columns"
   ]
  },
  {
   "cell_type": "code",
   "execution_count": 10,
   "metadata": {},
   "outputs": [],
   "source": [
    "permitshp.drop(columns = ['OpReported', 'AmendDate', 'CntctName',\n",
    "       'CntctPhone', 'OperAddrs', 'OperCity', 'OperState', 'OperZip',\n",
    "       'OperCity30', 'Section', 'OperCity50', 'Township', 'Range', 'Block',\n",
    "       'Survey', 'TVD_UOM', 'Abstract', 'WGID', 'H2S_Area','OFS_Reg', 'LeaseNo', 'PermDUOM',\n",
    "       'PermitNo','OpCompany', 'OpTicker'], inplace=True)"
   ]
  },
  {
   "cell_type": "code",
   "execution_count": 11,
   "metadata": {},
   "outputs": [
    {
     "name": "stdout",
     "output_type": "stream",
     "text": [
      "<class 'geopandas.geodataframe.GeoDataFrame'>\n",
      "RangeIndex: 13817 entries, 0 to 13816\n",
      "Data columns (total 90 columns):\n",
      "APIUWI        13817 non-null object\n",
      "OpAlias       13801 non-null object\n",
      "LeaseName     13813 non-null object\n",
      "WellNo        13522 non-null object\n",
      "County        13817 non-null object\n",
      "Reservoir     8119 non-null object\n",
      "ProdType      13808 non-null object\n",
      "ProdStatus    13817 non-null object\n",
      "DrillType     13817 non-null object\n",
      "TD            13782 non-null float64\n",
      "SpudDate      10088 non-null object\n",
      "FstPrdDate    6905 non-null object\n",
      "LstPrdDate    6905 non-null object\n",
      "MoProd        6905 non-null float64\n",
      "CumGas        6758 non-null float64\n",
      "DailyGas      3828 non-null float64\n",
      "CumLiq        6406 non-null float64\n",
      "DailyLiq      3464 non-null float64\n",
      "LatestLiq     4372 non-null float64\n",
      "LatestGas     6255 non-null float64\n",
      "CumWtr        6501 non-null float64\n",
      "CumBOE        6905 non-null float64\n",
      "DISubplay     0 non-null object\n",
      "1moLiq        5904 non-null float64\n",
      "1moGas        6489 non-null float64\n",
      "6moLiq        6647 non-null float64\n",
      "DIBasin       12861 non-null object\n",
      "6moGas        6647 non-null float64\n",
      "6moBOE        6647 non-null float64\n",
      "6moWater      6647 non-null float64\n",
      "DIPlay        12861 non-null object\n",
      "PracIP_Liq    6905 non-null float64\n",
      "PracIP_BOE    6905 non-null float64\n",
      "PracIP_Gas    6905 non-null float64\n",
      "PrcIPCFGED    6790 non-null float64\n",
      "LatestWtr     4632 non-null float64\n",
      "Prior12Liq    5247 non-null float64\n",
      "Prior12Gas    5805 non-null float64\n",
      "LastTestDt    0 non-null object\n",
      "Prior12Wtr    5312 non-null float64\n",
      "LastFlwPrs    0 non-null object\n",
      "LastWHSIP     0 non-null object\n",
      "2moGOR        5152 non-null float64\n",
      "LatestGOR     5101 non-null float64\n",
      "CumGOR        6406 non-null float64\n",
      "Lst12Yield    5153 non-null float64\n",
      "2moYield      6431 non-null float64\n",
      "LatestYld     5961 non-null float64\n",
      "PeakGas       6758 non-null float64\n",
      "PkGasMoNo     6758 non-null float64\n",
      "PeakLiq       6406 non-null float64\n",
      "PkLiqMoNo     6406 non-null float64\n",
      "PeakBOE       6905 non-null float64\n",
      "PkBOEMoNo     6878 non-null float64\n",
      "PkMMCFGE      6905 non-null float64\n",
      "PkMMCFGMoN    6878 non-null float64\n",
      "TopPerf       6787 non-null float64\n",
      "BtmPerf       6788 non-null float64\n",
      "GasGrav       0 non-null object\n",
      "OilGrav       5929 non-null float64\n",
      "CompDate      9291 non-null object\n",
      "WellCount     13817 non-null int64\n",
      "MaxActvWel    6905 non-null float64\n",
      "GasGather     0 non-null object\n",
      "LiqGather     0 non-null object\n",
      "LeaseNo       11106 non-null object\n",
      "PerfLength    6752 non-null float64\n",
      "TVD           0 non-null object\n",
      "Field         13815 non-null object\n",
      "State         13817 non-null object\n",
      "District      0 non-null object\n",
      "GeoProvin     13817 non-null object\n",
      "Section       13816 non-null object\n",
      "Country       13817 non-null object\n",
      "Township      13816 non-null object\n",
      "Range         13816 non-null object\n",
      "Latitude      13817 non-null float64\n",
      "Abstract      0 non-null object\n",
      "Longitude     13817 non-null float64\n",
      "Block         0 non-null object\n",
      "OCS_Area      0 non-null object\n",
      "PGC_Area      13817 non-null object\n",
      "OpReported    13801 non-null object\n",
      "Survey        0 non-null object\n",
      "EntityId      13817 non-null int64\n",
      "Last12Liq     5537 non-null float64\n",
      "Last12Gas     6432 non-null float64\n",
      "Last12Wtr     5666 non-null float64\n",
      "OtherNo       13817 non-null object\n",
      "geometry      13817 non-null geometry\n",
      "dtypes: float64(48), geometry(1), int64(2), object(39)\n",
      "memory usage: 9.5+ MB\n"
     ]
    },
    {
     "data": {
      "text/plain": [
       "Index(['APIUWI', 'OpAlias', 'LeaseName', 'WellNo', 'County', 'Reservoir',\n",
       "       'ProdType', 'ProdStatus', 'DrillType', 'TD', 'SpudDate', 'FstPrdDate',\n",
       "       'LstPrdDate', 'MoProd', 'CumGas', 'DailyGas', 'CumLiq', 'DailyLiq',\n",
       "       'LatestLiq', 'LatestGas', 'CumWtr', 'CumBOE', 'DISubplay', '1moLiq',\n",
       "       '1moGas', '6moLiq', 'DIBasin', '6moGas', '6moBOE', '6moWater', 'DIPlay',\n",
       "       'PracIP_Liq', 'PracIP_BOE', 'PracIP_Gas', 'PrcIPCFGED', 'LatestWtr',\n",
       "       'Prior12Liq', 'Prior12Gas', 'LastTestDt', 'Prior12Wtr', 'LastFlwPrs',\n",
       "       'LastWHSIP', '2moGOR', 'LatestGOR', 'CumGOR', 'Lst12Yield', '2moYield',\n",
       "       'LatestYld', 'PeakGas', 'PkGasMoNo', 'PeakLiq', 'PkLiqMoNo', 'PeakBOE',\n",
       "       'PkBOEMoNo', 'PkMMCFGE', 'PkMMCFGMoN', 'TopPerf', 'BtmPerf', 'GasGrav',\n",
       "       'OilGrav', 'CompDate', 'WellCount', 'MaxActvWel', 'GasGather',\n",
       "       'LiqGather', 'LeaseNo', 'PerfLength', 'TVD', 'Field', 'State',\n",
       "       'District', 'GeoProvin', 'Section', 'Country', 'Township', 'Range',\n",
       "       'Latitude', 'Abstract', 'Longitude', 'Block', 'OCS_Area', 'PGC_Area',\n",
       "       'OpReported', 'Survey', 'EntityId', 'Last12Liq', 'Last12Gas',\n",
       "       'Last12Wtr', 'OtherNo', 'geometry'],\n",
       "      dtype='object')"
      ]
     },
     "execution_count": 11,
     "metadata": {},
     "output_type": "execute_result"
    }
   ],
   "source": [
    "oldprod.info()\n",
    "oldprod.columns\n",
    "\n",
    "dropcols = ['CumWtr', 'DISubplay', '1moLiq',\n",
    "       '1moGas', '6moLiq', 'DIBasin', '6moGas', '6moBOE', '6moWater', 'DIPlay',\n",
    "       'PracIP_Liq', 'PracIP_BOE', 'PracIP_Gas', 'PrcIPCFGED', 'LatestWtr',\n",
    "       'Prior12Liq', 'Prior12Gas', 'LastTestDt', 'Prior12Wtr', 'LastFlwPrs',\n",
    "       'LastWHSIP', '2moGOR', 'LatestGOR', 'CumGOR', 'Lst12Yield', '2moYield',\n",
    "       'LatestYld', 'PeakGas', 'PkGasMoNo', 'PeakLiq', 'PkLiqMoNo', 'PeakBOE',\n",
    "       'PkBOEMoNo', 'PkMMCFGE', 'PkMMCFGMoN', 'TopPerf', 'BtmPerf', 'GasGrav',\n",
    "       'OilGrav', 'CompDate', 'WellCount', 'MaxActvWel', 'GasGather',\n",
    "       'LiqGather', 'LeaseNo', 'PerfLength', 'TVD', 'Field', 'State',\n",
    "       'District', 'GeoProvin','Country','OCS_Area', 'PGC_Area',\n",
    "       'OpReported', 'Survey', 'EntityId', 'Last12Liq', 'Last12Gas',\n",
    "       'Last12Wtr', 'OtherNo']\n",
    "\n",
    "oldprod.drop(columns=dropcols, inplace = True)"
   ]
  },
  {
   "cell_type": "code",
   "execution_count": 12,
   "metadata": {},
   "outputs": [
    {
     "name": "stdout",
     "output_type": "stream",
     "text": [
      "<class 'geopandas.geodataframe.GeoDataFrame'>\n",
      "RangeIndex: 53266 entries, 0 to 53265\n",
      "Data columns (total 22 columns):\n",
      "State/Province                53266 non-null object\n",
      "Effective Date                31049 non-null object\n",
      "Record Date                   53266 non-null object\n",
      "Expiration of Primary Term    53266 non-null object\n",
      "Term (Months)                 53266 non-null int64\n",
      "Grantor                       53266 non-null object\n",
      "Grantee Alias                 53239 non-null object\n",
      "Royalty                       33903 non-null float64\n",
      "Bonus                         18347 non-null float64\n",
      "Area (Acres)                  52506 non-null float64\n",
      "Section                       53266 non-null float64\n",
      "Township                      53266 non-null float64\n",
      "Township Direction            53266 non-null object\n",
      "Range                         53266 non-null float64\n",
      "Range Direction               53266 non-null object\n",
      "Vol/Page                      53266 non-null object\n",
      "Record Number                 53266 non-null object\n",
      "County/Parish                 53266 non-null object\n",
      "Latitude (WGS84)              53204 non-null float64\n",
      "DI Play                       41854 non-null object\n",
      "Longitude (WGS84)             53204 non-null float64\n",
      "geometry                      53266 non-null geometry\n",
      "dtypes: float64(8), geometry(1), int64(1), object(12)\n",
      "memory usage: 8.9+ MB\n",
      "<class 'geopandas.geodataframe.GeoDataFrame'>\n",
      "RangeIndex: 62880 entries, 0 to 62879\n",
      "Data columns (total 60 columns):\n",
      "APIUWI        62880 non-null object\n",
      "OpAlias       62792 non-null object\n",
      "LeaseName     60418 non-null object\n",
      "WellNo        57955 non-null object\n",
      "County        62880 non-null object\n",
      "Reservoir     59997 non-null object\n",
      "ProdType      62879 non-null object\n",
      "ProdStatus    62880 non-null object\n",
      "DrillType     62880 non-null object\n",
      "TD            54085 non-null float64\n",
      "SpudDate      54327 non-null object\n",
      "FstPrdDate    62880 non-null object\n",
      "LstPrdDate    62880 non-null object\n",
      "MoProd        62880 non-null int64\n",
      "CumGas        56505 non-null float64\n",
      "DailyGas      52017 non-null float64\n",
      "CumLiq        55480 non-null float64\n",
      "DailyLiq      51498 non-null float64\n",
      "LatestLiq     53544 non-null float64\n",
      "LatestGas     54298 non-null float64\n",
      "CumBOE        62880 non-null float64\n",
      "DISubplay     21999 non-null object\n",
      "1moLiq        53032 non-null float64\n",
      "1moGas        52343 non-null float64\n",
      "6moLiq        53107 non-null float64\n",
      "DIBasin       60698 non-null object\n",
      "6moGas        53107 non-null float64\n",
      "6moBOE        53107 non-null float64\n",
      "6moWater      53107 non-null float64\n",
      "DIPlay        44695 non-null object\n",
      "PracIP_Liq    62880 non-null float64\n",
      "PracIP_BOE    62880 non-null float64\n",
      "PracIP_Gas    62880 non-null float64\n",
      "PrcIPCFGED    60059 non-null float64\n",
      "WellCount     62880 non-null int64\n",
      "MaxActvWel    62880 non-null int64\n",
      "PerfLength    37610 non-null float64\n",
      "TVD           1969 non-null float64\n",
      "Field         53407 non-null object\n",
      "State         62880 non-null object\n",
      "District      27946 non-null object\n",
      "GeoProvin     62771 non-null object\n",
      "Section       48889 non-null object\n",
      "Country       62880 non-null object\n",
      "Township      37322 non-null object\n",
      "Range         37300 non-null object\n",
      "Latitude      62880 non-null float64\n",
      "Abstract      13644 non-null object\n",
      "Longitude     62880 non-null float64\n",
      "Block         7630 non-null object\n",
      "OCS_Area      841 non-null object\n",
      "PGC_Area      62583 non-null object\n",
      "OpReported    62792 non-null object\n",
      "Survey        13662 non-null object\n",
      "EntityId      62880 non-null int64\n",
      "Last12Liq     55039 non-null float64\n",
      "Last12Gas     56200 non-null float64\n",
      "Last12Wtr     55521 non-null float64\n",
      "OtherNo       62880 non-null object\n",
      "geometry      62880 non-null geometry\n",
      "dtypes: float64(25), geometry(1), int64(4), object(30)\n",
      "memory usage: 28.8+ MB\n",
      "<class 'geopandas.geodataframe.GeoDataFrame'>\n",
      "RangeIndex: 46469 entries, 0 to 46468\n",
      "Data columns (total 27 columns):\n",
      "API10UWI      46469 non-null object\n",
      "District      27250 non-null object\n",
      "FiledDate     32816 non-null object\n",
      "AprvdDate     46469 non-null object\n",
      "ExpDate       46469 non-null object\n",
      "State         46469 non-null object\n",
      "County        46469 non-null object\n",
      "OpAlias       46468 non-null object\n",
      "LeaseName     46469 non-null object\n",
      "WellNo        46127 non-null object\n",
      "Formation     46469 non-null object\n",
      "PermDepth     41574 non-null float64\n",
      "TVD           22276 non-null float64\n",
      "PermitType    46469 non-null object\n",
      "WellType      46469 non-null object\n",
      "DrillType     46469 non-null object\n",
      "WellStatus    46469 non-null object\n",
      "PermStatus    46469 non-null object\n",
      "Field         46469 non-null object\n",
      "Latitude      46469 non-null float64\n",
      "Longitude     46469 non-null float64\n",
      "Btm_Lat       42892 non-null float64\n",
      "Btm_Lon       42892 non-null float64\n",
      "DIBasin       46469 non-null object\n",
      "DIPlay        39854 non-null object\n",
      "DISubplay     15180 non-null object\n",
      "geometry      46469 non-null geometry\n",
      "dtypes: float64(6), geometry(1), object(20)\n",
      "memory usage: 9.6+ MB\n",
      "<class 'geopandas.geodataframe.GeoDataFrame'>\n",
      "RangeIndex: 13817 entries, 0 to 13816\n",
      "Data columns (total 29 columns):\n",
      "APIUWI        13817 non-null object\n",
      "OpAlias       13801 non-null object\n",
      "LeaseName     13813 non-null object\n",
      "WellNo        13522 non-null object\n",
      "County        13817 non-null object\n",
      "Reservoir     8119 non-null object\n",
      "ProdType      13808 non-null object\n",
      "ProdStatus    13817 non-null object\n",
      "DrillType     13817 non-null object\n",
      "TD            13782 non-null float64\n",
      "SpudDate      10088 non-null object\n",
      "FstPrdDate    6905 non-null object\n",
      "LstPrdDate    6905 non-null object\n",
      "MoProd        6905 non-null float64\n",
      "CumGas        6758 non-null float64\n",
      "DailyGas      3828 non-null float64\n",
      "CumLiq        6406 non-null float64\n",
      "DailyLiq      3464 non-null float64\n",
      "LatestLiq     4372 non-null float64\n",
      "LatestGas     6255 non-null float64\n",
      "CumBOE        6905 non-null float64\n",
      "Section       13816 non-null object\n",
      "Township      13816 non-null object\n",
      "Range         13816 non-null object\n",
      "Latitude      13817 non-null float64\n",
      "Abstract      0 non-null object\n",
      "Longitude     13817 non-null float64\n",
      "Block         0 non-null object\n",
      "geometry      13817 non-null geometry\n",
      "dtypes: float64(11), geometry(1), object(17)\n",
      "memory usage: 3.1+ MB\n"
     ]
    }
   ],
   "source": [
    "leasesgeo.info()\n",
    "prodshp.info()\n",
    "permitshp.info()\n",
    "oldprod.info()"
   ]
  },
  {
   "cell_type": "markdown",
   "metadata": {},
   "source": [
    "### Converting geodataframes to same coord system - UTM system for creating buffers"
   ]
  },
  {
   "cell_type": "code",
   "execution_count": 13,
   "metadata": {},
   "outputs": [],
   "source": [
    "def convertCRS(*args, crs_system = 26913):\n",
    "    for i in args:\n",
    "        print(i.crs)\n",
    "        i.to_crs(epsg = crs_system, inplace = True)\n",
    "        print(\"Converted to:\")\n",
    "        print(i.crs)\n",
    "        print(\"\\n\")"
   ]
  },
  {
   "cell_type": "code",
   "execution_count": 14,
   "metadata": {},
   "outputs": [],
   "source": [
    "def convertoDateTime(*dataframe):\n",
    "    '''\n",
    "    This function will take in arguments of a dataframe.\n",
    "    It will then search each column name to see if there is a date in the name using the filter method\n",
    "    The filtered list will then use the apply method to convert data in column to date time\n",
    "    '''\n",
    "    for df in dataframe:\n",
    "        cols = list(filter(lambda x: 'date' in x.lower(), df.columns))\n",
    "\n",
    "        for col in cols:\n",
    "            df[col] = df[col].apply(lambda x: pd.to_datetime(x))"
   ]
  },
  {
   "cell_type": "code",
   "execution_count": 15,
   "metadata": {},
   "outputs": [
    {
     "name": "stdout",
     "output_type": "stream",
     "text": [
      "{'init': 'epsg:4326'}\n",
      "Converted to:\n",
      "{'init': 'epsg:26913', 'no_defs': True}\n",
      "\n",
      "\n",
      "{'init': 'epsg:4326'}\n",
      "Converted to:\n",
      "{'init': 'epsg:26913', 'no_defs': True}\n",
      "\n",
      "\n",
      "{'init': 'epsg:4326'}\n",
      "Converted to:\n",
      "{'init': 'epsg:26913', 'no_defs': True}\n",
      "\n",
      "\n",
      "{'init': 'epsg:3857'}\n",
      "Converted to:\n",
      "{'init': 'epsg:26913', 'no_defs': True}\n",
      "\n",
      "\n",
      "{'init': 'epsg:4326'}\n",
      "Converted to:\n",
      "{'init': 'epsg:26913', 'no_defs': True}\n",
      "\n",
      "\n"
     ]
    },
    {
     "data": {
      "text/plain": [
       "{'init': 'epsg:26913', 'no_defs': True}"
      ]
     },
     "execution_count": 15,
     "metadata": {},
     "output_type": "execute_result"
    },
    {
     "data": {
      "text/plain": [
       "{'init': 'epsg:26913', 'no_defs': True}"
      ]
     },
     "execution_count": 15,
     "metadata": {},
     "output_type": "execute_result"
    },
    {
     "data": {
      "text/plain": [
       "{'init': 'epsg:26913', 'no_defs': True}"
      ]
     },
     "execution_count": 15,
     "metadata": {},
     "output_type": "execute_result"
    },
    {
     "data": {
      "text/plain": [
       "{'init': 'epsg:26913', 'no_defs': True}"
      ]
     },
     "execution_count": 15,
     "metadata": {},
     "output_type": "execute_result"
    }
   ],
   "source": [
    "convertCRS(prodshp, permitshp, leasesgeo, tractshp, oldprod)\n",
    "\n",
    "prodshp.crs\n",
    "permitshp.crs\n",
    "leasesgeo.crs\n",
    "oldprod.crs"
   ]
  },
  {
   "cell_type": "code",
   "execution_count": 16,
   "metadata": {},
   "outputs": [
    {
     "ename": "KeyboardInterrupt",
     "evalue": "",
     "output_type": "error",
     "traceback": [
      "\u001b[0;31m---------------------------------------------------------------------------\u001b[0m",
      "\u001b[0;31mKeyboardInterrupt\u001b[0m                         Traceback (most recent call last)",
      "\u001b[0;32m<ipython-input-16-efa1303a91c1>\u001b[0m in \u001b[0;36m<module>\u001b[0;34m\u001b[0m\n\u001b[0;32m----> 1\u001b[0;31m \u001b[0mconvertoDateTime\u001b[0m\u001b[0;34m(\u001b[0m\u001b[0mprodshp\u001b[0m\u001b[0;34m,\u001b[0m \u001b[0mpermitshp\u001b[0m\u001b[0;34m,\u001b[0m \u001b[0mleasesgeo\u001b[0m\u001b[0;34m,\u001b[0m \u001b[0moldprod\u001b[0m\u001b[0;34m)\u001b[0m\u001b[0;34m\u001b[0m\u001b[0;34m\u001b[0m\u001b[0m\n\u001b[0m",
      "\u001b[0;32m<ipython-input-14-7979c0193a02>\u001b[0m in \u001b[0;36mconvertoDateTime\u001b[0;34m(*dataframe)\u001b[0m\n\u001b[1;32m      9\u001b[0m \u001b[0;34m\u001b[0m\u001b[0m\n\u001b[1;32m     10\u001b[0m         \u001b[0;32mfor\u001b[0m \u001b[0mcol\u001b[0m \u001b[0;32min\u001b[0m \u001b[0mcols\u001b[0m\u001b[0;34m:\u001b[0m\u001b[0;34m\u001b[0m\u001b[0;34m\u001b[0m\u001b[0m\n\u001b[0;32m---> 11\u001b[0;31m             \u001b[0mdf\u001b[0m\u001b[0;34m[\u001b[0m\u001b[0mcol\u001b[0m\u001b[0;34m]\u001b[0m \u001b[0;34m=\u001b[0m \u001b[0mdf\u001b[0m\u001b[0;34m[\u001b[0m\u001b[0mcol\u001b[0m\u001b[0;34m]\u001b[0m\u001b[0;34m.\u001b[0m\u001b[0mapply\u001b[0m\u001b[0;34m(\u001b[0m\u001b[0;32mlambda\u001b[0m \u001b[0mx\u001b[0m\u001b[0;34m:\u001b[0m \u001b[0mpd\u001b[0m\u001b[0;34m.\u001b[0m\u001b[0mto_datetime\u001b[0m\u001b[0;34m(\u001b[0m\u001b[0mx\u001b[0m\u001b[0;34m)\u001b[0m\u001b[0;34m)\u001b[0m\u001b[0;34m\u001b[0m\u001b[0;34m\u001b[0m\u001b[0m\n\u001b[0m",
      "\u001b[0;32m/anaconda3/lib/python3.6/site-packages/pandas/core/series.py\u001b[0m in \u001b[0;36mapply\u001b[0;34m(self, func, convert_dtype, args, **kwds)\u001b[0m\n\u001b[1;32m   3589\u001b[0m             \u001b[0;32melse\u001b[0m\u001b[0;34m:\u001b[0m\u001b[0;34m\u001b[0m\u001b[0;34m\u001b[0m\u001b[0m\n\u001b[1;32m   3590\u001b[0m                 \u001b[0mvalues\u001b[0m \u001b[0;34m=\u001b[0m \u001b[0mself\u001b[0m\u001b[0;34m.\u001b[0m\u001b[0mastype\u001b[0m\u001b[0;34m(\u001b[0m\u001b[0mobject\u001b[0m\u001b[0;34m)\u001b[0m\u001b[0;34m.\u001b[0m\u001b[0mvalues\u001b[0m\u001b[0;34m\u001b[0m\u001b[0;34m\u001b[0m\u001b[0m\n\u001b[0;32m-> 3591\u001b[0;31m                 \u001b[0mmapped\u001b[0m \u001b[0;34m=\u001b[0m \u001b[0mlib\u001b[0m\u001b[0;34m.\u001b[0m\u001b[0mmap_infer\u001b[0m\u001b[0;34m(\u001b[0m\u001b[0mvalues\u001b[0m\u001b[0;34m,\u001b[0m \u001b[0mf\u001b[0m\u001b[0;34m,\u001b[0m \u001b[0mconvert\u001b[0m\u001b[0;34m=\u001b[0m\u001b[0mconvert_dtype\u001b[0m\u001b[0;34m)\u001b[0m\u001b[0;34m\u001b[0m\u001b[0;34m\u001b[0m\u001b[0m\n\u001b[0m\u001b[1;32m   3592\u001b[0m \u001b[0;34m\u001b[0m\u001b[0m\n\u001b[1;32m   3593\u001b[0m         \u001b[0;32mif\u001b[0m \u001b[0mlen\u001b[0m\u001b[0;34m(\u001b[0m\u001b[0mmapped\u001b[0m\u001b[0;34m)\u001b[0m \u001b[0;32mand\u001b[0m \u001b[0misinstance\u001b[0m\u001b[0;34m(\u001b[0m\u001b[0mmapped\u001b[0m\u001b[0;34m[\u001b[0m\u001b[0;36m0\u001b[0m\u001b[0;34m]\u001b[0m\u001b[0;34m,\u001b[0m \u001b[0mSeries\u001b[0m\u001b[0;34m)\u001b[0m\u001b[0;34m:\u001b[0m\u001b[0;34m\u001b[0m\u001b[0;34m\u001b[0m\u001b[0m\n",
      "\u001b[0;32mpandas/_libs/lib.pyx\u001b[0m in \u001b[0;36mpandas._libs.lib.map_infer\u001b[0;34m()\u001b[0m\n",
      "\u001b[0;32m<ipython-input-14-7979c0193a02>\u001b[0m in \u001b[0;36m<lambda>\u001b[0;34m(x)\u001b[0m\n\u001b[1;32m      9\u001b[0m \u001b[0;34m\u001b[0m\u001b[0m\n\u001b[1;32m     10\u001b[0m         \u001b[0;32mfor\u001b[0m \u001b[0mcol\u001b[0m \u001b[0;32min\u001b[0m \u001b[0mcols\u001b[0m\u001b[0;34m:\u001b[0m\u001b[0;34m\u001b[0m\u001b[0;34m\u001b[0m\u001b[0m\n\u001b[0;32m---> 11\u001b[0;31m             \u001b[0mdf\u001b[0m\u001b[0;34m[\u001b[0m\u001b[0mcol\u001b[0m\u001b[0;34m]\u001b[0m \u001b[0;34m=\u001b[0m \u001b[0mdf\u001b[0m\u001b[0;34m[\u001b[0m\u001b[0mcol\u001b[0m\u001b[0;34m]\u001b[0m\u001b[0;34m.\u001b[0m\u001b[0mapply\u001b[0m\u001b[0;34m(\u001b[0m\u001b[0;32mlambda\u001b[0m \u001b[0mx\u001b[0m\u001b[0;34m:\u001b[0m \u001b[0mpd\u001b[0m\u001b[0;34m.\u001b[0m\u001b[0mto_datetime\u001b[0m\u001b[0;34m(\u001b[0m\u001b[0mx\u001b[0m\u001b[0;34m)\u001b[0m\u001b[0;34m)\u001b[0m\u001b[0;34m\u001b[0m\u001b[0;34m\u001b[0m\u001b[0m\n\u001b[0m",
      "\u001b[0;32m/anaconda3/lib/python3.6/site-packages/pandas/core/tools/datetimes.py\u001b[0m in \u001b[0;36mto_datetime\u001b[0;34m(arg, errors, dayfirst, yearfirst, utc, box, format, exact, unit, infer_datetime_format, origin, cache)\u001b[0m\n\u001b[1;32m    609\u001b[0m             \u001b[0mresult\u001b[0m \u001b[0;34m=\u001b[0m \u001b[0mconvert_listlike\u001b[0m\u001b[0;34m(\u001b[0m\u001b[0marg\u001b[0m\u001b[0;34m,\u001b[0m \u001b[0mbox\u001b[0m\u001b[0;34m,\u001b[0m \u001b[0mformat\u001b[0m\u001b[0;34m)\u001b[0m\u001b[0;34m\u001b[0m\u001b[0;34m\u001b[0m\u001b[0m\n\u001b[1;32m    610\u001b[0m     \u001b[0;32melse\u001b[0m\u001b[0;34m:\u001b[0m\u001b[0;34m\u001b[0m\u001b[0;34m\u001b[0m\u001b[0m\n\u001b[0;32m--> 611\u001b[0;31m         \u001b[0mresult\u001b[0m \u001b[0;34m=\u001b[0m \u001b[0mconvert_listlike\u001b[0m\u001b[0;34m(\u001b[0m\u001b[0mnp\u001b[0m\u001b[0;34m.\u001b[0m\u001b[0marray\u001b[0m\u001b[0;34m(\u001b[0m\u001b[0;34m[\u001b[0m\u001b[0marg\u001b[0m\u001b[0;34m]\u001b[0m\u001b[0;34m)\u001b[0m\u001b[0;34m,\u001b[0m \u001b[0mbox\u001b[0m\u001b[0;34m,\u001b[0m \u001b[0mformat\u001b[0m\u001b[0;34m)\u001b[0m\u001b[0;34m[\u001b[0m\u001b[0;36m0\u001b[0m\u001b[0;34m]\u001b[0m\u001b[0;34m\u001b[0m\u001b[0;34m\u001b[0m\u001b[0m\n\u001b[0m\u001b[1;32m    612\u001b[0m \u001b[0;34m\u001b[0m\u001b[0m\n\u001b[1;32m    613\u001b[0m     \u001b[0;32mreturn\u001b[0m \u001b[0mresult\u001b[0m\u001b[0;34m\u001b[0m\u001b[0;34m\u001b[0m\u001b[0m\n",
      "\u001b[0;32m/anaconda3/lib/python3.6/site-packages/pandas/core/tools/datetimes.py\u001b[0m in \u001b[0;36m_convert_listlike_datetimes\u001b[0;34m(arg, box, format, name, tz, unit, errors, infer_datetime_format, dayfirst, yearfirst, exact)\u001b[0m\n\u001b[1;32m    172\u001b[0m     \"\"\"\n\u001b[1;32m    173\u001b[0m     \u001b[0;32mfrom\u001b[0m \u001b[0mpandas\u001b[0m \u001b[0;32mimport\u001b[0m \u001b[0mDatetimeIndex\u001b[0m\u001b[0;34m\u001b[0m\u001b[0;34m\u001b[0m\u001b[0m\n\u001b[0;32m--> 174\u001b[0;31m     \u001b[0;32mfrom\u001b[0m \u001b[0mpandas\u001b[0m\u001b[0;34m.\u001b[0m\u001b[0mcore\u001b[0m\u001b[0;34m.\u001b[0m\u001b[0marrays\u001b[0m \u001b[0;32mimport\u001b[0m \u001b[0mDatetimeArray\u001b[0m\u001b[0;34m\u001b[0m\u001b[0;34m\u001b[0m\u001b[0m\n\u001b[0m\u001b[1;32m    175\u001b[0m     from pandas.core.arrays.datetimes import (\n\u001b[1;32m    176\u001b[0m         maybe_convert_dtype, objects_to_datetime64ns)\n",
      "\u001b[0;32m/anaconda3/lib/python3.6/importlib/_bootstrap.py\u001b[0m in \u001b[0;36m_handle_fromlist\u001b[0;34m(module, fromlist, import_, recursive)\u001b[0m\n",
      "\u001b[0;31mKeyboardInterrupt\u001b[0m: "
     ]
    }
   ],
   "source": [
    "convertoDateTime(prodshp, permitshp, leasesgeo, oldprod)"
   ]
  },
  {
   "cell_type": "markdown",
   "metadata": {},
   "source": [
    "### Adding a column to tract shapefile data for centroids of each tract for creating buffers upon"
   ]
  },
  {
   "cell_type": "code",
   "execution_count": null,
   "metadata": {},
   "outputs": [],
   "source": [
    "tractshp[\"centroids\"] = tractshp.centroid\n",
    "#calculating acres of tract, conv to acres is m^2 to acres\n",
    "tractshp['Acres'] = round(tractshp.area * 0.000247105)\n",
    "tractshp.head()"
   ]
  },
  {
   "cell_type": "code",
   "execution_count": null,
   "metadata": {},
   "outputs": [],
   "source": [
    "#adding buffer around centroid point from tract of 3 mi (1609.34 meters = 1 mile)\n",
    "miradius = 3\n",
    "milesbuffer = miradius * 1609.34\n",
    "\n",
    "tractshp[\"buffers\"] = tractshp.centroids.apply(lambda x: x.buffer(milesbuffer,20))\n"
   ]
  },
  {
   "cell_type": "markdown",
   "metadata": {},
   "source": [
    "# Testing Spatial Filters"
   ]
  },
  {
   "cell_type": "code",
   "execution_count": null,
   "metadata": {},
   "outputs": [],
   "source": [
    "TestT = 40\n",
    "tractTest = tractshp[tractshp[\"tract_id\"] == TestT].iloc[0]\n",
    "\n",
    "\n",
    "permFiltered = permitshp.loc[permitshp.within(tractshp[tractshp[\"tract_id\"] ==TestT][\"buffers\"].iloc[0])]\n",
    "prodFiltered = prodshp.loc[prodshp.within(tractshp[tractshp[\"tract_id\"] ==TestT][\"buffers\"].iloc[0])]\n",
    "leasesFiltered = leasesgeo.loc[leasesgeo.within(tractshp[tractshp[\"tract_id\"]==TestT][\"buffers\"].iloc[0])]"
   ]
  },
  {
   "cell_type": "code",
   "execution_count": null,
   "metadata": {},
   "outputs": [],
   "source": [
    "len(permFiltered), len(prodFiltered), len(leasesFiltered)"
   ]
  },
  {
   "cell_type": "markdown",
   "metadata": {},
   "source": [
    "### Calculating distance between leases within 3 mi radius and tract's centroid - Store in Function"
   ]
  },
  {
   "cell_type": "code",
   "execution_count": null,
   "metadata": {},
   "outputs": [],
   "source": [
    "#function to get compass direction\n",
    "\n",
    "def cardDir(point, tractRef):\n",
    "    '''\n",
    "    This function will take in 2 inputs and will calculate the cardinal direction between 2 points\n",
    "    \n",
    "    1.  point: a shapely Point object referring to a permit,lease, well found in spatial query  \n",
    "    2.  tractRef: a shapely Point object referring to the centroid of the lease/tract for analysis\n",
    "    '''\n",
    "    \n",
    "    #storing each coordinate in a temporary variable\n",
    "    a = point.x\n",
    "    b = point.y\n",
    "    c = tractRef[\"centroids\"].x\n",
    "    d = tractRef[\"centroids\"].y\n",
    "\n",
    "    #south and west are positive direction for my axis convention\n",
    "    western = c - a\n",
    "    southern = d - b\n",
    "    \n",
    "    #calculating angle between points for determining which direction the point of data is in reference to tract centroid\n",
    "    compdeg = abs(math.atan(western/southern))\n",
    "    #converts radians to degrees\n",
    "    compdeg *= 57.2958\n",
    "    compdeg\n",
    "\n",
    "    if southern > 0:\n",
    "        if compdeg < 10:\n",
    "            carddir = \"S\"\n",
    "        elif compdeg > 80:\n",
    "            if western>0:\n",
    "                carddir = \"W\"\n",
    "            else:\n",
    "                carddir = \"E\"\n",
    "        else:\n",
    "            if western>0:\n",
    "                carddir = \"SW\"\n",
    "            else:\n",
    "                carddir = \"SE\"\n",
    "    else:\n",
    "        if compdeg < 10:\n",
    "            carddir = \"N\"\n",
    "        elif compdeg > 80:\n",
    "            if western>0:\n",
    "                carddir = \"W\"\n",
    "            else:\n",
    "                carddir = \"E\"\n",
    "        else:\n",
    "            if western>0:\n",
    "                carddir = \"NW\"\n",
    "            else:\n",
    "                carddir = \"NE\"  \n",
    "     \n",
    "    return carddir         \n",
    "   \n",
    "    "
   ]
  },
  {
   "cell_type": "markdown",
   "metadata": {},
   "source": [
    "### Creating Function from Test Above and Below Code to Get Filtered Data Tract by Tract In a Loop"
   ]
  },
  {
   "cell_type": "code",
   "execution_count": null,
   "metadata": {},
   "outputs": [],
   "source": [
    "def prepareTractFilter(x):\n",
    "    '''This function will use global variables defined previously for testing each tract\n",
    "       x will be the tract number we will look for activity around\n",
    "       \n",
    "       The functino will run and add columns of data only necessary for the filtered values data\n",
    "    '''\n",
    "    \n",
    "    #getting tract in sale list to search well data (permits, leases, prod)\n",
    "    tractTest = tractshp[tractshp[\"tract_id\"] == x].iloc[0]\n",
    "\n",
    "    #global variables permitshp, prodshp, leasesgeo - not passing them into the function\n",
    "    #this will use geopandas function within to get data within buffer of test tract and then use the boolean array to filter itself to get data\n",
    "    permitstoeval = permitshp.loc[permitshp.within(tractTest[\"buffers\"])]\n",
    "    prodtoeval = prodshp.loc[prodshp.within(tractTest[\"buffers\"])]\n",
    "    leasestoeval = leasesgeo.loc[leasesgeo.within(tractTest[\"buffers\"])]\n",
    "    oldprodtoeval = oldprod.loc[oldprod.within(tractTest[\"buffers\"])]\n",
    "    \n",
    "    #calculating distance (in miles) away lease within 3 mi radius is to tract of interest and direction of data point (permit, lease, prod)\n",
    "    leasestoeval[\"distance\"] = leasestoeval[\"geometry\"].apply(lambda x: x.distance(tractTest[\"centroids\"])/1609.34)\n",
    "    leasestoeval[\"direction\"] = leasestoeval[\"geometry\"].apply(lambda x: cardDir(x, tractTest))\n",
    "    leasestoeval[\"RecordYr\"] = leasestoeval[\"Record Date\"].apply(lambda x: x.year)\n",
    "    \n",
    "    \n",
    "    #adding columns to permits dataframe such as horizontal lngth and direction\n",
    "    permitstoeval[\"horzLength\"] = permitstoeval[\"PermDepth\"] - permitstoeval[\"TVD\"]\n",
    "    permitstoeval[\"distance\"] = permitstoeval[\"geometry\"].apply(lambda x: x.distance(tractTest[\"centroids\"])/1609.34)\n",
    "    permitstoeval[\"direction\"] = permitstoeval[\"geometry\"].apply(lambda x: cardDir(x, tractTest))\n",
    "\n",
    "\n",
    "    prodtoeval[\"distance\"] = prodtoeval[\"geometry\"].apply(lambda x: x.distance(tractTest[\"centroids\"])/1609.34)\n",
    "    prodtoeval[\"direction\"] = prodtoeval[\"geometry\"].apply(lambda x: cardDir(x, tractTest))\n",
    "    \n",
    "    oldprodtoeval[\"distance\"] = oldprodtoeval[\"geometry\"].apply(lambda x: x.distance(tractTest[\"centroids\"])/1609.34)\n",
    "    oldprodtoeval[\"direction\"] = oldprodtoeval[\"geometry\"].apply(lambda x: cardDir(x, tractTest))\n",
    "    \n",
    "\n",
    "    return permitstoeval, prodtoeval, leasestoeval, oldprodtoeval"
   ]
  },
  {
   "cell_type": "markdown",
   "metadata": {},
   "source": [
    "### Looping Through All Sale Tracts - Retrieving Data Around Tract"
   ]
  },
  {
   "cell_type": "code",
   "execution_count": null,
   "metadata": {},
   "outputs": [],
   "source": [
    "#output filtered data for hard storing to excel file\n",
    "outputProd = []\n",
    "outputPerm = []\n",
    "outputLeases = []\n",
    "outputOldProd = []\n",
    "\n",
    "\n",
    "#looping through each tract id and creating filtered geospatial data, activity summaries, and visualizaiton plots\n",
    "for i in tractshp[\"tract_id\"]:\n",
    "    perm, prod, leases, oldprodtoeval = prepareTractFilter(i)\n",
    "    \n",
    "    #appending geospatial filtered datasets to a list in order to write dataframes to file for easier retrieval and data validaiton\n",
    "    perm[\"tract_id\"] = i\n",
    "    outputPerm.append(perm)\n",
    "    \n",
    "    prod[\"tract_id\"] = i\n",
    "    outputProd.append(prod)\n",
    "    \n",
    "    leases[\"tract_id\"] = i\n",
    "    outputLeases.append(leases)\n",
    "    \n",
    "    oldprodtoeval[\"tract_id\"] = i\n",
    "    outputOldProd.append(oldprodtoeval)"
   ]
  },
  {
   "cell_type": "markdown",
   "metadata": {},
   "source": [
    "### Writing Filtered Data to File for Easier Retrieval"
   ]
  },
  {
   "cell_type": "code",
   "execution_count": null,
   "metadata": {},
   "outputs": [],
   "source": [
    "    \n",
    "#concatenating filtered dataframes along the row axis and writing to file\n",
    "pd.concat(outputLeases).to_excel(\"Output Data/Sale Tracts Activity Data/Leases Around Sale Tracts.xlsx\")\n",
    "pd.concat(outputPerm).to_excel(\"Output Data/Sale Tracts Activity Data/Permits Around Sale Tracts.xlsx\")\n",
    "pd.concat(outputProd).to_excel(\"Output Data/Sale Tracts Activity Data/Prod Around Sale Tracts.xlsx\")\n",
    "pd.concat(outputOldProd).to_excel(\"Output Data/Sale Tracts Activity Data/OldProd Around Sale Tracts.xlsx\")"
   ]
  },
  {
   "cell_type": "markdown",
   "metadata": {},
   "source": [
    "# Section for creating summary functions and testing logic"
   ]
  },
  {
   "cell_type": "code",
   "execution_count": null,
   "metadata": {},
   "outputs": [],
   "source": [
    "# # 5-10-20 VOID LINE OF CODE - new method of getting test tract by looking at dataframes read from file\n",
    "# tPerm, tProd, tLea, tOld = prepareTractFilter(37)"
   ]
  },
  {
   "cell_type": "code",
   "execution_count": null,
   "metadata": {},
   "outputs": [],
   "source": [
    "#reading dataframes from excel file\n",
    "fullFilteredLeases = pd.read_excel(\"Output Data/Sale Tracts Activity Data/Leases Around Sale Tracts.xlsx\")\n",
    "fullFilteredPermits = pd.read_excel(\"Output Data/Sale Tracts Activity Data/Permits Around Sale Tracts.xlsx\")\n",
    "fullFilteredProd = pd.read_excel(\"Output Data/Sale Tracts Activity Data/Prod Around Sale Tracts.xlsx\")\n",
    "fullFilteredOldProd = pd.read_excel(\"Output Data/Sale Tracts Activity Data/OldProd Around Sale Tracts.xlsx\")"
   ]
  },
  {
   "cell_type": "code",
   "execution_count": null,
   "metadata": {},
   "outputs": [],
   "source": [
    "#old production must be converted back into geodata frame because the write old prod summary... ->\n",
    "#uses geospatial filtering to find wells within tract boundaries of tract\n",
    "# *** Init CRS should be initial CRS of shapefile from import because we are creating the geometries based on the lat and longs\n",
    "# *** Trying to import as a geodataframe using directly the geometry column was troublesome - geopandas did not recongize the column data type as point\n",
    "fullFilteredOldProd= gp.GeoDataFrame(fullFilteredOldProd,  crs = {'init': 'epsg:4326'}, geometry=gp.points_from_xy(fullFilteredOldProd[\"Longitude\"], fullFilteredOldProd[\"Latitude\"]))\n",
    "\n",
    "#converting oldprod geodataframe crs\n",
    "convertCRS(fullFilteredOldProd)\n"
   ]
  },
  {
   "cell_type": "code",
   "execution_count": null,
   "metadata": {},
   "outputs": [],
   "source": [
    "#writing fuction to get data from pandas dataframe that was accessed from file\n",
    "def getActivityData(tractNum):\n",
    "    \n",
    "    '''\n",
    "    This function will filter fullFiltered global variable dataframes to tract specific data\n",
    "    '''\n",
    "    \n",
    "    tractLeases = fullFilteredLeases.loc[fullFilteredLeases[\"tract_id\"] == tractNum]\n",
    "    tractPermits = fullFilteredPermits.loc[fullFilteredPermits[\"tract_id\"] == tractNum]\n",
    "    tractProd = fullFilteredProd.loc[fullFilteredProd[\"tract_id\"] == tractNum]\n",
    "    tractOldProd = fullFilteredOldProd.loc[fullFilteredOldProd[\"tract_id\"] == tractNum]\n",
    "    \n",
    "    return tractPermits, tractProd, tractLeases, tractOldProd"
   ]
  },
  {
   "cell_type": "code",
   "execution_count": null,
   "metadata": {},
   "outputs": [],
   "source": [
    "#test tract and retrieve data around tract\n",
    "tPerm, tProd, tLea, tOld = getActivityData(40)"
   ]
  },
  {
   "cell_type": "markdown",
   "metadata": {},
   "source": [
    "### Function to write permits around tract summary"
   ]
  },
  {
   "cell_type": "code",
   "execution_count": null,
   "metadata": {},
   "outputs": [],
   "source": [
    "#testing out data \n",
    "\n",
    "tPerm.groupby(\"OpAlias\").count().head(3)[\"API10UWI\"]"
   ]
  },
  {
   "cell_type": "code",
   "execution_count": null,
   "metadata": {},
   "outputs": [],
   "source": [
    "def writePermitSummary(geoDF):\n",
    "    \n",
    "    #getting overall count of permits within in the spatial filter\n",
    "    count = int(geoDF[\"API10UWI\"].count())\n",
    "    \n",
    "    if count == 0 or type(geoDF) == type(None):\n",
    "        summaryText = \"There are no permits within a 3 mile radius\"\n",
    "        return summaryText\n",
    "    \n",
    "    #stating how many permits were found based on mile radius\n",
    "    a = \"In a {} mile radius there are {} active permits\".format(miradius, count)\n",
    "    \n",
    "    #getting summary of stats for numerical columns grouped by well orientation\n",
    "    byWellType = geoDF.groupby(\"DrillType\").describe()\n",
    "    \n",
    "    \n",
    "    #creating a list comprehension to count \n",
    "    b = [(\"{:.0f} permits are {} wells \".format(byWellType[\"PermDepth\"][\"count\"].loc[i], i)) for i in byWellType.index]\n",
    "    \n",
    "    #if there were multiple types of permits, join the list with \";\", otherwise take 1st index and ocnvert to string\n",
    "    if len(byWellType)>1:\n",
    "        b = \"; \".join(b)\n",
    "    else: \n",
    "        b = b[0]\n",
    "    \n",
    "    #only talking about lateral length for horz wells\n",
    "    if 'H' in b:\n",
    "        #rounding off to the nearest thousand (-3 in the second argument of the function round\n",
    "        avgHlength = round(byWellType[\"horzLength\"][\"mean\"].loc[\"H\"],-3)\n",
    "        avgTVD = round(byWellType[\"TVD\"][\"mean\"][\"H\"], -2)\n",
    "        \n",
    "        b += \"\\nThe average lateral length among these permits is {:.0f} ft.\".format(avgHlength)\n",
    "        b += \" \\n- The TVD for these well(s) are ~{:.0f}ft\".format(avgTVD)\n",
    "    else:\n",
    "        #consider adding a standard deviation conditional analysis whether to show avg depth for V permits or min max mean type summary\n",
    "        b += \"The average TVD for the vertical permits are {:.0f}\".format(round(byWellType[\"TVD\"].loc[\"V\"][\"mean\"], -2))\n",
    "    \n",
    "    #getting top 3 operators with permits\n",
    "    topOperators = geoDF.groupby(\"OpAlias\").count().head(3)\n",
    "    \n",
    "    #list comprehension to build list with strings having operator and their permit count in 3 mi radius\n",
    "    c = [\"{} has {} permits\".format(i.title(), topOperators[\"API10UWI\"].loc[i]) for i in topOperators.index]\n",
    "    c = \", \".join(c)\n",
    "    \n",
    "    summaryText = \"\\n\".join([a,b,c])\n",
    "    \n",
    "    return summaryText\n",
    "    "
   ]
  },
  {
   "cell_type": "code",
   "execution_count": null,
   "metadata": {},
   "outputs": [],
   "source": [
    "print(writePermitSummary(tPerm))"
   ]
  },
  {
   "cell_type": "markdown",
   "metadata": {},
   "source": [
    "### Function to write leaes around tract summary"
   ]
  },
  {
   "cell_type": "code",
   "execution_count": null,
   "metadata": {
    "scrolled": true
   },
   "outputs": [],
   "source": [
    "tLea"
   ]
  },
  {
   "cell_type": "code",
   "execution_count": null,
   "metadata": {},
   "outputs": [],
   "source": [
    "unique = tLea.drop_duplicates(subset=[\"Record Number\", \"Area (Acres)\", \"Bonus\"])\n",
    "unique"
   ]
  },
  {
   "cell_type": "code",
   "execution_count": null,
   "metadata": {},
   "outputs": [],
   "source": [
    "#weighted average\n",
    "sum(unique[\"Bonus\"] * unique[\"Area (Acres)\"]) / sum(unique[\"Area (Acres)\"])"
   ]
  },
  {
   "cell_type": "code",
   "execution_count": null,
   "metadata": {},
   "outputs": [],
   "source": [
    "def writeLeaseSummary(geoDF):\n",
    "    \n",
    "    #getting overall count of leases within in the spatial filter\n",
    "    count = geoDF[\"Grantee Alias\"].count()\n",
    "    \n",
    "    if count == 0:\n",
    "        return \"There are no recorded leases within a 3 mile radius\"\n",
    "    \n",
    "    #getting leases only with bonuses and dropping duplicates where lease is repeated within same section\n",
    "    leaseBonuses = geoDF[geoDF[\"Bonus\"]>0]\n",
    "    leaseBonuses = leaseBonuses.drop_duplicates(subset = ['geometry', \"Record Number\"])\n",
    "    #rounding distances to nearest tength\n",
    "    leaseBonuses[\"distance\"] = leaseBonuses[\"distance\"].apply(lambda x: round(x,1))\n",
    "    \n",
    "    #stating how many leases were found based on mile radius and most recent \n",
    "    latestYr = leaseBonuses[\"RecordYr\"].max()\n",
    "    a = \"In a {} mile radius, the latest leases with bonus information were taken in {}.\".format(miradius, latestYr)\n",
    "    \n",
    "    #getting summary of leases taken in most recent year, grouped by grantee\n",
    "    byGrantee = leaseBonuses[leaseBonuses[\"RecordYr\"]==latestYr]\n",
    "    byGrantee = byGrantee.groupby(\"Grantee Alias\").describe()\n",
    "    \n",
    "    #gtting 2 most active lessees\n",
    "    mostGrantees = byGrantee[\"Bonus\"].sort_values(\"count\", ascending = False).head(2)\n",
    "    \n",
    "    b = \"\"\n",
    "    #looping thorugh the 2 lessee's to get their average price paid\n",
    "    for i in mostGrantees.index:\n",
    "        #if the std deviation is 0 or is not available, then there is an exact price paid\n",
    "        if mostGrantees[\"std\"].loc[i] == 0 or np.isnan(mostGrantees[\"std\"].loc[i]):\n",
    "            b += \"{} paid ${:.0f}/acre.  \".format(i.title(), mostGrantees[\"mean\"].loc[i])\n",
    "        #if there is a standard deviation, then we will give the range and average\n",
    "        else:\n",
    "            b += \"{} paid between ${:.0f}/acre and ${:.0f}/acre.  \".format(i.title(), mostGrantees[\"min\"].loc[i], mostGrantees[\"max\"].loc[i])\n",
    "    \n",
    "    #if there was 2 or more lessee's for the given latest year, then report average bonus price for the data\n",
    "    if leaseBonuses[leaseBonuses[\"RecordYr\"]==latestYr][\"Bonus\"].count() > 2:\n",
    "        \n",
    "        #calculating weighted average by dropping duplicate leases by record number, bonus, and acreage\n",
    "        unique = leaseBonuses[leaseBonuses[\"RecordYr\"]==latestYr].drop_duplicates(subset=[\"Record Number\", \"Area (Acres)\", \"Bonus\"])\n",
    "        weightedAvg = sum(unique[\"Bonus\"] * unique[\"Area (Acres)\"]) / sum(unique[\"Area (Acres)\"])\n",
    "        \n",
    "        b+= \"The weighted average price in {} overall within the {} radius was ${:.0f}/acre.  \".format(latestYr,miradius,weightedAvg)\n",
    "        \n",
    "        #checking to see if highest price paid differes from the mean, if so, comment about the highest price\n",
    "        if leaseBonuses[leaseBonuses[\"RecordYr\"]==latestYr][\"Bonus\"].mean() != leaseBonuses[leaseBonuses[\"RecordYr\"]==latestYr][\"Bonus\"].max():\n",
    "            b += \"The highest price paid in {:.0f} was ${:.0f}/acre\".format(latestYr, leaseBonuses[leaseBonuses[\"RecordYr\"]==latestYr][\"Bonus\"].max())\n",
    "    \n",
    "    #generating list for previous years of latest lease taken by 4 years back\n",
    "    previousYears = list(range(latestYr-1, latestYr-4, -1))\n",
    "    \n",
    "    c = \"\"\n",
    "    for yr in previousYears:\n",
    "        #saving dataframe filtered to year of interest\n",
    "        curYr = leaseBonuses[leaseBonuses[\"Record Date\"].apply(lambda x: x.year) == yr]\n",
    "        \n",
    "        #checking to see if the dataframe has values with bonuses\n",
    "        if len(curYr)>0:\n",
    "            \n",
    "            c += \"In {}, \".format(yr)\n",
    "            \n",
    "            #grouping the filtered dataframe by year by grantee\n",
    "            grouped = curYr.groupby(\"Grantee Alias\").describe()[\"Bonus\"]\n",
    "            \n",
    "            #limiting summary to top 2 most active grantees\n",
    "            grouped = grouped.sort_values(\"count\", ascending = False).head(2)\n",
    "            \n",
    "            #looping through top 2 grantees to get their bonus range paid\n",
    "            for grantee in grouped.index:\n",
    "                \n",
    "                #if the grantee has a std of 0, then there is no variance and the average can be mentioned\n",
    "                if grouped.loc[grantee][\"std\"] == 0 or np.isnan(grouped.loc[grantee][\"std\"]):\n",
    "                    c += \"{} paid ${:.0f}/acre. \\n\".format(grantee.title(), grouped.loc[grantee][\"mean\"])\n",
    "                #if there is a std, then give the range the grantee paid\n",
    "                else:\n",
    "                    c += \"{} paid between ${:.0f}/acre and ${:.0f}/acre. \\n\".format(grantee.title(), grouped.loc[grantee][\"min\"],grouped.loc[grantee][\"max\"]) \n",
    "    \n",
    "    summaryText = \"\\n\".join([a,b,c])\n",
    "    \n",
    "    return summaryText\n",
    "    "
   ]
  },
  {
   "cell_type": "code",
   "execution_count": null,
   "metadata": {},
   "outputs": [],
   "source": [
    "writeLeaseSummary(tLea)"
   ]
  },
  {
   "cell_type": "markdown",
   "metadata": {},
   "source": [
    "### Last 4 years of production summary function"
   ]
  },
  {
   "cell_type": "code",
   "execution_count": null,
   "metadata": {},
   "outputs": [],
   "source": [
    "pd.set_option('max_columns', 30)\n",
    "tProd\n",
    "tProd.columns"
   ]
  },
  {
   "cell_type": "code",
   "execution_count": null,
   "metadata": {},
   "outputs": [],
   "source": [
    "def writeProdSummary(geoDF):\n",
    "    \n",
    "    #getting overall count of leases within in the spatial filter\n",
    "    overallcount = geoDF[\"APIUWI\"].count()\n",
    "    \n",
    "    if overallcount == 0:\n",
    "        return \"There are no new wells in the last 4 years within a 3 mile radius\"\n",
    " \n",
    "    a = \"There are {:.0f} wells within 3 mile radius that have started producing within last 4 years\".format(overallcount)\n",
    "    \n",
    "    if overallcount <=3:\n",
    "        b = \"\"\n",
    "        \n",
    "        for i in geoDF.index:\n",
    "            welldata = geoDF.loc[i]\n",
    "            dist, direct, op = welldata[\"distance\"], welldata[\"direction\"], welldata[\"OpAlias\"]\n",
    "            Dtype, depth = welldata[\"DrillType\"], welldata[\"TD\"]\n",
    "            totOil, totGas, monthprod = welldata[\"CumLiq\"]/1000, welldata[\"CumGas\"]/1000, welldata[\"MoProd\"]\n",
    "            \n",
    "            \n",
    "            \n",
    "            b += \"\\n{:.2f} mi {}, {} has a {} well at {:.0f} that has made {:.0f} mbbl and {:.0f} mmcf after {:.0f} months of producing\".format(dist,direct,op.title(),Dtype,depth,totOil,totGas,monthprod)\n",
    "        \n",
    "        summaryText = '\\n'.join([a,b])\n",
    "        \n",
    "        return summaryText\n",
    "        \n",
    "    else:\n",
    "    \n",
    "\n",
    "        wellTypes = geoDF[\"DrillType\"].value_counts()  \n",
    "        b = [\"{} are {} wells\".format(wellTypes.loc[i],i) for i in wellTypes.index]\n",
    "        b = \"; \".join(b)\n",
    "\n",
    "\n",
    "        #creating bins for production months in order to describe stats (cum oil, cum gas, latest vols, etc) for wells within prod interval\n",
    "\n",
    "        bins = pd.IntervalIndex.from_tuples([(0,1), (2,3), (4,5), (6,8), (9,10), (11,12), (12,18), (19,24), (25,36), (37,48)])\n",
    "\n",
    "        geoDF[\"binsbyprodmonth\"] = pd.cut(geoDF[\"MoProd\"], bins, precision = 0)\n",
    "\n",
    "\n",
    "        #grouping the wells by their binned months producing and generating full summary\n",
    "        byBinMonth = geoDF.groupby(\"binsbyprodmonth\").describe()\n",
    "\n",
    "        #initializing empty string to build upon\n",
    "        s=\"\"\n",
    "\n",
    "        #looping through each index and generating text summary\n",
    "        for i in byBinMonth.index:\n",
    "\n",
    "            count = byBinMonth.loc[i][\"MoProd\"][\"count\"]\n",
    "\n",
    "            #if there are more than 1 well in the bin, then get a range of production along with current production\n",
    "            if  count > 1:\n",
    "                s += \"{:.0f} wells have produced for {:.0f} to {:.0f} months\".format(count, i.left, i.right)\n",
    "\n",
    "                # getting statistics for wells in bin\n",
    "                minGas = byBinMonth.loc[i][\"CumGas\"][\"min\"] / 1000\n",
    "                maxGas = byBinMonth.loc[i][\"CumGas\"][\"max\"] / 1000\n",
    "                minOil = byBinMonth.loc[i][\"CumLiq\"][\"min\"] / 1000\n",
    "                maxOil = byBinMonth.loc[i][\"CumLiq\"][\"max\"] / 1000\n",
    "\n",
    "                latestOil = byBinMonth.loc[i][\"LatestLiq\"][\"mean\"] / 30\n",
    "                latestGas = byBinMonth.loc[i][\"LatestGas\"][\"mean\"] / 30\n",
    "\n",
    "                #building string \n",
    "                s += \" and have made between {:.0f} to {:.0f} mbbls with {:.0f} to {:.0f} mmcf of gas.  \".format(minOil, maxOil, minGas, maxGas)\n",
    "                s += \"These wells are currently averaging {:.0f} bpd and {:.0f} mcfd.  \".format(latestOil, latestGas)\n",
    "\n",
    "            #if there is just 1 well in the bin, then just report the cumulative vols and current prod\n",
    "            elif count > 0:\n",
    "                oilProd = byBinMonth.loc[i][\"CumLiq\"][\"mean\"] / 1000\n",
    "                gasProd = byBinMonth.loc[i][\"CumGas\"][\"mean\"] / 1000\n",
    "                moProd = byBinMonth.loc[i][\"MoProd\"][\"mean\"]\n",
    "                latestOil = byBinMonth.loc[i][\"LatestLiq\"][\"mean\"] / 30\n",
    "                latestGas = byBinMonth.loc[i][\"LatestGas\"][\"mean\"] / 30\n",
    "\n",
    "                s += \"{:.0f} well has made {:.0f} mbbl and {:.0f} mmcfd in {:.0f} months and is currently making {:.0f} bpd and {:.0f} mcfd.  \".format(count, oilProd, gasProd, moProd, latestOil, latestGas)\n",
    "\n",
    "            \n",
    "    summaryText = \"\\n\".join([a,b,s])\n",
    "    \n",
    "    return summaryText\n",
    "    "
   ]
  },
  {
   "cell_type": "code",
   "execution_count": null,
   "metadata": {},
   "outputs": [],
   "source": [
    "writeProdSummary(tProd)"
   ]
  },
  {
   "cell_type": "markdown",
   "metadata": {},
   "source": [
    "### Function and Log to write Old Production Summary"
   ]
  },
  {
   "cell_type": "code",
   "execution_count": null,
   "metadata": {},
   "outputs": [],
   "source": [
    "def writeOldProdSummary(geoDF, tractNum):\n",
    "    \n",
    "    \n",
    "    #cleans up production dataframe in case import had such data values when imported from drillinginfo\n",
    "    geoDF = geoDF.loc[geoDF[\"ProdStatus\"].apply(lambda x: \"PERMIT\" not in x)]\n",
    "    \n",
    "    summaryText = ''\n",
    "    \n",
    "    if len(geoDF) == 0:\n",
    "        return \"No old wells within tract or in 3 mile radius of tract.\"\n",
    "    \n",
    "    #this line regrabs the tract geometry that has been evaluated in order to perform a more specific query of wells on the tract\n",
    "    tractBoundaries = tractshp[tractshp[\"tract_id\"] == tractNum][\"geometry\"].iloc[0]\n",
    "    \n",
    "    wellsWithinTract = geoDF.loc[geoDF.within(tractBoundaries)]\n",
    "    \n",
    "    if wellsWithinTract[\"APIUWI\"].count() > 0:\n",
    "        a = \"There are {} wells within the tract.\\n\".format(len(wellsWithinTract))\n",
    "        \n",
    "        wellTypes = wellsWithinTract[\"ProdType\"]\n",
    "        \n",
    "        #running text search to return list in order to prevent missing dry holes that may be labeled \"dry holes\" instead of just \"dry\" in DI\n",
    "        if \"DRY\" in wellTypes.value_counts():\n",
    "            \n",
    "            dryholes = list(filter(lambda x: 'DRY' in x.upper(), wellTypes.value_counts().index))\n",
    "            \n",
    "            tot = 0\n",
    "            for i in dryholes:\n",
    "                tot += wellTypes.value_counts()[i]\n",
    "                \n",
    "            \n",
    "            b = \"{} dry holes in tract.\\n\".format(tot)\n",
    "        #This will assign 0 to total if there are no dry holes\n",
    "        else:\n",
    "            tot = 0\n",
    "            b = ''\n",
    "        \n",
    "\n",
    "        \n",
    "        wellsNoInfo = wellsWithinTract[(wellsWithinTract[\"CumGas\"].isnull()) & wellsWithinTract[\"CumLiq\"].isnull()][\"APIUWI\"].count() - tot\n",
    "        \n",
    "        if wellsNoInfo>0:\n",
    "            c = '{} wells did not report production'.format(wellsNoInfo)   \n",
    "        else:\n",
    "            c = ''\n",
    "    \n",
    "        #getting dataframe with wells that reported production within tract; how = 'all' fixes error of dropping all rows b/c only 1 column of the 2 is null.\n",
    "        #how = 'all' ensures both columns are null to be dropped\n",
    "        wellsInTractProd = wellsWithinTract.dropna(subset = [\"CumGas\", \"CumLiq\"], how = \"all\")\n",
    "        \n",
    "        d= \"\"\n",
    "        #checking how many wells reported production, ~ symbol is to get not null values\n",
    "        if wellsInTractProd[\"APIUWI\"].count()>0:\n",
    "            d += \"{} wells reported production.  They produced: \".format(wellsInTractProd[\"APIUWI\"].count())\n",
    "            \n",
    "            for well in wellsInTractProd.index:\n",
    "                \n",
    "                oil = wellsInTractProd.loc[well][\"CumLiq\"] / 1000\n",
    "                gas = wellsInTractProd.loc[well][\"CumGas\"] / 1000\n",
    "                yearsProd = str(wellsInTractProd.loc[well][\"FstPrdDate\"].year) + \"-\" + str(wellsInTractProd.loc[well][\"LstPrdDate\"].year)\n",
    "                md = wellsInTractProd.loc[well][\"TD\"]\n",
    "                \n",
    "                #checks if oil or gas has a null value, if so, it will make it 0 instead of nan\n",
    "                if np.isnan(oil):\n",
    "                    oil = 0\n",
    "                if np.isnan(gas):\n",
    "                    gas = 0\n",
    "            \n",
    "                d += \"{:.0f} mbbl and {:.0f} mmcf at {:.0f} ft from years {}, \".format(oil, gas, md, yearsProd)\n",
    "        \n",
    "        summaryText = a + b + c + d\n",
    "    else:\n",
    "        summaryText = \"There are no wells within tract boundaries \\n\"\n",
    "    \n",
    "    #getting wells outside the tract for another analysis - the '~' character works as the \"not within\" condition        \n",
    "    wellsOutside = geoDF.loc[~geoDF.within(tractBoundaries)]\n",
    "    \n",
    "    if wellsOutside[\"APIUWI\"].count()>0:\n",
    "        summaryText += \"\\nThere are ~{} wells outside the tract within a 3 mile radius.\\n\".format(wellsOutside[\"APIUWI\"].count())\n",
    "        \n",
    "        wellsNoInfo = wellsOutside[(wellsOutside[\"CumGas\"].isnull()) & wellsOutside[\"CumLiq\"].isnull()][\"APIUWI\"].count()\n",
    "        \n",
    "        if wellsNoInfo>0:\n",
    "            \n",
    "            dryholes = wellsOutside[wellsOutside[\"ProdType\"] == \"DRY\"].iloc[:,0].count()\n",
    "            \n",
    "            summaryText += \"Out of these, {} were dry.\\n\".format(dryholes)\n",
    "        \n",
    "            if wellsNoInfo-dryholes != 0:\n",
    "                summaryText += \"{} do not have reported production. \\n\".format(wellsNoInfo - dryholes)\n",
    "            \n",
    "        topWells = wellsOutside.sort_values(\"CumBOE\", ascending = False).dropna(subset=[\"CumGas\", \"CumLiq\"])\n",
    "\n",
    "        if topWells[\"APIUWI\"].count() > 0:\n",
    "\n",
    "            summaryText += \"The top wells that produced made: \"\n",
    "\n",
    "            for well in topWells.head().index:\n",
    "                \n",
    "                oil = topWells.loc[well][\"CumLiq\"] / 1000\n",
    "                gas = topWells.loc[well][\"CumGas\"] / 1000\n",
    "                td = topWells.loc[well][\"TD\"]\n",
    "                moprod = topWells.loc[well][\"MoProd\"]\n",
    "                yearsProdInterval = str(topWells.loc[well][\"FstPrdDate\"].year) + \"-\" + str(topWells.loc[well][\"LstPrdDate\"].year)\n",
    "\n",
    "                summaryText += \"{:.0f} mbbl and {:.0f} mmcf at {:.0f} ft in {:.0f} months from {}; \".format(oil, gas, td, moprod, yearsProdInterval)\n",
    "        \n",
    "    return summaryText\n",
    "    \n",
    "   "
   ]
  },
  {
   "cell_type": "code",
   "execution_count": null,
   "metadata": {},
   "outputs": [],
   "source": [
    "writeOldProdSummary(tOld, 37)"
   ]
  },
  {
   "cell_type": "markdown",
   "metadata": {},
   "source": [
    "# Section for creating statistical plots for permit, leases, and production data & mapping for parcels"
   ]
  },
  {
   "cell_type": "markdown",
   "metadata": {},
   "source": [
    "### Activity Plots and Dashboards"
   ]
  },
  {
   "cell_type": "code",
   "execution_count": null,
   "metadata": {},
   "outputs": [],
   "source": [
    "import matplotlib.ticker as ticker"
   ]
  },
  {
   "cell_type": "code",
   "execution_count": null,
   "metadata": {},
   "outputs": [],
   "source": [
    "def createPermitDash(per, tractNum):\n",
    "    '''This function will create a dashboard describing the permits (per dataframe) around a sale parcel with tractNum'''\n",
    "    \n",
    "    if len(per)>0:\n",
    "\n",
    "        #creating matplotlib figure\n",
    "        dashPermits, permitAxes = plt.subplots(2,2, figsize = (12,8))\n",
    "\n",
    "        #inserting barplot showing count of permits by their well status\n",
    "        sns.countplot(per[\"WellStatus\"], palette = \"rainbow\", ax=permitAxes[0,0])\n",
    "        permitAxes[0,0].set_title(\"Permits by Well Status\")\n",
    "\n",
    "        #inserting subplot onto figure showing permits taken by operator\n",
    "        sns.countplot(per[\"OpAlias\"], ax = permitAxes[0,1])\n",
    "        permitAxes[0,1].set_title(\"Permits by Operator\")\n",
    "\n",
    "        #inserting subplot of permits by drill type\n",
    "        sns.countplot(per[\"DrillType\"], ax = permitAxes[1,0])\n",
    "        permitAxes[1,0].set_title(\"Permits by Well Type (H,D,V)\")\n",
    "\n",
    "        #This will prevent the plot from creating when there is not horzLength column due to the permits not being horizontal\n",
    "        try:\n",
    "            sns.distplot(per[\"horzLength\"],bins = 5, ax = permitAxes[1,1], kde = False)\n",
    "            permitAxes[1,1].set_xlim([0,15000])\n",
    "            permitAxes[1,1].set_title(\"Permit Horizontal Lengths - Binned\")\n",
    "        except:\n",
    "            pass\n",
    "\n",
    "        dashPermits.suptitle('Permit Summary for Tract {}\\n Total permits: {}'.format(tractNum, len(per)), y = 1.05, fontsize = 20, fontweight = 15)\n",
    "\n",
    "\n",
    "        dashPermits.tight_layout()\n",
    "\n",
    "        return dashPermits"
   ]
  },
  {
   "cell_type": "code",
   "execution_count": null,
   "metadata": {},
   "outputs": [],
   "source": [
    "def createLeasesDash(lea, tractNum):\n",
    "    \n",
    "    '''\n",
    "    This function will take in a dataframe of lease information, lea\n",
    "    and create a dashboard of lease stats around the tract tractNum\n",
    "    '''\n",
    "    \n",
    "    if len(lea)>0:\n",
    "    \n",
    "        #getting leases only with bonuses and dropping duplicates where lease is repeated within same section\n",
    "        lea = lea[lea[\"Bonus\"]>0]\n",
    "        lea = lea.drop_duplicates(subset = ['geometry', \"Record Number\"])\n",
    "\n",
    "        dashLease, leaseAx = plt.subplots(3,1, figsize = (16,20))\n",
    "\n",
    "        #creating format for y tickers\n",
    "        formatter = ticker.FormatStrFormatter('$%1.0f')\n",
    "\n",
    "        #inserting a swarmplot showing bonus by record year colored by grantee\n",
    "        sns.swarmplot(lea[\"RecordYr\"], lea[\"Bonus\"], size = 10, hue = lea[\"Grantee Alias\"], ax = leaseAx[0])\n",
    "        leaseAx[0].set_title(\"Lease Bonus by Year - Swarmplot\")\n",
    "\n",
    "        #inserting scatter plot showing bonuses away from centroid of tract\n",
    "        sns.scatterplot(lea[\"distance\"], lea[\"Bonus\"], style = lea[\"direction\"], alpha=.7, hue = lea[\"RecordYr\"], palette=\"gist_rainbow\", s = 150, ax = leaseAx[1])\n",
    "        leaseAx[1].set_title(\"Lease Price by Distance of Sale Parcel\")\n",
    "\n",
    "        #barplot of grantee, bonus, and year\n",
    "        sns.barplot(lea[\"RecordYr\"], lea[\"Bonus\"], hue = lea[\"Grantee Alias\"], ax = leaseAx[2])\n",
    "        leaseAx[2].set_title(\"Lease Price by Grantee\")\n",
    "\n",
    "        #top level title statas\n",
    "        latestYr = lea[\"RecordYr\"].max()\n",
    "        avgPriceLatestYr = lea[lea[\"RecordYr\"] == latestYr][\"Bonus\"].mean()\n",
    "\n",
    "        #setting all axes on figure to dollar sign format\n",
    "        for ax in leaseAx:\n",
    "            ax.yaxis.set_major_formatter(formatter)\n",
    "\n",
    "        #y = 1.03 will move up the subplot title above the first plot's title so they don't overlap\n",
    "        dashLease.suptitle(\"Lease Summary for tract {} \\n Total Number of Leases: {} \\n Average Price ${:.0f}/acre in {}\".format(tractNum, len(lea), avgPriceLatestYr, latestYr), y = 1.05, fontsize = 20, fontweight = 15)\n",
    "\n",
    "        dashLease.tight_layout()\n",
    "\n",
    "        return dashLease"
   ]
  },
  {
   "cell_type": "code",
   "execution_count": null,
   "metadata": {
    "scrolled": true
   },
   "outputs": [],
   "source": [
    "def createProdDash(pro, tractNum):\n",
    "    '''This function will take in a geopandas data frame -pro- and create the following plots below onto 1 figure'''\n",
    "    \n",
    "    #will only create figure if there is production in the dataframe, otherwise it will not return anything\n",
    "    if len(pro)>0:\n",
    "    \n",
    "        dashProd, prodAx = plt.subplots(3,1, figsize=(16,20))\n",
    "\n",
    "        sns.scatterplot(pro[\"CumGas\"], pro[\"CumLiq\"], s = 150, hue = pro[\"MoProd\"], ax = prodAx[0])\n",
    "        prodAx[0].set_title(\"Scatter Plot - Cumulative Gas vs Cumalative Oil - Colored by Months Produced\")\n",
    "\n",
    "        sns.scatterplot(pro[\"MoProd\"], pro[\"CumLiq\"], s = 150, hue = pro[\"OpAlias\"], ax = prodAx[1])\n",
    "        prodAx[1].set_title(\"Cumaltive Oil vs. Months Produced - Colored by Operator\")\n",
    "\n",
    "        sns.scatterplot(pro[\"MoProd\"], pro[\"CumGas\"], s = 150, hue = pro[\"OpAlias\"], ax = prodAx[2])\n",
    "        prodAx[2].set_title(\"Cumalative Gas vs. Months Produced - Colored by Operator\")\n",
    "        \n",
    "        dashProd.tight_layout()\n",
    "        dashProd.suptitle(\"Production Dashboard for tract {}\".format(tractNum), y = 1.03, fontsize = 20, fontweight = 15)\n",
    "\n",
    "        return dashProd"
   ]
  },
  {
   "cell_type": "code",
   "execution_count": null,
   "metadata": {},
   "outputs": [],
   "source": [
    "def createOldProdDash(OldProd, tractNum):\n",
    "    \n",
    "    if len(OldProd)>0:\n",
    "        \n",
    "        #retrieving boundary of tract to look at wells wtihin and outside of tract\n",
    "        #tractshp must be a global variable in the script\n",
    "        tractBoundary = tractshp.loc[tractshp[\"tract_id\"]==tractNum][\"geometry\"].iloc[0]\n",
    "\n",
    "        outsideTract = OldProd.loc[~OldProd.within(tractBoundary)]\n",
    "        insideTract = OldProd.loc[OldProd.within(tractBoundary)]\n",
    "\n",
    "        #Creating plots for wells outside of tract\n",
    "        fig1, ax1 = plt.subplots(4,1, figsize = (16,20))\n",
    "\n",
    "        sns.scatterplot(outsideTract[\"MoProd\"], outsideTract[\"CumLiq\"], s = 150, palette = \"rainbow\", hue = outsideTract[\"TD\"], ax = ax1[0])\n",
    "        ax1[0].set_title(\"Cumulative Oil vs. Months Produced\")\n",
    "\n",
    "        sns.scatterplot(outsideTract[\"MoProd\"], outsideTract[\"CumGas\"], s = 150, palette = \"rainbow\", hue = outsideTract[\"TD\"], ax = ax1[1])\n",
    "        ax1[1].set_title(\"Cumulative Gas vs. Months Produced\")\n",
    "        ax1[1].grid()\n",
    "\n",
    "        keyProdTypes = [\"OIL\", \"GAS\", \"DRY\", \"DRY HOLE\", \"CBM\"]\n",
    "        sns.countplot(outsideTract[\"ProdType\"].loc[outsideTract[\"ProdType\"].isin(keyProdTypes)], ax = ax1[2])\n",
    "        ax1[2].set_title(\"Production Types Around Tract\")\n",
    "\n",
    "        keyProdStatus = \"ACTIVE, INACTIVE, SHUT-IN, SHUT IN, P&A, P & A, PLUGGED\".split(', ')\n",
    "        sns.countplot(outsideTract[\"ProdStatus\"].loc[outsideTract[\"ProdStatus\"].isin(keyProdStatus)], ax=ax1[3])\n",
    "        ax1[3].set(title = \"Status of Wells\")\n",
    "\n",
    "        fig1.suptitle(\"Old Production Outside of Tract {} - 3 Mi Radius\".format(tractNum), y = 1.03, fontsize = 20, fontweight = 15)\n",
    "\n",
    "        fig1.tight_layout()\n",
    "        \n",
    "        #Creating plots for wells within tract, if there are any\n",
    "\n",
    "        if len(insideTract) > 0:\n",
    "\n",
    "            fig2, ax2 = plt.subplots(3,1, figsize = (16,20))\n",
    "\n",
    "            keyProdTypes = [\"OIL\", \"GAS\", \"DRY\", \"DRY HOLE\", \"CBM\"]\n",
    "            sns.countplot(insideTract[\"ProdType\"].loc[insideTract[\"ProdType\"].isin(keyProdTypes)], ax = ax2[0])\n",
    "            ax2[0].set_title(\"Production Types Around Tract\")\n",
    "\n",
    "            sns.scatterplot(insideTract[\"MoProd\"], insideTract[\"CumLiq\"], s = 150, palette = \"rainbow\", hue = insideTract[\"TD\"], ax = ax2[1])\n",
    "            ax2[1].set_title(\"Cumulative Oil vs. Months Produced\")\n",
    "\n",
    "            sns.scatterplot(insideTract[\"MoProd\"], insideTract[\"CumGas\"], s = 150, palette = \"rainbow\", hue = insideTract[\"TD\"], ax = ax2[2])\n",
    "            ax2[2].set_title(\"Cumulative Gas vs. Months Produced\")\n",
    "            ax2[2].grid()\n",
    "\n",
    "            fig2.suptitle(\"Old Production Inside of Tract {} - 3 Mi Radius\".format(tractNum), y = 1.03, fontsize = 20, fontweight = 15)\n",
    "            fig2.tight_layout()\n",
    "\n",
    "            return fig1, fig2\n",
    "\n",
    "        return fig1"
   ]
  },
  {
   "cell_type": "code",
   "execution_count": null,
   "metadata": {},
   "outputs": [],
   "source": [
    "#Test Tract\n",
    "a,b,c,d = getActivityData(16)\n",
    "\n",
    "writeOldProdSummary(d, 16)\n",
    "createOldProdDash(d,16)"
   ]
  },
  {
   "cell_type": "code",
   "execution_count": null,
   "metadata": {},
   "outputs": [],
   "source": [
    "# #test loop\n",
    "\n",
    "# perdashboard = []\n",
    "# proddashboard = []\n",
    "# leasedashboard = []\n",
    "\n",
    "# for i in range(15,17):\n",
    "    \n",
    "#     tract = tractshp[\"tract_id\"].iloc[i]\n",
    "    \n",
    "#     a, b, c, d = prepareTractFilter(tract)\n",
    "    \n",
    "#     perdashboard.append(createPermitDash(a,tract))\n",
    "#     proddashboard.append(createProdDash(b, tract))\n",
    "#     leasedashboard.append(createLeasesDash(c, tract))\n",
    "    \n",
    "    \n"
   ]
  },
  {
   "cell_type": "markdown",
   "metadata": {},
   "source": [
    "## Running summary functions in loop to get summaries for all tracts"
   ]
  },
  {
   "cell_type": "code",
   "execution_count": null,
   "metadata": {},
   "outputs": [],
   "source": [
    "#creating empty array to append summaries to for each tract\n",
    "summaryPermits = []\n",
    "summaryProd = []\n",
    "summaryLeases = []\n",
    "summaryOldProd = []\n",
    "\n",
    "#creating arrays to append visual plots for each tract\n",
    "perdashboard = []\n",
    "proddashboard = []\n",
    "leasedashboard = []\n",
    "oldproddashboard = []\n",
    "\n",
    "#looping through each tract id and creating filtered geospatial data, activity summaries, and visualizaiton plots\n",
    "for i in tractshp[\"tract_id\"]:\n",
    "    perm, prod, leases, oldprodtoeval = getActivityData(i) \n",
    "    \n",
    "    try:\n",
    "        summaryPermits.append(writePermitSummary(perm))\n",
    "    except:\n",
    "        summaryPermits.append(\"error occured\")\n",
    "        \n",
    "    try:\n",
    "        summaryProd.append(writeProdSummary(prod))\n",
    "    except:\n",
    "        summaryProd.append(\"error occured\")\n",
    "        \n",
    "    try:\n",
    "        summaryLeases.append(writeLeaseSummary(leases))\n",
    "    except: \n",
    "        summaryLeases.append(\"error occured\")\n",
    "\n",
    "    try:\n",
    "        summaryOldProd.append(writeOldProdSummary(oldprodtoeval, i))\n",
    "    except: \n",
    "        summaryOldProd.append(\"error occured\")\n",
    "\n",
    "    #appending visualizaiton plots to list    \n",
    "    perdashboard.append(createPermitDash(perm,i))\n",
    "    proddashboard.append(createProdDash(prod, i))\n",
    "    leasedashboard.append(createLeasesDash(leases, i))  \n",
    "    oldproddashboard.append(createOldProdDash(oldprodtoeval, i))\n",
    "    "
   ]
  },
  {
   "cell_type": "markdown",
   "metadata": {},
   "source": [
    "### Appending Results of mass loop of applying summary functions and visualization plots"
   ]
  },
  {
   "cell_type": "code",
   "execution_count": null,
   "metadata": {},
   "outputs": [],
   "source": [
    "#appending columns to tract list with summaries for each data type (old prod, leases, permits, new production)\n",
    "tractshp[\"Permit Summary\"] = summaryPermits\n",
    "\n",
    "tractshp[\"Leases Summary\"] = summaryLeases\n",
    "\n",
    "tractshp[\"Old Production Summary\"] = summaryOldProd\n",
    "\n",
    "tractshp[\"Recent Prod Summary\"] = summaryProd\n"
   ]
  },
  {
   "cell_type": "code",
   "execution_count": null,
   "metadata": {},
   "outputs": [],
   "source": [
    "tractshp"
   ]
  },
  {
   "cell_type": "markdown",
   "metadata": {},
   "source": [
    "### Writing Summary Results to File"
   ]
  },
  {
   "cell_type": "code",
   "execution_count": null,
   "metadata": {},
   "outputs": [],
   "source": [
    "#saving activity notes in an excel file in the results folder - dropping geopandas required geo cols\n",
    "tractshp.drop(columns = \"geometry centroids buffers\".split(\" \")).to_excel(\"Results/Activity Summary Notes.xlsx\")"
   ]
  },
  {
   "cell_type": "code",
   "execution_count": null,
   "metadata": {},
   "outputs": [],
   "source": [
    "#zipping individual corresponding plots for each tract into one master list\n",
    "MasterDash = list(zip(perdashboard, proddashboard, leasedashboard, oldproddashboard))"
   ]
  },
  {
   "cell_type": "code",
   "execution_count": null,
   "metadata": {},
   "outputs": [],
   "source": [
    "for item in MasterDash:\n",
    "    for figures in item:\n",
    "        figures"
   ]
  },
  {
   "cell_type": "code",
   "execution_count": null,
   "metadata": {},
   "outputs": [],
   "source": [
    "#saving visualizations in results subfolder called viz\n",
    "import matplotlib.backends.backend_pdf\n",
    "pdf = matplotlib.backends.backend_pdf.PdfPages(\"Results/Permits Leases and Prod Visualizations.pdf\")\n",
    "\n",
    "#loooping through each set of figures for each tract, saving them to pdf\n",
    "for items in MasterDash:\n",
    "    for fig in items: \n",
    "        try:\n",
    "            #bbox = tight is to make sure plot titles aren't cut off that have been shifted up\n",
    "            pdf.savefig(fig, bbox_inches='tight')\n",
    "        except:\n",
    "            print(\"Error Occured - Most likely null figure\")\n",
    "        \n",
    "pdf.close()\n"
   ]
  }
 ],
 "metadata": {
  "kernelspec": {
   "display_name": "Python 3",
   "language": "python",
   "name": "python3"
  },
  "language_info": {
   "codemirror_mode": {
    "name": "ipython",
    "version": 3
   },
   "file_extension": ".py",
   "mimetype": "text/x-python",
   "name": "python",
   "nbconvert_exporter": "python",
   "pygments_lexer": "ipython3",
   "version": "3.6.10"
  }
 },
 "nbformat": 4,
 "nbformat_minor": 2
}
